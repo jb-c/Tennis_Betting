{
 "cells": [
  {
   "cell_type": "markdown",
   "metadata": {},
   "source": [
    "## Setup"
   ]
  },
  {
   "cell_type": "code",
   "execution_count": 1,
   "metadata": {},
   "outputs": [],
   "source": [
    "import pandas as pd\n",
    "import numpy as np\n",
    "import pickle\n",
    "import xgboost as xgb\n",
    "import matplotlib.pyplot as plt"
   ]
  },
  {
   "cell_type": "markdown",
   "metadata": {},
   "source": [
    "## Load in Saved XGBoost Model & Data"
   ]
  },
  {
   "cell_type": "code",
   "execution_count": 2,
   "metadata": {},
   "outputs": [],
   "source": [
    "# Load in trained model\n",
    "bst = pickle.load(open(\"../3. ML/bst.pickle.dat\", \"rb\"))"
   ]
  },
  {
   "cell_type": "code",
   "execution_count": 3,
   "metadata": {},
   "outputs": [],
   "source": [
    "df = pd.read_csv('../data/formatted_mens.csv',header=0,parse_dates=[\"Date\"])\n",
    "df.dropna(inplace=True)\n",
    "\n",
    "categorical_cols = ['Tournament', 'Court', 'Surface', 'Round', 'A', 'B']\n",
    "df = pd.get_dummies(df,columns=categorical_cols,drop_first=True)"
   ]
  },
  {
   "cell_type": "code",
   "execution_count": 4,
   "metadata": {},
   "outputs": [
    {
     "name": "stdout",
     "output_type": "stream",
     "text": [
      "['Date', 'y']\n",
      "[]\n"
     ]
    }
   ],
   "source": [
    "df[['Date','y']+bst.feature_names].sort_values(by='Date',inplace=True) #Match model feature labels\n",
    "\n",
    "## Check we have no missing or extra features\n",
    "print([c for c in df.columns if c not in bst.feature_names]) # Should be date & y\n",
    "print([c for c in bst.feature_names if c not in df.columns]) # Should be empty"
   ]
  },
  {
   "cell_type": "code",
   "execution_count": 5,
   "metadata": {},
   "outputs": [],
   "source": [
    "split_time = pd.to_datetime('2018-01-01') # SAME SPLIT FROM ML EXPLORING\n",
    "df = df.loc[df['Date']>=split_time]"
   ]
  },
  {
   "cell_type": "markdown",
   "metadata": {},
   "source": [
    "## Make Predictions"
   ]
  },
  {
   "cell_type": "code",
   "execution_count": 6,
   "metadata": {},
   "outputs": [],
   "source": [
    "d = xgb.DMatrix(df.drop(columns=['Date','y']), label=df['y'])\n",
    "df['prediction'] = bst.predict(d)"
   ]
  },
  {
   "cell_type": "code",
   "execution_count": 7,
   "metadata": {},
   "outputs": [
    {
     "data": {
      "text/html": [
       "<div>\n",
       "<style scoped>\n",
       "    .dataframe tbody tr th:only-of-type {\n",
       "        vertical-align: middle;\n",
       "    }\n",
       "\n",
       "    .dataframe tbody tr th {\n",
       "        vertical-align: top;\n",
       "    }\n",
       "\n",
       "    .dataframe thead th {\n",
       "        text-align: right;\n",
       "    }\n",
       "</style>\n",
       "<table border=\"1\" class=\"dataframe\">\n",
       "  <thead>\n",
       "    <tr style=\"text-align: right;\">\n",
       "      <th></th>\n",
       "      <th>Date</th>\n",
       "      <th>A_rank</th>\n",
       "      <th>B_rank</th>\n",
       "      <th>APts</th>\n",
       "      <th>BPts</th>\n",
       "      <th>A_Max</th>\n",
       "      <th>B_Max</th>\n",
       "      <th>A_Avg</th>\n",
       "      <th>B_Avg</th>\n",
       "      <th>A_hist_form</th>\n",
       "      <th>...</th>\n",
       "      <th>B_Zhang Ze</th>\n",
       "      <th>B_Zhang Ze.</th>\n",
       "      <th>B_Zhang Zh.</th>\n",
       "      <th>B_Ziadi M.</th>\n",
       "      <th>B_Zopp J.</th>\n",
       "      <th>B_Zverev A.</th>\n",
       "      <th>B_Zverev M.</th>\n",
       "      <th>prediction</th>\n",
       "      <th>betting_direction</th>\n",
       "      <th>correct</th>\n",
       "    </tr>\n",
       "  </thead>\n",
       "  <tbody>\n",
       "    <tr>\n",
       "      <th>44664</th>\n",
       "      <td>2018-01-01</td>\n",
       "      <td>47.0</td>\n",
       "      <td>52.0</td>\n",
       "      <td>1010.0</td>\n",
       "      <td>909.0</td>\n",
       "      <td>1.75</td>\n",
       "      <td>2.35</td>\n",
       "      <td>1.67</td>\n",
       "      <td>2.17</td>\n",
       "      <td>0.50</td>\n",
       "      <td>...</td>\n",
       "      <td>0</td>\n",
       "      <td>0</td>\n",
       "      <td>0</td>\n",
       "      <td>0</td>\n",
       "      <td>0</td>\n",
       "      <td>0</td>\n",
       "      <td>0</td>\n",
       "      <td>0.493191</td>\n",
       "      <td>0</td>\n",
       "      <td>False</td>\n",
       "    </tr>\n",
       "    <tr>\n",
       "      <th>44665</th>\n",
       "      <td>2018-01-01</td>\n",
       "      <td>76.0</td>\n",
       "      <td>79.0</td>\n",
       "      <td>670.0</td>\n",
       "      <td>662.0</td>\n",
       "      <td>2.52</td>\n",
       "      <td>1.65</td>\n",
       "      <td>2.37</td>\n",
       "      <td>1.58</td>\n",
       "      <td>0.50</td>\n",
       "      <td>...</td>\n",
       "      <td>0</td>\n",
       "      <td>0</td>\n",
       "      <td>0</td>\n",
       "      <td>0</td>\n",
       "      <td>0</td>\n",
       "      <td>0</td>\n",
       "      <td>0</td>\n",
       "      <td>0.393546</td>\n",
       "      <td>0</td>\n",
       "      <td>False</td>\n",
       "    </tr>\n",
       "    <tr>\n",
       "      <th>44666</th>\n",
       "      <td>2018-01-01</td>\n",
       "      <td>218.0</td>\n",
       "      <td>33.0</td>\n",
       "      <td>235.0</td>\n",
       "      <td>1302.0</td>\n",
       "      <td>3.00</td>\n",
       "      <td>1.57</td>\n",
       "      <td>2.73</td>\n",
       "      <td>1.44</td>\n",
       "      <td>0.50</td>\n",
       "      <td>...</td>\n",
       "      <td>0</td>\n",
       "      <td>0</td>\n",
       "      <td>0</td>\n",
       "      <td>0</td>\n",
       "      <td>0</td>\n",
       "      <td>0</td>\n",
       "      <td>1</td>\n",
       "      <td>0.403896</td>\n",
       "      <td>0</td>\n",
       "      <td>True</td>\n",
       "    </tr>\n",
       "    <tr>\n",
       "      <th>44667</th>\n",
       "      <td>2018-01-01</td>\n",
       "      <td>66.0</td>\n",
       "      <td>120.0</td>\n",
       "      <td>768.0</td>\n",
       "      <td>498.0</td>\n",
       "      <td>2.38</td>\n",
       "      <td>1.75</td>\n",
       "      <td>2.20</td>\n",
       "      <td>1.66</td>\n",
       "      <td>0.50</td>\n",
       "      <td>...</td>\n",
       "      <td>0</td>\n",
       "      <td>0</td>\n",
       "      <td>0</td>\n",
       "      <td>0</td>\n",
       "      <td>0</td>\n",
       "      <td>0</td>\n",
       "      <td>0</td>\n",
       "      <td>0.416970</td>\n",
       "      <td>0</td>\n",
       "      <td>False</td>\n",
       "    </tr>\n",
       "    <tr>\n",
       "      <th>44668</th>\n",
       "      <td>2018-01-01</td>\n",
       "      <td>54.0</td>\n",
       "      <td>94.0</td>\n",
       "      <td>890.0</td>\n",
       "      <td>593.0</td>\n",
       "      <td>2.00</td>\n",
       "      <td>2.02</td>\n",
       "      <td>1.89</td>\n",
       "      <td>1.89</td>\n",
       "      <td>0.50</td>\n",
       "      <td>...</td>\n",
       "      <td>0</td>\n",
       "      <td>0</td>\n",
       "      <td>0</td>\n",
       "      <td>0</td>\n",
       "      <td>0</td>\n",
       "      <td>0</td>\n",
       "      <td>0</td>\n",
       "      <td>0.508752</td>\n",
       "      <td>1</td>\n",
       "      <td>True</td>\n",
       "    </tr>\n",
       "    <tr>\n",
       "      <th>...</th>\n",
       "      <td>...</td>\n",
       "      <td>...</td>\n",
       "      <td>...</td>\n",
       "      <td>...</td>\n",
       "      <td>...</td>\n",
       "      <td>...</td>\n",
       "      <td>...</td>\n",
       "      <td>...</td>\n",
       "      <td>...</td>\n",
       "      <td>...</td>\n",
       "      <td>...</td>\n",
       "      <td>...</td>\n",
       "      <td>...</td>\n",
       "      <td>...</td>\n",
       "      <td>...</td>\n",
       "      <td>...</td>\n",
       "      <td>...</td>\n",
       "      <td>...</td>\n",
       "      <td>...</td>\n",
       "      <td>...</td>\n",
       "      <td>...</td>\n",
       "    </tr>\n",
       "    <tr>\n",
       "      <th>50582</th>\n",
       "      <td>2020-11-20</td>\n",
       "      <td>7.0</td>\n",
       "      <td>1.0</td>\n",
       "      <td>5525.0</td>\n",
       "      <td>11830.0</td>\n",
       "      <td>3.92</td>\n",
       "      <td>1.35</td>\n",
       "      <td>3.52</td>\n",
       "      <td>1.31</td>\n",
       "      <td>0.40</td>\n",
       "      <td>...</td>\n",
       "      <td>0</td>\n",
       "      <td>0</td>\n",
       "      <td>0</td>\n",
       "      <td>0</td>\n",
       "      <td>0</td>\n",
       "      <td>0</td>\n",
       "      <td>0</td>\n",
       "      <td>0.247224</td>\n",
       "      <td>0</td>\n",
       "      <td>True</td>\n",
       "    </tr>\n",
       "    <tr>\n",
       "      <th>50583</th>\n",
       "      <td>2020-11-20</td>\n",
       "      <td>9.0</td>\n",
       "      <td>4.0</td>\n",
       "      <td>3455.0</td>\n",
       "      <td>6970.0</td>\n",
       "      <td>4.00</td>\n",
       "      <td>1.40</td>\n",
       "      <td>3.60</td>\n",
       "      <td>1.29</td>\n",
       "      <td>0.00</td>\n",
       "      <td>...</td>\n",
       "      <td>0</td>\n",
       "      <td>0</td>\n",
       "      <td>0</td>\n",
       "      <td>0</td>\n",
       "      <td>0</td>\n",
       "      <td>0</td>\n",
       "      <td>0</td>\n",
       "      <td>0.196349</td>\n",
       "      <td>0</td>\n",
       "      <td>True</td>\n",
       "    </tr>\n",
       "    <tr>\n",
       "      <th>50584</th>\n",
       "      <td>2020-11-21</td>\n",
       "      <td>3.0</td>\n",
       "      <td>1.0</td>\n",
       "      <td>9125.0</td>\n",
       "      <td>11830.0</td>\n",
       "      <td>2.70</td>\n",
       "      <td>1.66</td>\n",
       "      <td>2.47</td>\n",
       "      <td>1.56</td>\n",
       "      <td>0.30</td>\n",
       "      <td>...</td>\n",
       "      <td>0</td>\n",
       "      <td>0</td>\n",
       "      <td>0</td>\n",
       "      <td>0</td>\n",
       "      <td>0</td>\n",
       "      <td>0</td>\n",
       "      <td>0</td>\n",
       "      <td>0.384299</td>\n",
       "      <td>0</td>\n",
       "      <td>False</td>\n",
       "    </tr>\n",
       "    <tr>\n",
       "      <th>50585</th>\n",
       "      <td>2020-11-21</td>\n",
       "      <td>4.0</td>\n",
       "      <td>2.0</td>\n",
       "      <td>6970.0</td>\n",
       "      <td>9850.0</td>\n",
       "      <td>1.95</td>\n",
       "      <td>2.20</td>\n",
       "      <td>1.80</td>\n",
       "      <td>2.04</td>\n",
       "      <td>0.00</td>\n",
       "      <td>...</td>\n",
       "      <td>0</td>\n",
       "      <td>0</td>\n",
       "      <td>0</td>\n",
       "      <td>0</td>\n",
       "      <td>0</td>\n",
       "      <td>0</td>\n",
       "      <td>0</td>\n",
       "      <td>0.569718</td>\n",
       "      <td>1</td>\n",
       "      <td>True</td>\n",
       "    </tr>\n",
       "    <tr>\n",
       "      <th>50586</th>\n",
       "      <td>2020-11-22</td>\n",
       "      <td>3.0</td>\n",
       "      <td>4.0</td>\n",
       "      <td>9125.0</td>\n",
       "      <td>6970.0</td>\n",
       "      <td>2.40</td>\n",
       "      <td>1.85</td>\n",
       "      <td>2.26</td>\n",
       "      <td>1.66</td>\n",
       "      <td>0.75</td>\n",
       "      <td>...</td>\n",
       "      <td>0</td>\n",
       "      <td>0</td>\n",
       "      <td>0</td>\n",
       "      <td>0</td>\n",
       "      <td>0</td>\n",
       "      <td>0</td>\n",
       "      <td>0</td>\n",
       "      <td>0.460715</td>\n",
       "      <td>0</td>\n",
       "      <td>True</td>\n",
       "    </tr>\n",
       "  </tbody>\n",
       "</table>\n",
       "<p>5922 rows × 1411 columns</p>\n",
       "</div>"
      ],
      "text/plain": [
       "            Date  A_rank  B_rank    APts     BPts  A_Max  B_Max  A_Avg  B_Avg  \\\n",
       "44664 2018-01-01    47.0    52.0  1010.0    909.0   1.75   2.35   1.67   2.17   \n",
       "44665 2018-01-01    76.0    79.0   670.0    662.0   2.52   1.65   2.37   1.58   \n",
       "44666 2018-01-01   218.0    33.0   235.0   1302.0   3.00   1.57   2.73   1.44   \n",
       "44667 2018-01-01    66.0   120.0   768.0    498.0   2.38   1.75   2.20   1.66   \n",
       "44668 2018-01-01    54.0    94.0   890.0    593.0   2.00   2.02   1.89   1.89   \n",
       "...          ...     ...     ...     ...      ...    ...    ...    ...    ...   \n",
       "50582 2020-11-20     7.0     1.0  5525.0  11830.0   3.92   1.35   3.52   1.31   \n",
       "50583 2020-11-20     9.0     4.0  3455.0   6970.0   4.00   1.40   3.60   1.29   \n",
       "50584 2020-11-21     3.0     1.0  9125.0  11830.0   2.70   1.66   2.47   1.56   \n",
       "50585 2020-11-21     4.0     2.0  6970.0   9850.0   1.95   2.20   1.80   2.04   \n",
       "50586 2020-11-22     3.0     4.0  9125.0   6970.0   2.40   1.85   2.26   1.66   \n",
       "\n",
       "       A_hist_form  ...  B_Zhang Ze  B_Zhang Ze.  B_Zhang Zh.  B_Ziadi M.  \\\n",
       "44664         0.50  ...           0            0            0           0   \n",
       "44665         0.50  ...           0            0            0           0   \n",
       "44666         0.50  ...           0            0            0           0   \n",
       "44667         0.50  ...           0            0            0           0   \n",
       "44668         0.50  ...           0            0            0           0   \n",
       "...            ...  ...         ...          ...          ...         ...   \n",
       "50582         0.40  ...           0            0            0           0   \n",
       "50583         0.00  ...           0            0            0           0   \n",
       "50584         0.30  ...           0            0            0           0   \n",
       "50585         0.00  ...           0            0            0           0   \n",
       "50586         0.75  ...           0            0            0           0   \n",
       "\n",
       "       B_Zopp J.  B_Zverev A.  B_Zverev M.  prediction  betting_direction  \\\n",
       "44664          0            0            0    0.493191                  0   \n",
       "44665          0            0            0    0.393546                  0   \n",
       "44666          0            0            1    0.403896                  0   \n",
       "44667          0            0            0    0.416970                  0   \n",
       "44668          0            0            0    0.508752                  1   \n",
       "...          ...          ...          ...         ...                ...   \n",
       "50582          0            0            0    0.247224                  0   \n",
       "50583          0            0            0    0.196349                  0   \n",
       "50584          0            0            0    0.384299                  0   \n",
       "50585          0            0            0    0.569718                  1   \n",
       "50586          0            0            0    0.460715                  0   \n",
       "\n",
       "       correct  \n",
       "44664    False  \n",
       "44665    False  \n",
       "44666     True  \n",
       "44667    False  \n",
       "44668     True  \n",
       "...        ...  \n",
       "50582     True  \n",
       "50583     True  \n",
       "50584    False  \n",
       "50585     True  \n",
       "50586     True  \n",
       "\n",
       "[5922 rows x 1411 columns]"
      ]
     },
     "execution_count": 7,
     "metadata": {},
     "output_type": "execute_result"
    }
   ],
   "source": [
    "df['betting_direction'] = (df['prediction'] > 0.5).astype('uint8')\n",
    "df['correct'] = df['betting_direction'] == df['y']\n",
    "df"
   ]
  },
  {
   "cell_type": "code",
   "execution_count": 8,
   "metadata": {},
   "outputs": [
    {
     "data": {
      "text/plain": [
       "0.6769672407970281"
      ]
     },
     "execution_count": 8,
     "metadata": {},
     "output_type": "execute_result"
    }
   ],
   "source": [
    "predictions_df = df.loc[:,['prediction','correct']]\n",
    "df['correct'].mean()"
   ]
  },
  {
   "cell_type": "code",
   "execution_count": 9,
   "metadata": {},
   "outputs": [
    {
     "data": {
      "text/plain": [
       "Text(0, 0.5, 'Accuracy')"
      ]
     },
     "execution_count": 9,
     "metadata": {},
     "output_type": "execute_result"
    },
    {
     "data": {
      "image/png": "[encoded data removed]",
      "text/plain": [
       "<Figure size 432x288 with 1 Axes>"
      ]
     },
     "metadata": {
      "needs_background": "light"
     },
     "output_type": "display_data"
    }
   ],
   "source": [
    "confident_accuracies = []\n",
    "for p_threshold in np.linspace(0.5,1):\n",
    "    accuracy = predictions_df[(predictions_df.prediction>p_threshold) | (predictions_df.prediction<1-p_threshold)]['correct'].mean()\n",
    "    confident_accuracies.append(accuracy)\n",
    "\n",
    "plt.plot(np.linspace(0.5,1),confident_accuracies)\n",
    "plt.title('Model Accuracy (on test data)')\n",
    "plt.xlabel('Confidence Threshold')\n",
    "plt.ylabel('Accuracy')"
   ]
  },
  {
   "cell_type": "code",
   "execution_count": 10,
   "metadata": {},
   "outputs": [],
   "source": [
    "use_best_odds = True\n",
    "\n",
    "if use_best_odds:\n",
    "    df[['A_odds','B_odds']] = df[['A_Max','B_Max']]\n",
    "else:\n",
    "    df[['A_odds','B_odds']] = df[['A_Avg','B_Avg']]"
   ]
  },
  {
   "cell_type": "markdown",
   "metadata": {},
   "source": [
    "## Hedging Strategy"
   ]
  },
  {
   "cell_type": "markdown",
   "metadata": {},
   "source": [
    "Given a prediction which we have p confidence in, how much should we hedge? Well betting $\\frac{\\alpha}{\\alpha+\\beta}$ will give $\\mathbb{E}\\left[returns\\right]=0$ and var(returns)=0. So we should hedge $h \\in [0,\\frac{\\alpha}{\\alpha+\\beta}]$"
   ]
  },
  {
   "cell_type": "code",
   "execution_count": 11,
   "metadata": {},
   "outputs": [
    {
     "data": {
      "text/plain": [
       "Text(0, 0.5, 'h')"
      ]
     },
     "execution_count": 11,
     "metadata": {},
     "output_type": "execute_result"
    },
    {
     "data": {
      "image/png": "[encoded data removed]",
      "text/plain": [
       "<Figure size 432x288 with 1 Axes>"
      ]
     },
     "metadata": {
      "needs_background": "light"
     },
     "output_type": "display_data"
    }
   ],
   "source": [
    "for h_coeff in [0.1,0.25,0.5,0.75,1,1.25,2,3,5]:\n",
    "    x = np.linspace(0.5,1)\n",
    "    y = 1-(2*x-1)**h_coeff\n",
    "    plt.plot(x,y,label=h_coeff)\n",
    "plt.legend()\n",
    "plt.title(\"Hedge Amount\")\n",
    "plt.xlabel('p')\n",
    "plt.ylabel('h')"
   ]
  },
  {
   "cell_type": "markdown",
   "metadata": {},
   "source": [
    "Tweaking the 'hedge_coefficient' allows us to select a nice hedging profile, as in the picture above"
   ]
  },
  {
   "cell_type": "code",
   "execution_count": 12,
   "metadata": {},
   "outputs": [],
   "source": [
    "hedge_coefficient = 1\n",
    "def hedge_curve(p):\n",
    "    return (1-(2*p-1)**hedge_coefficient)"
   ]
  },
  {
   "cell_type": "code",
   "execution_count": 13,
   "metadata": {},
   "outputs": [],
   "source": [
    "min_hedge_amount = 0.25\n",
    "max_hedge_amount = 0.9\n",
    "def hedge_amount(alpha,beta,p):\n",
    "    if p < 0.5:\n",
    "        return hedge_amount(beta,alpha,1-p) # betting other way\n",
    "    else:\n",
    "        largest_sensible_hedge_amount = min((2/(1+beta)),(alpha-1)/(alpha+1)) # Most we can hedge to still be profitable & not rather bet other way\n",
    "        return np.clip(largest_sensible_hedge_amount * hedge_curve(p),min_hedge_amount,max_hedge_amount)\n",
    "    \n",
    "hedge_amount_vectorized = np.vectorize(hedge_amount)"
   ]
  },
  {
   "cell_type": "code",
   "execution_count": 14,
   "metadata": {},
   "outputs": [
    {
     "data": {
      "text/plain": [
       "Text(0.5, 1.0, 'Hedge Proportion')"
      ]
     },
     "execution_count": 14,
     "metadata": {},
     "output_type": "execute_result"
    },
    {
     "data": {
      "image/png": "[encoded data removed]",
      "text/plain": [
       "<Figure size 432x288 with 1 Axes>"
      ]
     },
     "metadata": {
      "needs_background": "light"
     },
     "output_type": "display_data"
    }
   ],
   "source": [
    "df['h'] = hedge_amount_vectorized(df['A_odds'],df['B_odds'],df['prediction'])\n",
    "\n",
    "plt.plot(df['h'])\n",
    "plt.title(\"Hedge Proportion\")"
   ]
  },
  {
   "cell_type": "markdown",
   "metadata": {},
   "source": [
    "## Calculating Returns and Other Stats"
   ]
  },
  {
   "cell_type": "markdown",
   "metadata": {},
   "source": [
    "For each bet we make we allocate a unit on the bet+hedge."
   ]
  },
  {
   "cell_type": "code",
   "execution_count": 15,
   "metadata": {},
   "outputs": [],
   "source": [
    "def actual_return_or_loss(alpha,beta,p,h):\n",
    "    if p<0.5:\n",
    "        return actual_return_or_loss(beta,alpha,1-p,h)\n",
    "    else:\n",
    "        return alpha*(1-h)-h , beta*h-(1-h)\n",
    "\n",
    "actual_return_or_loss_vectorised = np.vectorize(actual_return_or_loss)"
   ]
  },
  {
   "cell_type": "code",
   "execution_count": 16,
   "metadata": {},
   "outputs": [],
   "source": [
    "df['return_if_we_win_hedged'],df['return_if_we_lose_hedged'] = actual_return_or_loss_vectorised(df['A_odds'],df['B_odds'],df['prediction'],df['h'])\n",
    "df['return'] = np.where(df['correct'],df['return_if_we_win_hedged'],df['return_if_we_lose_hedged'])"
   ]
  },
  {
   "cell_type": "code",
   "execution_count": 17,
   "metadata": {},
   "outputs": [],
   "source": [
    "p = np.where(df['prediction']>0.5,df['prediction'],1-df['prediction'])\n",
    "df['E'] = df['return_if_we_win_hedged']*p + df['return_if_we_lose_hedged']*(1-p)\n",
    "df['var'] = (df['return_if_we_win_hedged']**2)*p + (df['return_if_we_lose_hedged']**2)*(1-p) - df['E']**2"
   ]
  },
  {
   "cell_type": "markdown",
   "metadata": {},
   "source": [
    "## Deciding When To Bet"
   ]
  },
  {
   "cell_type": "code",
   "execution_count": 18,
   "metadata": {},
   "outputs": [],
   "source": [
    "def should_we_bet(alpha,beta,p):\n",
    "    if p < 0.5:\n",
    "        return 1/beta < 1-p\n",
    "    else:\n",
    "        return 1/alpha < p\n",
    "    \n",
    "should_we_bet_vectorised = np.vectorize(should_we_bet)"
   ]
  },
  {
   "cell_type": "code",
   "execution_count": 19,
   "metadata": {},
   "outputs": [],
   "source": [
    "p = np.where(df['prediction']>0.5,df['prediction'],1-df['prediction'])\n",
    "df['make_bet'] = should_we_bet_vectorised(df['A_odds'],df['B_odds'],df['prediction']) & (1<df['return_if_we_win_hedged'])"
   ]
  },
  {
   "cell_type": "code",
   "execution_count": 42,
   "metadata": {},
   "outputs": [],
   "source": [
    "inside = (np.minimum(1/df['A_odds'],1-1/df['B_odds']) < df['prediction']) & (df['prediction']< np.maximum(1/df['A_odds'],1-1/df['B_odds']))"
   ]
  },
  {
   "cell_type": "code",
   "execution_count": 51,
   "metadata": {},
   "outputs": [
    {
     "data": {
      "text/html": [
       "<div>\n",
       "<style scoped>\n",
       "    .dataframe tbody tr th:only-of-type {\n",
       "        vertical-align: middle;\n",
       "    }\n",
       "\n",
       "    .dataframe tbody tr th {\n",
       "        vertical-align: top;\n",
       "    }\n",
       "\n",
       "    .dataframe thead th {\n",
       "        text-align: right;\n",
       "    }\n",
       "</style>\n",
       "<table border=\"1\" class=\"dataframe\">\n",
       "  <thead>\n",
       "    <tr style=\"text-align: right;\">\n",
       "      <th></th>\n",
       "      <th>Date</th>\n",
       "      <th>A_rank</th>\n",
       "      <th>B_rank</th>\n",
       "      <th>APts</th>\n",
       "      <th>BPts</th>\n",
       "      <th>A_Max</th>\n",
       "      <th>B_Max</th>\n",
       "      <th>A_Avg</th>\n",
       "      <th>B_Avg</th>\n",
       "      <th>A_hist_form</th>\n",
       "      <th>...</th>\n",
       "      <th>correct</th>\n",
       "      <th>A_odds</th>\n",
       "      <th>B_odds</th>\n",
       "      <th>h</th>\n",
       "      <th>return_if_we_win_hedged</th>\n",
       "      <th>return_if_we_lose_hedged</th>\n",
       "      <th>return</th>\n",
       "      <th>E</th>\n",
       "      <th>var</th>\n",
       "      <th>make_bet</th>\n",
       "    </tr>\n",
       "  </thead>\n",
       "  <tbody>\n",
       "    <tr>\n",
       "      <th>44671</th>\n",
       "      <td>2018-01-02</td>\n",
       "      <td>51.0</td>\n",
       "      <td>50.0</td>\n",
       "      <td>981.0</td>\n",
       "      <td>992.0</td>\n",
       "      <td>2.20</td>\n",
       "      <td>1.90</td>\n",
       "      <td>2.08</td>\n",
       "      <td>1.74</td>\n",
       "      <td>1.000000</td>\n",
       "      <td>...</td>\n",
       "      <td>True</td>\n",
       "      <td>2.20</td>\n",
       "      <td>1.90</td>\n",
       "      <td>0.284760</td>\n",
       "      <td>1.074197</td>\n",
       "      <td>-0.088770</td>\n",
       "      <td>1.074197</td>\n",
       "      <td>0.540652</td>\n",
       "      <td>0.335825</td>\n",
       "      <td>True</td>\n",
       "    </tr>\n",
       "    <tr>\n",
       "      <th>44673</th>\n",
       "      <td>2018-01-02</td>\n",
       "      <td>137.0</td>\n",
       "      <td>128.0</td>\n",
       "      <td>404.0</td>\n",
       "      <td>436.0</td>\n",
       "      <td>3.65</td>\n",
       "      <td>1.42</td>\n",
       "      <td>3.27</td>\n",
       "      <td>1.33</td>\n",
       "      <td>0.500000</td>\n",
       "      <td>...</td>\n",
       "      <td>True</td>\n",
       "      <td>3.65</td>\n",
       "      <td>1.42</td>\n",
       "      <td>0.250000</td>\n",
       "      <td>0.815000</td>\n",
       "      <td>0.162500</td>\n",
       "      <td>0.815000</td>\n",
       "      <td>0.623472</td>\n",
       "      <td>0.088289</td>\n",
       "      <td>False</td>\n",
       "    </tr>\n",
       "    <tr>\n",
       "      <th>44679</th>\n",
       "      <td>2018-01-04</td>\n",
       "      <td>47.0</td>\n",
       "      <td>119.0</td>\n",
       "      <td>1010.0</td>\n",
       "      <td>499.0</td>\n",
       "      <td>1.44</td>\n",
       "      <td>3.64</td>\n",
       "      <td>1.34</td>\n",
       "      <td>3.21</td>\n",
       "      <td>0.500000</td>\n",
       "      <td>...</td>\n",
       "      <td>True</td>\n",
       "      <td>1.44</td>\n",
       "      <td>3.64</td>\n",
       "      <td>0.250000</td>\n",
       "      <td>0.830000</td>\n",
       "      <td>0.160000</td>\n",
       "      <td>0.830000</td>\n",
       "      <td>0.637844</td>\n",
       "      <td>0.091821</td>\n",
       "      <td>False</td>\n",
       "    </tr>\n",
       "    <tr>\n",
       "      <th>44683</th>\n",
       "      <td>2018-01-05</td>\n",
       "      <td>21.0</td>\n",
       "      <td>169.0</td>\n",
       "      <td>2010.0</td>\n",
       "      <td>315.0</td>\n",
       "      <td>1.53</td>\n",
       "      <td>3.10</td>\n",
       "      <td>1.45</td>\n",
       "      <td>2.77</td>\n",
       "      <td>1.000000</td>\n",
       "      <td>...</td>\n",
       "      <td>True</td>\n",
       "      <td>1.53</td>\n",
       "      <td>3.10</td>\n",
       "      <td>0.250000</td>\n",
       "      <td>0.897500</td>\n",
       "      <td>0.025000</td>\n",
       "      <td>0.897500</td>\n",
       "      <td>0.598507</td>\n",
       "      <td>0.171475</td>\n",
       "      <td>False</td>\n",
       "    </tr>\n",
       "    <tr>\n",
       "      <th>44684</th>\n",
       "      <td>2018-01-05</td>\n",
       "      <td>63.0</td>\n",
       "      <td>47.0</td>\n",
       "      <td>809.0</td>\n",
       "      <td>1010.0</td>\n",
       "      <td>2.10</td>\n",
       "      <td>2.05</td>\n",
       "      <td>1.92</td>\n",
       "      <td>1.88</td>\n",
       "      <td>0.500000</td>\n",
       "      <td>...</td>\n",
       "      <td>False</td>\n",
       "      <td>2.10</td>\n",
       "      <td>2.05</td>\n",
       "      <td>0.354456</td>\n",
       "      <td>1.001186</td>\n",
       "      <td>0.081092</td>\n",
       "      <td>0.081092</td>\n",
       "      <td>0.541634</td>\n",
       "      <td>0.211643</td>\n",
       "      <td>True</td>\n",
       "    </tr>\n",
       "    <tr>\n",
       "      <th>...</th>\n",
       "      <td>...</td>\n",
       "      <td>...</td>\n",
       "      <td>...</td>\n",
       "      <td>...</td>\n",
       "      <td>...</td>\n",
       "      <td>...</td>\n",
       "      <td>...</td>\n",
       "      <td>...</td>\n",
       "      <td>...</td>\n",
       "      <td>...</td>\n",
       "      <td>...</td>\n",
       "      <td>...</td>\n",
       "      <td>...</td>\n",
       "      <td>...</td>\n",
       "      <td>...</td>\n",
       "      <td>...</td>\n",
       "      <td>...</td>\n",
       "      <td>...</td>\n",
       "      <td>...</td>\n",
       "      <td>...</td>\n",
       "      <td>...</td>\n",
       "    </tr>\n",
       "    <tr>\n",
       "      <th>50547</th>\n",
       "      <td>2020-11-09</td>\n",
       "      <td>149.0</td>\n",
       "      <td>39.0</td>\n",
       "      <td>421.0</td>\n",
       "      <td>1395.0</td>\n",
       "      <td>2.23</td>\n",
       "      <td>1.63</td>\n",
       "      <td>2.42</td>\n",
       "      <td>1.70</td>\n",
       "      <td>0.500000</td>\n",
       "      <td>...</td>\n",
       "      <td>False</td>\n",
       "      <td>2.23</td>\n",
       "      <td>1.63</td>\n",
       "      <td>0.250000</td>\n",
       "      <td>0.972500</td>\n",
       "      <td>-0.192500</td>\n",
       "      <td>-0.192500</td>\n",
       "      <td>0.517121</td>\n",
       "      <td>0.323146</td>\n",
       "      <td>False</td>\n",
       "    </tr>\n",
       "    <tr>\n",
       "      <th>50566</th>\n",
       "      <td>2020-11-12</td>\n",
       "      <td>44.0</td>\n",
       "      <td>25.0</td>\n",
       "      <td>1214.0</td>\n",
       "      <td>1815.0</td>\n",
       "      <td>1.80</td>\n",
       "      <td>2.30</td>\n",
       "      <td>1.71</td>\n",
       "      <td>2.14</td>\n",
       "      <td>0.500000</td>\n",
       "      <td>...</td>\n",
       "      <td>True</td>\n",
       "      <td>1.80</td>\n",
       "      <td>2.30</td>\n",
       "      <td>0.250679</td>\n",
       "      <td>1.098098</td>\n",
       "      <td>-0.172758</td>\n",
       "      <td>1.098098</td>\n",
       "      <td>0.540587</td>\n",
       "      <td>0.397697</td>\n",
       "      <td>True</td>\n",
       "    </tr>\n",
       "    <tr>\n",
       "      <th>50567</th>\n",
       "      <td>2020-11-12</td>\n",
       "      <td>74.0</td>\n",
       "      <td>38.0</td>\n",
       "      <td>863.0</td>\n",
       "      <td>1396.0</td>\n",
       "      <td>1.71</td>\n",
       "      <td>2.46</td>\n",
       "      <td>1.62</td>\n",
       "      <td>2.30</td>\n",
       "      <td>0.500000</td>\n",
       "      <td>...</td>\n",
       "      <td>True</td>\n",
       "      <td>1.71</td>\n",
       "      <td>2.46</td>\n",
       "      <td>0.250000</td>\n",
       "      <td>1.032500</td>\n",
       "      <td>-0.135000</td>\n",
       "      <td>1.032500</td>\n",
       "      <td>0.553366</td>\n",
       "      <td>0.329820</td>\n",
       "      <td>True</td>\n",
       "    </tr>\n",
       "    <tr>\n",
       "      <th>50577</th>\n",
       "      <td>2020-11-17</td>\n",
       "      <td>6.0</td>\n",
       "      <td>8.0</td>\n",
       "      <td>5925.0</td>\n",
       "      <td>3919.0</td>\n",
       "      <td>1.86</td>\n",
       "      <td>2.26</td>\n",
       "      <td>1.76</td>\n",
       "      <td>2.09</td>\n",
       "      <td>0.333333</td>\n",
       "      <td>...</td>\n",
       "      <td>True</td>\n",
       "      <td>1.86</td>\n",
       "      <td>2.26</td>\n",
       "      <td>0.275616</td>\n",
       "      <td>1.071737</td>\n",
       "      <td>-0.101491</td>\n",
       "      <td>1.071737</td>\n",
       "      <td>0.534056</td>\n",
       "      <td>0.341722</td>\n",
       "      <td>True</td>\n",
       "    </tr>\n",
       "    <tr>\n",
       "      <th>50584</th>\n",
       "      <td>2020-11-21</td>\n",
       "      <td>3.0</td>\n",
       "      <td>1.0</td>\n",
       "      <td>9125.0</td>\n",
       "      <td>11830.0</td>\n",
       "      <td>2.70</td>\n",
       "      <td>1.66</td>\n",
       "      <td>2.47</td>\n",
       "      <td>1.56</td>\n",
       "      <td>0.300000</td>\n",
       "      <td>...</td>\n",
       "      <td>False</td>\n",
       "      <td>2.70</td>\n",
       "      <td>1.66</td>\n",
       "      <td>0.250000</td>\n",
       "      <td>0.995000</td>\n",
       "      <td>-0.075000</td>\n",
       "      <td>-0.075000</td>\n",
       "      <td>0.583800</td>\n",
       "      <td>0.270899</td>\n",
       "      <td>False</td>\n",
       "    </tr>\n",
       "  </tbody>\n",
       "</table>\n",
       "<p>558 rows × 1420 columns</p>\n",
       "</div>"
      ],
      "text/plain": [
       "            Date  A_rank  B_rank    APts     BPts  A_Max  B_Max  A_Avg  B_Avg  \\\n",
       "44671 2018-01-02    51.0    50.0   981.0    992.0   2.20   1.90   2.08   1.74   \n",
       "44673 2018-01-02   137.0   128.0   404.0    436.0   3.65   1.42   3.27   1.33   \n",
       "44679 2018-01-04    47.0   119.0  1010.0    499.0   1.44   3.64   1.34   3.21   \n",
       "44683 2018-01-05    21.0   169.0  2010.0    315.0   1.53   3.10   1.45   2.77   \n",
       "44684 2018-01-05    63.0    47.0   809.0   1010.0   2.10   2.05   1.92   1.88   \n",
       "...          ...     ...     ...     ...      ...    ...    ...    ...    ...   \n",
       "50547 2020-11-09   149.0    39.0   421.0   1395.0   2.23   1.63   2.42   1.70   \n",
       "50566 2020-11-12    44.0    25.0  1214.0   1815.0   1.80   2.30   1.71   2.14   \n",
       "50567 2020-11-12    74.0    38.0   863.0   1396.0   1.71   2.46   1.62   2.30   \n",
       "50577 2020-11-17     6.0     8.0  5925.0   3919.0   1.86   2.26   1.76   2.09   \n",
       "50584 2020-11-21     3.0     1.0  9125.0  11830.0   2.70   1.66   2.47   1.56   \n",
       "\n",
       "       A_hist_form  ...  correct  A_odds  B_odds         h  \\\n",
       "44671     1.000000  ...     True    2.20    1.90  0.284760   \n",
       "44673     0.500000  ...     True    3.65    1.42  0.250000   \n",
       "44679     0.500000  ...     True    1.44    3.64  0.250000   \n",
       "44683     1.000000  ...     True    1.53    3.10  0.250000   \n",
       "44684     0.500000  ...    False    2.10    2.05  0.354456   \n",
       "...            ...  ...      ...     ...     ...       ...   \n",
       "50547     0.500000  ...    False    2.23    1.63  0.250000   \n",
       "50566     0.500000  ...     True    1.80    2.30  0.250679   \n",
       "50567     0.500000  ...     True    1.71    2.46  0.250000   \n",
       "50577     0.333333  ...     True    1.86    2.26  0.275616   \n",
       "50584     0.300000  ...    False    2.70    1.66  0.250000   \n",
       "\n",
       "       return_if_we_win_hedged  return_if_we_lose_hedged    return         E  \\\n",
       "44671                 1.074197                 -0.088770  1.074197  0.540652   \n",
       "44673                 0.815000                  0.162500  0.815000  0.623472   \n",
       "44679                 0.830000                  0.160000  0.830000  0.637844   \n",
       "44683                 0.897500                  0.025000  0.897500  0.598507   \n",
       "44684                 1.001186                  0.081092  0.081092  0.541634   \n",
       "...                        ...                       ...       ...       ...   \n",
       "50547                 0.972500                 -0.192500 -0.192500  0.517121   \n",
       "50566                 1.098098                 -0.172758  1.098098  0.540587   \n",
       "50567                 1.032500                 -0.135000  1.032500  0.553366   \n",
       "50577                 1.071737                 -0.101491  1.071737  0.534056   \n",
       "50584                 0.995000                 -0.075000 -0.075000  0.583800   \n",
       "\n",
       "            var  make_bet  \n",
       "44671  0.335825      True  \n",
       "44673  0.088289     False  \n",
       "44679  0.091821     False  \n",
       "44683  0.171475     False  \n",
       "44684  0.211643      True  \n",
       "...         ...       ...  \n",
       "50547  0.323146     False  \n",
       "50566  0.397697      True  \n",
       "50567  0.329820      True  \n",
       "50577  0.341722      True  \n",
       "50584  0.270899     False  \n",
       "\n",
       "[558 rows x 1420 columns]"
      ]
     },
     "execution_count": 51,
     "metadata": {},
     "output_type": "execute_result"
    }
   ],
   "source": [
    "df[inside]"
   ]
  },
  {
   "cell_type": "markdown",
   "metadata": {},
   "source": [
    "## Backtesting The Model"
   ]
  },
  {
   "cell_type": "code",
   "execution_count": 20,
   "metadata": {},
   "outputs": [],
   "source": [
    "bets_df = pd.DataFrame(data=[],columns = ['date','n_bets_made','n_bets_won','return'])\n",
    "bets_df = bets_df.set_index('date')"
   ]
  },
  {
   "cell_type": "code",
   "execution_count": 21,
   "metadata": {},
   "outputs": [],
   "source": [
    "for date,b_df in df.groupby('Date'):\n",
    "    bets_to_make = b_df.loc[b_df['make_bet'],:]\n",
    "    if bets_to_make.shape[0] < 1:\n",
    "        continue\n",
    "    else:\n",
    "        n_bets_to_make = bets_to_make.shape[0]\n",
    "        n_bets_won = bets_to_make['correct'].sum()\n",
    "\n",
    "        weights = np.log(1+bets_to_make['E'])\n",
    "        weights = weights/weights.sum()\n",
    "        weighted_returns = weights * bets_to_make['return']\n",
    "\n",
    "        bets_df.loc[date,:] = [n_bets_to_make,n_bets_won,100*(weighted_returns.sum())]"
   ]
  },
  {
   "cell_type": "code",
   "execution_count": 22,
   "metadata": {},
   "outputs": [
    {
     "name": "stdout",
     "output_type": "stream",
     "text": [
      "We won  55.0 % of  1090  bets made\n"
     ]
    }
   ],
   "source": [
    "total_bets_made = bets_df['n_bets_made'].sum()\n",
    "total_bets_won = bets_df['n_bets_won'].sum()\n",
    "\n",
    "print(\"We won \",round(100*total_bets_won/total_bets_made),\"% of \",total_bets_made,\" bets made\")"
   ]
  },
  {
   "cell_type": "code",
   "execution_count": 23,
   "metadata": {},
   "outputs": [
    {
     "data": {
      "text/plain": [
       "Text(0.5, 1.0, 'Daily Returns')"
      ]
     },
     "execution_count": 23,
     "metadata": {},
     "output_type": "execute_result"
    },
    {
     "data": {
      "image/png": "[encoded data removed]",
      "text/plain": [
       "<Figure size 432x288 with 1 Axes>"
      ]
     },
     "metadata": {
      "needs_background": "light"
     },
     "output_type": "display_data"
    }
   ],
   "source": [
    "bets_df.plot(y='return',label='% Return')\n",
    "plt.title(\"Daily Returns\")"
   ]
  },
  {
   "cell_type": "code",
   "execution_count": null,
   "metadata": {},
   "outputs": [],
   "source": []
  }
 ],
 "metadata": {
  "kernelspec": {
   "display_name": "Python 3",
   "language": "python",
   "name": "python3"
  },
  "language_info": {
   "codemirror_mode": {
    "name": "ipython",
    "version": 3
   },
   "file_extension": ".py",
   "mimetype": "text/x-python",
   "name": "python",
   "nbconvert_exporter": "python",
   "pygments_lexer": "ipython3",
   "version": "3.7.6"
  }
 },
 "nbformat": 4,
 "nbformat_minor": 4
}

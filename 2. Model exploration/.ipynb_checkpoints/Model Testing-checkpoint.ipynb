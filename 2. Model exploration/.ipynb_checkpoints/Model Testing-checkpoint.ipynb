{
 "cells": [
  {
   "cell_type": "code",
   "execution_count": 1,
   "metadata": {},
   "outputs": [],
   "source": [
    "import pickle\n",
    "# Load data (deserialize)\n",
    "with open('mens_alphas_sep_2020.pickle', 'rb') as handle:\n",
    "    player_alphas = pickle.load(handle)"
   ]
  },
  {
   "cell_type": "code",
   "execution_count": 2,
   "metadata": {},
   "outputs": [],
   "source": [
    "import pandas as pd\n",
    "import numpy as np"
   ]
  },
  {
   "cell_type": "code",
   "execution_count": 3,
   "metadata": {},
   "outputs": [
    {
     "name": "stderr",
     "output_type": "stream",
     "text": [
      "K:\\Programs\\Python\\lib\\site-packages\\IPython\\core\\interactiveshell.py:3071: DtypeWarning: Columns (11,12,15,16,17,18,38) have mixed types.Specify dtype option on import or set low_memory=False.\n",
      "  has_raised = await self.run_ast_nodes(code_ast.body, cell_name,\n",
      "K:\\Programs\\Python\\lib\\site-packages\\IPython\\core\\interactiveshell.py:3071: DtypeWarning: Columns (25,28,34) have mixed types.Specify dtype option on import or set low_memory=False.\n",
      "  has_raised = await self.run_ast_nodes(code_ast.body, cell_name,\n"
     ]
    }
   ],
   "source": [
    "mens_df = pd.read_csv('../data/mens.csv',header=0,parse_dates=[\"Date\"])\n",
    "womens_df = pd.read_csv('../data/womens.csv',header=0,parse_dates=[\"Date\"])\n",
    "\n",
    "# Remove walkovers\n",
    "mens_df = mens_df[mens_df['Comment']!='Walkover']\n",
    "womens_df = womens_df[womens_df['Comment']!='Walkover']"
   ]
  },
  {
   "cell_type": "code",
   "execution_count": 4,
   "metadata": {},
   "outputs": [],
   "source": [
    "mens_df = mens_df[mens_df['Date'] > pd.to_datetime('09/01/2020')]"
   ]
  },
  {
   "cell_type": "code",
   "execution_count": 5,
   "metadata": {},
   "outputs": [],
   "source": [
    "def lookup_alphas(row,player_alphas):\n",
    "    try:\n",
    "        w_alpha = player_alphas[row['Date']][row['Winner']]\n",
    "        l_alpha = player_alphas[row['Date']][row['Loser']]\n",
    "    except:\n",
    "        w_alpha = np.nan\n",
    "        l_alpha = np.nan\n",
    "    return w_alpha,l_alpha"
   ]
  },
  {
   "cell_type": "code",
   "execution_count": 6,
   "metadata": {},
   "outputs": [],
   "source": [
    "mens_df[['W_alpha','L_alpha']] = mens_df.apply(lambda x:lookup_alphas(x,player_alphas),axis=1,result_type=\"expand\")"
   ]
  },
  {
   "cell_type": "code",
   "execution_count": 7,
   "metadata": {},
   "outputs": [],
   "source": [
    "mens_df = mens_df[['Winner','Loser','WRank','LRank','W_alpha','L_alpha']]\n",
    "mens_df.dropna(inplace=True)"
   ]
  },
  {
   "cell_type": "code",
   "execution_count": 8,
   "metadata": {},
   "outputs": [
    {
     "data": {
      "text/html": [
       "<div>\n",
       "<style scoped>\n",
       "    .dataframe tbody tr th:only-of-type {\n",
       "        vertical-align: middle;\n",
       "    }\n",
       "\n",
       "    .dataframe tbody tr th {\n",
       "        vertical-align: top;\n",
       "    }\n",
       "\n",
       "    .dataframe thead th {\n",
       "        text-align: right;\n",
       "    }\n",
       "</style>\n",
       "<table border=\"1\" class=\"dataframe\">\n",
       "  <thead>\n",
       "    <tr style=\"text-align: right;\">\n",
       "      <th></th>\n",
       "      <th>Winner</th>\n",
       "      <th>Loser</th>\n",
       "      <th>WRank</th>\n",
       "      <th>LRank</th>\n",
       "      <th>W_alpha</th>\n",
       "      <th>L_alpha</th>\n",
       "      <th>Correct</th>\n",
       "      <th>p</th>\n",
       "      <th>d_alpha</th>\n",
       "    </tr>\n",
       "  </thead>\n",
       "  <tbody>\n",
       "    <tr>\n",
       "      <th>52808</th>\n",
       "      <td>Hurkacz H.</td>\n",
       "      <td>Sousa J.</td>\n",
       "      <td>33</td>\n",
       "      <td>68</td>\n",
       "      <td>1.239643</td>\n",
       "      <td>0.982741</td>\n",
       "      <td>True</td>\n",
       "      <td>0.557799</td>\n",
       "      <td>0.256902</td>\n",
       "    </tr>\n",
       "    <tr>\n",
       "      <th>52809</th>\n",
       "      <td>Ofner S.</td>\n",
       "      <td>Albot R.</td>\n",
       "      <td>159</td>\n",
       "      <td>70</td>\n",
       "      <td>0.825863</td>\n",
       "      <td>1.056666</td>\n",
       "      <td>False</td>\n",
       "      <td>0.561301</td>\n",
       "      <td>0.230803</td>\n",
       "    </tr>\n",
       "    <tr>\n",
       "      <th>52810</th>\n",
       "      <td>Kecmanovic M.</td>\n",
       "      <td>Nishikori K.</td>\n",
       "      <td>47</td>\n",
       "      <td>34</td>\n",
       "      <td>0.874710</td>\n",
       "      <td>1.238808</td>\n",
       "      <td>False</td>\n",
       "      <td>0.586136</td>\n",
       "      <td>0.364098</td>\n",
       "    </tr>\n",
       "    <tr>\n",
       "      <th>52811</th>\n",
       "      <td>Pella G.</td>\n",
       "      <td>Nishioka Y.</td>\n",
       "      <td>36</td>\n",
       "      <td>49</td>\n",
       "      <td>1.410557</td>\n",
       "      <td>1.175592</td>\n",
       "      <td>True</td>\n",
       "      <td>0.545428</td>\n",
       "      <td>0.234965</td>\n",
       "    </tr>\n",
       "    <tr>\n",
       "      <th>52812</th>\n",
       "      <td>Hanfmann Y.</td>\n",
       "      <td>Bublik A.</td>\n",
       "      <td>118</td>\n",
       "      <td>54</td>\n",
       "      <td>0.755405</td>\n",
       "      <td>0.810345</td>\n",
       "      <td>False</td>\n",
       "      <td>0.517544</td>\n",
       "      <td>0.054940</td>\n",
       "    </tr>\n",
       "    <tr>\n",
       "      <th>...</th>\n",
       "      <td>...</td>\n",
       "      <td>...</td>\n",
       "      <td>...</td>\n",
       "      <td>...</td>\n",
       "      <td>...</td>\n",
       "      <td>...</td>\n",
       "      <td>...</td>\n",
       "      <td>...</td>\n",
       "      <td>...</td>\n",
       "    </tr>\n",
       "    <tr>\n",
       "      <th>53463</th>\n",
       "      <td>Djokovic N.</td>\n",
       "      <td>Zverev A.</td>\n",
       "      <td>1</td>\n",
       "      <td>7</td>\n",
       "      <td>2.052166</td>\n",
       "      <td>1.459409</td>\n",
       "      <td>True</td>\n",
       "      <td>0.584400</td>\n",
       "      <td>0.592757</td>\n",
       "    </tr>\n",
       "    <tr>\n",
       "      <th>53464</th>\n",
       "      <td>Medvedev D.</td>\n",
       "      <td>Schwartzman D.</td>\n",
       "      <td>4</td>\n",
       "      <td>9</td>\n",
       "      <td>1.486058</td>\n",
       "      <td>2.063613</td>\n",
       "      <td>False</td>\n",
       "      <td>0.581353</td>\n",
       "      <td>0.577555</td>\n",
       "    </tr>\n",
       "    <tr>\n",
       "      <th>53465</th>\n",
       "      <td>Thiem D.</td>\n",
       "      <td>Djokovic N.</td>\n",
       "      <td>3</td>\n",
       "      <td>1</td>\n",
       "      <td>1.683302</td>\n",
       "      <td>1.651043</td>\n",
       "      <td>True</td>\n",
       "      <td>0.504837</td>\n",
       "      <td>0.032258</td>\n",
       "    </tr>\n",
       "    <tr>\n",
       "      <th>53466</th>\n",
       "      <td>Medvedev D.</td>\n",
       "      <td>Nadal R.</td>\n",
       "      <td>4</td>\n",
       "      <td>2</td>\n",
       "      <td>1.128759</td>\n",
       "      <td>2.206208</td>\n",
       "      <td>False</td>\n",
       "      <td>0.661538</td>\n",
       "      <td>1.077449</td>\n",
       "    </tr>\n",
       "    <tr>\n",
       "      <th>53467</th>\n",
       "      <td>Medvedev D.</td>\n",
       "      <td>Thiem D.</td>\n",
       "      <td>4</td>\n",
       "      <td>3</td>\n",
       "      <td>0.986334</td>\n",
       "      <td>1.585992</td>\n",
       "      <td>False</td>\n",
       "      <td>0.616559</td>\n",
       "      <td>0.599658</td>\n",
       "    </tr>\n",
       "  </tbody>\n",
       "</table>\n",
       "<p>510 rows × 9 columns</p>\n",
       "</div>"
      ],
      "text/plain": [
       "              Winner           Loser WRank LRank   W_alpha   L_alpha  Correct  \\\n",
       "52808     Hurkacz H.        Sousa J.    33    68  1.239643  0.982741     True   \n",
       "52809       Ofner S.        Albot R.   159    70  0.825863  1.056666    False   \n",
       "52810  Kecmanovic M.    Nishikori K.    47    34  0.874710  1.238808    False   \n",
       "52811       Pella G.     Nishioka Y.    36    49  1.410557  1.175592     True   \n",
       "52812    Hanfmann Y.       Bublik A.   118    54  0.755405  0.810345    False   \n",
       "...              ...             ...   ...   ...       ...       ...      ...   \n",
       "53463    Djokovic N.       Zverev A.     1     7  2.052166  1.459409     True   \n",
       "53464    Medvedev D.  Schwartzman D.     4     9  1.486058  2.063613    False   \n",
       "53465       Thiem D.     Djokovic N.     3     1  1.683302  1.651043     True   \n",
       "53466    Medvedev D.        Nadal R.     4     2  1.128759  2.206208    False   \n",
       "53467    Medvedev D.        Thiem D.     4     3  0.986334  1.585992    False   \n",
       "\n",
       "              p   d_alpha  \n",
       "52808  0.557799  0.256902  \n",
       "52809  0.561301  0.230803  \n",
       "52810  0.586136  0.364098  \n",
       "52811  0.545428  0.234965  \n",
       "52812  0.517544  0.054940  \n",
       "...         ...       ...  \n",
       "53463  0.584400  0.592757  \n",
       "53464  0.581353  0.577555  \n",
       "53465  0.504837  0.032258  \n",
       "53466  0.661538  1.077449  \n",
       "53467  0.616559  0.599658  \n",
       "\n",
       "[510 rows x 9 columns]"
      ]
     },
     "execution_count": 8,
     "metadata": {},
     "output_type": "execute_result"
    }
   ],
   "source": [
    "mens_df['Correct'] = mens_df['W_alpha'] > mens_df['L_alpha']\n",
    "mens_df['p'] = mens_df[['W_alpha','L_alpha']].max(axis=1)/(mens_df['W_alpha']+mens_df['L_alpha'])\n",
    "mens_df['d_alpha'] = abs(mens_df['W_alpha']-mens_df['L_alpha'])\n",
    "mens_df"
   ]
  },
  {
   "cell_type": "code",
   "execution_count": 14,
   "metadata": {},
   "outputs": [
    {
     "name": "stdout",
     "output_type": "stream",
     "text": [
      "0.5647058823529412 510 0.5\n",
      "0.5882352941176471 119 0.6\n",
      "0.6 45 0.65\n",
      "0.6111111111111112 18 0.7\n",
      "0.0 2 0.8\n"
     ]
    }
   ],
   "source": [
    "for p0 in [0.5,0.6,0.65,0.7,0.8]:\n",
    "    c_df = mens_df[mens_df['p']>p0]\n",
    "    accuracy = c_df['Correct'].sum()/c_df.shape[0]\n",
    "    print(accuracy,c_df.shape[0],p0)"
   ]
  },
  {
   "cell_type": "code",
   "execution_count": null,
   "metadata": {},
   "outputs": [],
   "source": []
  }
 ],
 "metadata": {
  "kernelspec": {
   "display_name": "Python 3.8.3 32-bit",
   "language": "python",
   "name": "python38332bit8b318c9a3a41456eacc04d82e7074197"
  },
  "language_info": {
   "codemirror_mode": {
    "name": "ipython",
    "version": 3
   },
   "file_extension": ".py",
   "mimetype": "text/x-python",
   "name": "python",
   "nbconvert_exporter": "python",
   "pygments_lexer": "ipython3",
   "version": "3.8.3"
  }
 },
 "nbformat": 4,
 "nbformat_minor": 4
}

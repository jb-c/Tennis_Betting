{
 "cells": [
  {
   "cell_type": "markdown",
   "metadata": {},
   "source": [
    "# Machine Learning On Tennis Data\n",
    "## Contents\n",
    ">* [Setup](#0)\n",
    ">* [Adding Features](#1)\n",
    ">* [Pre-Processing](#2)\n",
    ">* [Getting Ready For ML](#3)"
   ]
  },
  {
   "cell_type": "markdown",
   "metadata": {},
   "source": [
    "## 0 - Setup <a class=\"anchor\" id=\"0\"></a>"
   ]
  },
  {
   "cell_type": "code",
   "execution_count": 1,
   "metadata": {},
   "outputs": [],
   "source": [
    "import pandas as pd\n",
    "import numpy as np\n",
    "from collections import defaultdict\n",
    "from sklearn.model_selection import train_test_split"
   ]
  },
  {
   "cell_type": "code",
   "execution_count": 2,
   "metadata": {},
   "outputs": [
    {
     "name": "stderr",
     "output_type": "stream",
     "text": [
      "K:\\Programs\\Anaconda\\lib\\site-packages\\IPython\\core\\interactiveshell.py:3063: DtypeWarning: Columns (11,12,15,16,17,18,38) have mixed types.Specify dtype option on import or set low_memory=False.\n",
      "  interactivity=interactivity, compiler=compiler, result=result)\n",
      "K:\\Programs\\Anaconda\\lib\\site-packages\\IPython\\core\\interactiveshell.py:3063: DtypeWarning: Columns (25,28,34) have mixed types.Specify dtype option on import or set low_memory=False.\n",
      "  interactivity=interactivity, compiler=compiler, result=result)\n"
     ]
    }
   ],
   "source": [
    "mens_df = pd.read_csv('../data/mens.csv',header=0,parse_dates=[\"Date\"])\n",
    "womens_df = pd.read_csv('../data/womens.csv',header=0,parse_dates=[\"Date\"])\n",
    "\n",
    "# Remove walkovers\n",
    "mens_df = mens_df[mens_df['Comment']!='Walkover']\n",
    "womens_df = womens_df[womens_df['Comment']!='Walkover']"
   ]
  },
  {
   "cell_type": "code",
   "execution_count": 3,
   "metadata": {},
   "outputs": [],
   "source": [
    "cols = ['WRank', 'LRank']\n",
    "mens_df[cols] = mens_df[cols].apply(pd.to_numeric, errors='coerce', axis=1)"
   ]
  },
  {
   "cell_type": "markdown",
   "metadata": {},
   "source": [
    "## 1 - Adding Features <a class=\"anchor\" id=\"1\"></a>"
   ]
  },
  {
   "cell_type": "markdown",
   "metadata": {},
   "source": [
    "When we train this model, the data will be shuffled so we'll lose any notion of time. We can add a few easily computable features to capture some of this information. For the moment we can add\n",
    "* Streak - length of current winning streak\n",
    "* Prefered suface - boolen true if current surface has most wins (players play ~ 80 games/year so maybe look at last 30 games)\n",
    "* Prefered court - same as prefered surface for court\n",
    "* Historical winner - If the players have played before, who won?"
   ]
  },
  {
   "cell_type": "markdown",
   "metadata": {},
   "source": [
    "### Data Structures to do this\n",
    "We'll need some additional data structures to do this\n",
    "* A dict for tracking player wins\n",
    "> player -> dict = {'player_name':boolean,...}\n",
    "* A dict for tracking player preferences over time\n",
    "Hardcourt/carpet weighting/Greenset, Clay and Grass\n",
    "> player -> dict = {'winning streak':int,'losing streak':int,'court wins':int[],'surface wins':string[],'surface losses':string[]}"
   ]
  },
  {
   "cell_type": "code",
   "execution_count": 4,
   "metadata": {},
   "outputs": [],
   "source": [
    "complete_player_list = set(list(mens_df['Winner'].values)+list(mens_df['Loser'].values)) # a list of all unique players"
   ]
  },
  {
   "cell_type": "code",
   "execution_count": 5,
   "metadata": {},
   "outputs": [],
   "source": [
    "p_observables = {}\n",
    "historical_wins = {}\n",
    "\n",
    "for p in complete_player_list:\n",
    "    p_observables[p] = {'form':[],'court_wins':[],'surface_wins':[],'surface_losses':[]}\n",
    "    historical_wins[p] = defaultdict(lambda: 0.5,{}) # If have no data assume players evenly matched (hence the 0.5 default)"
   ]
  },
  {
   "cell_type": "code",
   "execution_count": 6,
   "metadata": {},
   "outputs": [],
   "source": [
    "n_wins_in_feature_lists = 20 #number of previous wins/losses to consider\n",
    "n_games_for_form_calc = 15 #number of games to consider for recent form"
   ]
  },
  {
   "cell_type": "code",
   "execution_count": 7,
   "metadata": {},
   "outputs": [],
   "source": [
    "def match_to_new_features(x):\n",
    "    data_to_return = []\n",
    "    \n",
    "    for i,p in enumerate([x.Winner,x.Loser]):\n",
    "        ## Historical results\n",
    "        hist_form = np.mean(historical_wins[p][[x.Winner,x.Loser][i-1]])\n",
    "        \n",
    "        ## Recent form\n",
    "        form = np.mean(p_observables[p]['form']) if (len(p_observables[p]['form'])>0) else 0.5 # Assume 0.5 if have no data\n",
    "        if (len(p_observables[p]['form'])>=n_games_for_form_calc): p_observables[p]['form'].pop()\n",
    "        \n",
    "        ## Court form\n",
    "        desired_court = 'Outdoor' if sum(p_observables[p]['court_wins']) > 0 else 'Indoor' # The court type with most recent wins\n",
    "        prefered_court = 1 if (x.Court == desired_court) else 0\n",
    "        \n",
    "        ## Surface form\n",
    "        try:\n",
    "            desired_surface = max(set(p_observables[p]['surface_wins']), key=p_observables[p]['surface_wins'].count)\n",
    "        except:\n",
    "            desired_surface = 'None'\n",
    "        try:\n",
    "            undesired_surface = max(set(p_observables[p]['surface_losses']), key=p_observables[p]['surface_losses'].count)\n",
    "        except:\n",
    "            undesired_surface = 'None'\n",
    "            \n",
    "        preferred_surface = 1 if x.Surface == desired_surface else (-1 if x.Surface == undesired_surface else 0)\n",
    "        \n",
    "        ## Updating the historical info for use next time\n",
    "        if i == 0: # On 1st loop so p is the winner\n",
    "            historical_wins[p][x.Loser] = [1] if historical_wins[p][x.Loser] == 0.5 else historical_wins[p][x.Loser]+[1] # Add a 1 to the list, if the list exsists else make a new list\n",
    "            \n",
    "            p_observables[p]['form'].insert(0,1)\n",
    "            \n",
    "            if (len(p_observables[p]['surface_wins']) > n_wins_in_feature_lists): p_observables[p]['surface_wins'].pop() # remove last item from list\n",
    "            p_observables[p]['surface_wins'].insert(0,x.Surface)\n",
    "            \n",
    "            if (len(p_observables[p]['court_wins']) > n_wins_in_feature_lists): p_observables[p]['court_wins'].pop() # if too long remove last one\n",
    "            p_observables[p]['court_wins'].insert(0,1 if x.Court=='Outdoor' else -1)\n",
    "        else:\n",
    "            historical_wins[p][x.Winner] = [0] if historical_wins[p][x.Winner] == 0.5 else historical_wins[p][x.Winner]+[0] # Add a 0 entry if list already exsists, else make a new list\n",
    "            \n",
    "            p_observables[p]['form'].insert(0,-1)\n",
    "            \n",
    "            if (len(p_observables[p]['surface_losses']) > n_wins_in_feature_lists): p_observables[p]['surface_losses'].pop() # remove last item from list\n",
    "            p_observables[p]['surface_losses'].insert(0,x.Surface)\n",
    "\n",
    "        data_to_return += [hist_form,form,prefered_court,preferred_surface]\n",
    "        \n",
    "    return data_to_return"
   ]
  },
  {
   "cell_type": "code",
   "execution_count": 8,
   "metadata": {},
   "outputs": [
    {
     "name": "stdout",
     "output_type": "stream",
     "text": [
      "Wall time: 38.3 s\n"
     ]
    }
   ],
   "source": [
    "%%time\n",
    "mens_df[['w_hist_form','w_form','w_court_form','w_surface_form','l_hist_form','l_form','l_court_form','l_surface_form']] = mens_df.apply(match_to_new_features,axis=1, result_type=\"expand\")"
   ]
  },
  {
   "cell_type": "markdown",
   "metadata": {},
   "source": [
    "## 2 - Pre-Processing <a class=\"anchor\" id=2></a>"
   ]
  },
  {
   "cell_type": "markdown",
   "metadata": {},
   "source": [
    "First remove data that we think isn't important\n",
    "> It's really important we remove the results for the match <br>\n",
    "> For the moment remove betting odds, could convert to impled prob and use later"
   ]
  },
  {
   "cell_type": "code",
   "execution_count": 9,
   "metadata": {},
   "outputs": [],
   "source": [
    "cols_to_drop = ['ATP','Series','Location', 'Date','Best of','W1', 'L1','W2', 'L2', 'W3', 'L3', 'W4', 'L4', 'W5', 'L5', 'Wsets', 'Lsets','Comment', 'CBW', 'CBL', 'GBW', 'GBL', 'IWW', 'IWL', 'SBW', 'SBL','B365W', 'B365L', 'B&WW', 'B&WL', 'EXW', 'EXL', 'PSW', 'PSL', 'WPts','LPts', 'UBW', 'UBL', 'LBW', 'LBL', 'SJW', 'SJL', 'MaxW', 'MaxL','AvgW', 'AvgL']\n",
    "\n",
    "filtered_mens_df = mens_df.drop(cols_to_drop,axis=1)"
   ]
  },
  {
   "cell_type": "code",
   "execution_count": 10,
   "metadata": {},
   "outputs": [],
   "source": [
    "## Replace tournament names which appear infrequently with other\n",
    "tournament_names_and_counts = filtered_mens_df['Tournament'].value_counts(normalize=True)\n",
    "infrequent_tournaments = list(tournament_names_and_counts[tournament_names_and_counts<0.01].index)\n",
    "\n",
    "filtered_mens_df.loc[filtered_mens_df['Tournament'].isin(infrequent_tournaments),'Tournament'] = 'Other'"
   ]
  },
  {
   "cell_type": "code",
   "execution_count": 11,
   "metadata": {},
   "outputs": [
    {
     "data": {
      "text/plain": [
       "array(['Hard', 'Clay', 'Grass'], dtype=object)"
      ]
     },
     "execution_count": 11,
     "metadata": {},
     "output_type": "execute_result"
    }
   ],
   "source": [
    "## Bundle surfaces into three categores\n",
    "surface_dict = {'Clay':'Clay','Grass':'Grass','Hard':'Hard','Carpet':'Hard','Greenset':'Hard'}\n",
    "mens_df.replace({\"Surface\": surface_dict},inplace=True)\n",
    "mens_df.Surface.unique()"
   ]
  },
  {
   "cell_type": "markdown",
   "metadata": {},
   "source": [
    "Now we need to swap the winner & loser about a bit so that the ML model doesn't always just pick the player in col 5"
   ]
  },
  {
   "cell_type": "code",
   "execution_count": 12,
   "metadata": {},
   "outputs": [],
   "source": [
    "winner_cols = [c for c in filtered_mens_df.columns if c[0].lower() == 'w']\n",
    "loser_cols = [c for c in filtered_mens_df.columns if c[0].lower() == 'l']\n",
    "other_cols = [c for c in filtered_mens_df.columns if not (c in winner_cols or c in loser_cols)]"
   ]
  },
  {
   "cell_type": "code",
   "execution_count": 13,
   "metadata": {},
   "outputs": [],
   "source": [
    "def random_transpose_of_data(x):\n",
    "    if np.random.choice([True,False]):\n",
    "        temp = x[winner_cols]\n",
    "        x[winner_cols] = x[loser_cols]\n",
    "        x[loser_cols] = temp\n",
    "        x['y'] = 0\n",
    "    else:\n",
    "        x['y'] = 1\n",
    "    return x"
   ]
  },
  {
   "cell_type": "code",
   "execution_count": 14,
   "metadata": {},
   "outputs": [],
   "source": [
    "col_rename_dict = {'Winner':'A','Loser':'B','WRank':'A_rank','LRank':'B_rank'}\n",
    "for col in winner_cols:\n",
    "    if col not in  ['Winner','WRank']:\n",
    "        col_rename_dict[col]=\"A\"+col[1:]\n",
    "for col in loser_cols:\n",
    "    if col not in  ['Loser','LRank']:\n",
    "        col_rename_dict[col]=\"B\"+col[1:]"
   ]
  },
  {
   "cell_type": "code",
   "execution_count": 15,
   "metadata": {},
   "outputs": [],
   "source": [
    "formatted_mens_df = filtered_mens_df.apply(random_transpose_of_data,axis=1).rename(columns=col_rename_dict)"
   ]
  },
  {
   "cell_type": "markdown",
   "metadata": {},
   "source": [
    "## 3 - Getting Ready For ML <a class=\"anchor\" id=3></a>"
   ]
  },
  {
   "cell_type": "markdown",
   "metadata": {},
   "source": [
    "We now have the mens_df in the following format"
   ]
  },
  {
   "cell_type": "code",
   "execution_count": 16,
   "metadata": {},
   "outputs": [
    {
     "data": {
      "text/html": [
       "<div>\n",
       "<style scoped>\n",
       "    .dataframe tbody tr th:only-of-type {\n",
       "        vertical-align: middle;\n",
       "    }\n",
       "\n",
       "    .dataframe tbody tr th {\n",
       "        vertical-align: top;\n",
       "    }\n",
       "\n",
       "    .dataframe thead th {\n",
       "        text-align: right;\n",
       "    }\n",
       "</style>\n",
       "<table border=\"1\" class=\"dataframe\">\n",
       "  <thead>\n",
       "    <tr style=\"text-align: right;\">\n",
       "      <th></th>\n",
       "      <th>Tournament</th>\n",
       "      <th>Court</th>\n",
       "      <th>Surface</th>\n",
       "      <th>Round</th>\n",
       "      <th>A</th>\n",
       "      <th>B</th>\n",
       "      <th>A_rank</th>\n",
       "      <th>B_rank</th>\n",
       "      <th>A_hist_form</th>\n",
       "      <th>A_form</th>\n",
       "      <th>A_court_form</th>\n",
       "      <th>A_surface_form</th>\n",
       "      <th>B_form</th>\n",
       "      <th>B_court_form</th>\n",
       "      <th>B_surface_form</th>\n",
       "      <th>y</th>\n",
       "      <th>ranking_p</th>\n",
       "    </tr>\n",
       "  </thead>\n",
       "  <tbody>\n",
       "    <tr>\n",
       "      <th>0</th>\n",
       "      <td>Other</td>\n",
       "      <td>Outdoor</td>\n",
       "      <td>Hard</td>\n",
       "      <td>1st Round</td>\n",
       "      <td>Dosedel S.</td>\n",
       "      <td>Ljubicic I.</td>\n",
       "      <td>63.0</td>\n",
       "      <td>77.0</td>\n",
       "      <td>0.50</td>\n",
       "      <td>0.500000</td>\n",
       "      <td>0.0</td>\n",
       "      <td>0.0</td>\n",
       "      <td>0.500000</td>\n",
       "      <td>0.0</td>\n",
       "      <td>0.0</td>\n",
       "      <td>1</td>\n",
       "      <td>0.100000</td>\n",
       "    </tr>\n",
       "    <tr>\n",
       "      <th>1</th>\n",
       "      <td>Other</td>\n",
       "      <td>Outdoor</td>\n",
       "      <td>Hard</td>\n",
       "      <td>1st Round</td>\n",
       "      <td>Enqvist T.</td>\n",
       "      <td>Clement A.</td>\n",
       "      <td>5.0</td>\n",
       "      <td>56.0</td>\n",
       "      <td>0.50</td>\n",
       "      <td>0.500000</td>\n",
       "      <td>0.0</td>\n",
       "      <td>0.0</td>\n",
       "      <td>0.500000</td>\n",
       "      <td>0.0</td>\n",
       "      <td>0.0</td>\n",
       "      <td>1</td>\n",
       "      <td>0.836066</td>\n",
       "    </tr>\n",
       "    <tr>\n",
       "      <th>2</th>\n",
       "      <td>Other</td>\n",
       "      <td>Outdoor</td>\n",
       "      <td>Hard</td>\n",
       "      <td>1st Round</td>\n",
       "      <td>Escude N.</td>\n",
       "      <td>Baccanello P.</td>\n",
       "      <td>40.0</td>\n",
       "      <td>655.0</td>\n",
       "      <td>0.50</td>\n",
       "      <td>0.500000</td>\n",
       "      <td>0.0</td>\n",
       "      <td>0.0</td>\n",
       "      <td>0.500000</td>\n",
       "      <td>0.0</td>\n",
       "      <td>0.0</td>\n",
       "      <td>1</td>\n",
       "      <td>0.884892</td>\n",
       "    </tr>\n",
       "    <tr>\n",
       "      <th>3</th>\n",
       "      <td>Other</td>\n",
       "      <td>Outdoor</td>\n",
       "      <td>Hard</td>\n",
       "      <td>1st Round</td>\n",
       "      <td>Federer R.</td>\n",
       "      <td>Knippschild J.</td>\n",
       "      <td>65.0</td>\n",
       "      <td>87.0</td>\n",
       "      <td>0.50</td>\n",
       "      <td>0.500000</td>\n",
       "      <td>0.0</td>\n",
       "      <td>0.0</td>\n",
       "      <td>0.500000</td>\n",
       "      <td>0.0</td>\n",
       "      <td>0.0</td>\n",
       "      <td>1</td>\n",
       "      <td>0.144737</td>\n",
       "    </tr>\n",
       "    <tr>\n",
       "      <th>4</th>\n",
       "      <td>Other</td>\n",
       "      <td>Outdoor</td>\n",
       "      <td>Hard</td>\n",
       "      <td>1st Round</td>\n",
       "      <td>Woodbridge T.</td>\n",
       "      <td>Fromberg R.</td>\n",
       "      <td>198.0</td>\n",
       "      <td>81.0</td>\n",
       "      <td>0.50</td>\n",
       "      <td>0.500000</td>\n",
       "      <td>0.0</td>\n",
       "      <td>0.0</td>\n",
       "      <td>0.500000</td>\n",
       "      <td>0.0</td>\n",
       "      <td>0.0</td>\n",
       "      <td>0</td>\n",
       "      <td>-0.419355</td>\n",
       "    </tr>\n",
       "    <tr>\n",
       "      <th>...</th>\n",
       "      <td>...</td>\n",
       "      <td>...</td>\n",
       "      <td>...</td>\n",
       "      <td>...</td>\n",
       "      <td>...</td>\n",
       "      <td>...</td>\n",
       "      <td>...</td>\n",
       "      <td>...</td>\n",
       "      <td>...</td>\n",
       "      <td>...</td>\n",
       "      <td>...</td>\n",
       "      <td>...</td>\n",
       "      <td>...</td>\n",
       "      <td>...</td>\n",
       "      <td>...</td>\n",
       "      <td>...</td>\n",
       "      <td>...</td>\n",
       "    </tr>\n",
       "    <tr>\n",
       "      <th>53463</th>\n",
       "      <td>Other</td>\n",
       "      <td>Indoor</td>\n",
       "      <td>Hard</td>\n",
       "      <td>Round Robin</td>\n",
       "      <td>Djokovic N.</td>\n",
       "      <td>Zverev A.</td>\n",
       "      <td>1.0</td>\n",
       "      <td>7.0</td>\n",
       "      <td>0.60</td>\n",
       "      <td>0.600000</td>\n",
       "      <td>0.0</td>\n",
       "      <td>-1.0</td>\n",
       "      <td>0.733333</td>\n",
       "      <td>1.0</td>\n",
       "      <td>1.0</td>\n",
       "      <td>1</td>\n",
       "      <td>0.750000</td>\n",
       "    </tr>\n",
       "    <tr>\n",
       "      <th>53464</th>\n",
       "      <td>Other</td>\n",
       "      <td>Indoor</td>\n",
       "      <td>Hard</td>\n",
       "      <td>Round Robin</td>\n",
       "      <td>Schwartzman D.</td>\n",
       "      <td>Medvedev D.</td>\n",
       "      <td>9.0</td>\n",
       "      <td>4.0</td>\n",
       "      <td>0.00</td>\n",
       "      <td>0.333333</td>\n",
       "      <td>0.0</td>\n",
       "      <td>-1.0</td>\n",
       "      <td>0.333333</td>\n",
       "      <td>1.0</td>\n",
       "      <td>1.0</td>\n",
       "      <td>0</td>\n",
       "      <td>-0.384615</td>\n",
       "    </tr>\n",
       "    <tr>\n",
       "      <th>53465</th>\n",
       "      <td>Other</td>\n",
       "      <td>Indoor</td>\n",
       "      <td>Hard</td>\n",
       "      <td>Semifinals</td>\n",
       "      <td>Djokovic N.</td>\n",
       "      <td>Thiem D.</td>\n",
       "      <td>1.0</td>\n",
       "      <td>3.0</td>\n",
       "      <td>0.70</td>\n",
       "      <td>0.600000</td>\n",
       "      <td>0.0</td>\n",
       "      <td>-1.0</td>\n",
       "      <td>0.600000</td>\n",
       "      <td>0.0</td>\n",
       "      <td>1.0</td>\n",
       "      <td>0</td>\n",
       "      <td>0.500000</td>\n",
       "    </tr>\n",
       "    <tr>\n",
       "      <th>53466</th>\n",
       "      <td>Other</td>\n",
       "      <td>Indoor</td>\n",
       "      <td>Hard</td>\n",
       "      <td>Semifinals</td>\n",
       "      <td>Medvedev D.</td>\n",
       "      <td>Nadal R.</td>\n",
       "      <td>4.0</td>\n",
       "      <td>2.0</td>\n",
       "      <td>0.00</td>\n",
       "      <td>0.466667</td>\n",
       "      <td>1.0</td>\n",
       "      <td>1.0</td>\n",
       "      <td>0.600000</td>\n",
       "      <td>0.0</td>\n",
       "      <td>1.0</td>\n",
       "      <td>1</td>\n",
       "      <td>-0.333333</td>\n",
       "    </tr>\n",
       "    <tr>\n",
       "      <th>53467</th>\n",
       "      <td>Other</td>\n",
       "      <td>Indoor</td>\n",
       "      <td>Hard</td>\n",
       "      <td>The Final</td>\n",
       "      <td>Thiem D.</td>\n",
       "      <td>Medvedev D.</td>\n",
       "      <td>3.0</td>\n",
       "      <td>4.0</td>\n",
       "      <td>0.75</td>\n",
       "      <td>0.600000</td>\n",
       "      <td>0.0</td>\n",
       "      <td>1.0</td>\n",
       "      <td>0.600000</td>\n",
       "      <td>1.0</td>\n",
       "      <td>1.0</td>\n",
       "      <td>0</td>\n",
       "      <td>0.142857</td>\n",
       "    </tr>\n",
       "  </tbody>\n",
       "</table>\n",
       "<p>53203 rows × 17 columns</p>\n",
       "</div>"
      ],
      "text/plain": [
       "      Tournament    Court Surface        Round               A  \\\n",
       "0          Other  Outdoor    Hard    1st Round      Dosedel S.   \n",
       "1          Other  Outdoor    Hard    1st Round      Enqvist T.   \n",
       "2          Other  Outdoor    Hard    1st Round       Escude N.   \n",
       "3          Other  Outdoor    Hard    1st Round      Federer R.   \n",
       "4          Other  Outdoor    Hard    1st Round   Woodbridge T.   \n",
       "...          ...      ...     ...          ...             ...   \n",
       "53463      Other   Indoor    Hard  Round Robin     Djokovic N.   \n",
       "53464      Other   Indoor    Hard  Round Robin  Schwartzman D.   \n",
       "53465      Other   Indoor    Hard   Semifinals     Djokovic N.   \n",
       "53466      Other   Indoor    Hard   Semifinals     Medvedev D.   \n",
       "53467      Other   Indoor    Hard    The Final        Thiem D.   \n",
       "\n",
       "                    B  A_rank  B_rank  A_hist_form    A_form  A_court_form  \\\n",
       "0         Ljubicic I.    63.0    77.0         0.50  0.500000           0.0   \n",
       "1          Clement A.     5.0    56.0         0.50  0.500000           0.0   \n",
       "2       Baccanello P.    40.0   655.0         0.50  0.500000           0.0   \n",
       "3      Knippschild J.    65.0    87.0         0.50  0.500000           0.0   \n",
       "4         Fromberg R.   198.0    81.0         0.50  0.500000           0.0   \n",
       "...               ...     ...     ...          ...       ...           ...   \n",
       "53463       Zverev A.     1.0     7.0         0.60  0.600000           0.0   \n",
       "53464     Medvedev D.     9.0     4.0         0.00  0.333333           0.0   \n",
       "53465        Thiem D.     1.0     3.0         0.70  0.600000           0.0   \n",
       "53466        Nadal R.     4.0     2.0         0.00  0.466667           1.0   \n",
       "53467     Medvedev D.     3.0     4.0         0.75  0.600000           0.0   \n",
       "\n",
       "       A_surface_form    B_form  B_court_form  B_surface_form  y  ranking_p  \n",
       "0                 0.0  0.500000           0.0             0.0  1   0.100000  \n",
       "1                 0.0  0.500000           0.0             0.0  1   0.836066  \n",
       "2                 0.0  0.500000           0.0             0.0  1   0.884892  \n",
       "3                 0.0  0.500000           0.0             0.0  1   0.144737  \n",
       "4                 0.0  0.500000           0.0             0.0  0  -0.419355  \n",
       "...               ...       ...           ...             ... ..        ...  \n",
       "53463            -1.0  0.733333           1.0             1.0  1   0.750000  \n",
       "53464            -1.0  0.333333           1.0             1.0  0  -0.384615  \n",
       "53465            -1.0  0.600000           0.0             1.0  0   0.500000  \n",
       "53466             1.0  0.600000           0.0             1.0  1  -0.333333  \n",
       "53467             1.0  0.600000           1.0             1.0  0   0.142857  \n",
       "\n",
       "[53203 rows x 17 columns]"
      ]
     },
     "execution_count": 16,
     "metadata": {},
     "output_type": "execute_result"
    }
   ],
   "source": [
    "formatted_mens_df['ranking_p'] = -2*(formatted_mens_df['A_rank'] / (formatted_mens_df['A_rank'] + formatted_mens_df['B_rank'])-0.5)\n",
    "formatted_mens_df.drop(['B_hist_form'],axis=1,inplace=True) # Drop B_hist_form as it's 1-A_hist_form\n",
    "formatted_mens_df"
   ]
  },
  {
   "cell_type": "code",
   "execution_count": 17,
   "metadata": {},
   "outputs": [],
   "source": [
    "categorical_cols = ['Tournament', 'Court', 'Surface', 'Round', 'A', 'B']"
   ]
  },
  {
   "cell_type": "code",
   "execution_count": 18,
   "metadata": {},
   "outputs": [],
   "source": [
    "dummy_mens_df = pd.get_dummies(formatted_mens_df,columns=categorical_cols)"
   ]
  },
  {
   "cell_type": "code",
   "execution_count": 19,
   "metadata": {},
   "outputs": [],
   "source": [
    "corr = dummy_mens_df.iloc[:, dummy_mens_df.columns != 'y'].corrwith(dummy_mens_df['y'],axis=0).sort_values(ascending=False)"
   ]
  },
  {
   "cell_type": "code",
   "execution_count": 20,
   "metadata": {},
   "outputs": [
    {
     "data": {
      "text/plain": [
       "A_rank           -0.169207\n",
       "B_rank            0.160918\n",
       "A_hist_form       0.140511\n",
       "A_form            0.162680\n",
       "A_court_form      0.008145\n",
       "A_surface_form    0.010384\n",
       "B_form           -0.171558\n",
       "B_court_form     -0.018442\n",
       "B_surface_form   -0.010546\n",
       "ranking_p         0.370038\n",
       "dtype: float64"
      ]
     },
     "execution_count": 20,
     "metadata": {},
     "output_type": "execute_result"
    }
   ],
   "source": [
    "corr.loc[['A_rank','B_rank','A_hist_form','A_form','A_court_form','A_surface_form','B_form','B_court_form','B_surface_form','ranking_p']]"
   ]
  },
  {
   "cell_type": "code",
   "execution_count": 21,
   "metadata": {},
   "outputs": [],
   "source": [
    "X = dummy_mens_df.iloc[:, dummy_mens_df.columns != 'y']\n",
    "y = dummy_mens_df['y']"
   ]
  },
  {
   "cell_type": "code",
   "execution_count": 22,
   "metadata": {},
   "outputs": [],
   "source": [
    "X_train, X_test, y_train, y_test = train_test_split(X, y, test_size=0.25, random_state=42)"
   ]
  },
  {
   "cell_type": "code",
   "execution_count": 23,
   "metadata": {},
   "outputs": [],
   "source": [
    "import pickle\n",
    "\n",
    "# Saving the objects:\n",
    "with open('train_test_split.pkl', 'wb') as f:\n",
    "    pickle.dump([X_train, X_test, y_train, y_test], f)"
   ]
  }
 ],
 "metadata": {
  "kernelspec": {
   "display_name": "Python 3",
   "language": "python",
   "name": "python3"
  },
  "language_info": {
   "codemirror_mode": {
    "name": "ipython",
    "version": 3
   },
   "file_extension": ".py",
   "mimetype": "text/x-python",
   "name": "python",
   "nbconvert_exporter": "python",
   "pygments_lexer": "ipython3",
   "version": "3.7.4"
  }
 },
 "nbformat": 4,
 "nbformat_minor": 4
}

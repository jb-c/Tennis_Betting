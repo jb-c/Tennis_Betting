{
 "cells": [
  {
   "cell_type": "code",
   "execution_count": 1,
   "metadata": {},
   "outputs": [],
   "source": [
    "import pandas as pd\n",
    "import glob"
   ]
  },
  {
   "cell_type": "code",
   "execution_count": 2,
   "metadata": {},
   "outputs": [],
   "source": [
    "# Merge all data into two csvs and save\n",
    "for folder in ['mens','womens']:\n",
    "    files = glob.glob('.\\\\'+ folder + \"\\\\*\") # All files in folder\n",
    "    frames = [] # To store all the dfs\n",
    "\n",
    "    for filename in files:\n",
    "        df = pd.read_excel(filename, index_col=None, header=0)\n",
    "        frames.append(df)\n",
    "\n",
    "    frame = pd.concat(frames, axis=0, ignore_index=True)\n",
    "    frame.to_csv(folder+\".csv\")"
   ]
  }
 ],
 "metadata": {
  "kernelspec": {
   "display_name": "Python 3.8.3 32-bit",
   "language": "python",
   "name": "python38332bit8b318c9a3a41456eacc04d82e7074197"
  },
  "language_info": {
   "codemirror_mode": {
    "name": "ipython",
    "version": 3
   },
   "file_extension": ".py",
   "mimetype": "text/x-python",
   "name": "python",
   "nbconvert_exporter": "python",
   "pygments_lexer": "ipython3",
   "version": "3.8.3"
  }
 },
 "nbformat": 4,
 "nbformat_minor": 4
}

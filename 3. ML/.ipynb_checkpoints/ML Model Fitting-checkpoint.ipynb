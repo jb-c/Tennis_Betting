{
 "cells": [
  {
   "cell_type": "markdown",
   "metadata": {},
   "source": [
    "# Machine Learning On Tennis Data\n",
    "## Contents\n",
    ">* [Setup](#0)\n",
    ">* [XGBOOST](#1)"
   ]
  },
  {
   "cell_type": "markdown",
   "metadata": {},
   "source": [
    "## 0 - Setup <a class=\"anchor\" id=\"0\"></a>"
   ]
  },
  {
   "cell_type": "code",
   "execution_count": 1,
   "metadata": {},
   "outputs": [],
   "source": [
    "import pandas as pd\n",
    "import numpy as np\n",
    "import pickle\n",
    "import xgboost as xgb\n",
    "from sklearn.metrics import accuracy_score\n",
    "from sklearn.model_selection import RandomizedSearchCV, GridSearchCV\n",
    "import matplotlib.pyplot as plt\n",
    "from scipy import stats\n",
    "from scipy.stats import randint"
   ]
  },
  {
   "cell_type": "code",
   "execution_count": 2,
   "metadata": {},
   "outputs": [],
   "source": [
    "f = open('train_test_split.pkl', 'rb')\n",
    "X_train, X_test, y_train, y_test = pickle.load(f)"
   ]
  },
  {
   "cell_type": "markdown",
   "metadata": {},
   "source": [
    "## Model Fitting"
   ]
  },
  {
   "cell_type": "markdown",
   "metadata": {},
   "source": [
    "I ran the whole of sklearn in a google colab (no hyperparam tuning) to give us an estimate of the success of each model type\n",
    "results = {\n",
    "\"Decision Tree\":0.66,\n",
    "\"Random Forest\":0.53,\n",
    "\"Neural Net\":0.67,\n",
    "\"AdaBoost\":0.67,\n",
    "\"Naive Bayes\":0.60,\n",
    "\"QDA\":0.52,\n",
    "\"Nearest Neighbors\":0.60,\n",
    "\"Linear SVM\":0.67,\n",
    "\"RBF SVM\":0.51,\n",
    "\"Gaussian Process\":0.51\n",
    "}<br>\n",
    "\n",
    "I propose we look at XGBoost (tree methods), Neural nets & SVM"
   ]
  },
  {
   "cell_type": "markdown",
   "metadata": {},
   "source": [
    "### XGBoost <a class=\"anchor\" id=\"1\"></a>"
   ]
  },
  {
   "cell_type": "code",
   "execution_count": 3,
   "metadata": {},
   "outputs": [],
   "source": [
    "d_train = xgb.DMatrix(X_train, label=y_train)\n",
    "d_test = xgb.DMatrix(X_test, label=y_test)"
   ]
  },
  {
   "cell_type": "code",
   "execution_count": 4,
   "metadata": {},
   "outputs": [],
   "source": [
    "clf_xgb = xgb.XGBClassifier(objective = 'binary:logistic')"
   ]
  },
  {
   "cell_type": "code",
   "execution_count": 5,
   "metadata": {},
   "outputs": [],
   "source": [
    "## The cube of hyperparams to search over\n",
    "param_dist = {\n",
    "              'n_estimators': stats.randint(150, 1000),\n",
    "              'learning_rate': stats.uniform(0.01, 0.6),\n",
    "              'subsample': stats.uniform(0.3, 0.9),\n",
    "              'max_depth': [3, 4, 5, 6, 7, 8, 9],\n",
    "              'colsample_bytree': stats.uniform(0.5, 0.9),\n",
    "              'min_child_weight': [1, 2, 3, 4]\n",
    "             }"
   ]
  },
  {
   "cell_type": "raw",
   "metadata": {},
   "source": [
    "clf = RandomizedSearchCV(clf_xgb, param_distributions = param_dist, n_iter = 5,scoring = 'roc_auc', error_score = 0, verbose = 3, n_jobs = -1)\n",
    "random_search = RandomizedSearchCV(clf_xgb,param_distributions=search_params,n_iter=5,scoring='roc_auc',cv=4,verbose=3)"
   ]
  },
  {
   "cell_type": "raw",
   "metadata": {},
   "source": [
    "clf.fit(X_test,y_test)"
   ]
  },
  {
   "cell_type": "raw",
   "metadata": {},
   "source": [
    "clf.best_params_"
   ]
  },
  {
   "cell_type": "code",
   "execution_count": 6,
   "metadata": {},
   "outputs": [],
   "source": [
    "param = {'colsample_bytree': 0.8346974684768449, 'learning_rate': 0.036831995668043196, 'max_depth': 8, 'min_child_weight': 2, 'subsample': 0.6974361497748996, 'objective': 'binary:logistic'}\n",
    "epochs = 15"
   ]
  },
  {
   "cell_type": "code",
   "execution_count": 7,
   "metadata": {},
   "outputs": [
    {
     "name": "stdout",
     "output_type": "stream",
     "text": [
      "[23:34:39] WARNING: C:/Users/Administrator/workspace/xgboost-win64_release_1.3.0/src/learner.cc:1061: Starting in XGBoost 1.3.0, the default evaluation metric used with the objective 'binary:logistic' was changed from 'error' to 'logloss'. Explicitly set eval_metric if you'd like to restore the old behavior.\n"
     ]
    }
   ],
   "source": [
    "bst = xgb.train(param, d_train, epochs)"
   ]
  },
  {
   "cell_type": "code",
   "execution_count": 8,
   "metadata": {},
   "outputs": [],
   "source": [
    "preds = bst.predict(d_test)\n",
    "pred_df = pd.DataFrame({'y': y_test,'pred': preds})"
   ]
  },
  {
   "cell_type": "code",
   "execution_count": 9,
   "metadata": {},
   "outputs": [
    {
     "name": "stderr",
     "output_type": "stream",
     "text": [
      "K:\\Programs\\Anaconda\\lib\\site-packages\\numpy\\lib\\function_base.py:393: RuntimeWarning: Mean of empty slice.\n",
      "  avg = a.mean(axis)\n",
      "K:\\Programs\\Anaconda\\lib\\site-packages\\numpy\\core\\_methods.py:161: RuntimeWarning: invalid value encountered in double_scalars\n",
      "  ret = ret.dtype.type(ret / rcount)\n"
     ]
    }
   ],
   "source": [
    "acc_list = []\n",
    "freq_list = []\n",
    "for p_threshold in np.linspace(0.5,0.75,100):\n",
    "    condifent_preds = pred_df[(pred_df.pred>p_threshold) | (pred_df.pred<(1-p_threshold))]\n",
    "    accuracy = accuracy_score(condifent_preds.y,(condifent_preds.pred > 0.5).astype('uint8'))\n",
    "    acc_list.append(accuracy)\n",
    "    freq_list.append(condifent_preds.shape[0])\n",
    "    \n",
    "freq_list = np.array(freq_list); acc_list = np.array(acc_list)\n",
    "freq_list = freq_list/len(preds)"
   ]
  },
  {
   "cell_type": "code",
   "execution_count": 10,
   "metadata": {},
   "outputs": [
    {
     "data": {
      "text/plain": [
       "<matplotlib.legend.Legend at 0x186d2bacd08>"
      ]
     },
     "execution_count": 10,
     "metadata": {},
     "output_type": "execute_result"
    },
    {
     "data": {
      "image/png": "[encoded data removed]",
      "text/plain": [
       "<Figure size 432x288 with 1 Axes>"
      ]
     },
     "metadata": {
      "needs_background": "light"
     },
     "output_type": "display_data"
    }
   ],
   "source": [
    "plt.plot(np.linspace(0.5,0.75,100),acc_list,label='model_acc')\n",
    "plt.plot(np.linspace(0.5,0.75,100),freq_list,label='%matches meeting threshold')\n",
    "plt.xlabel('confidence threshold')\n",
    "plt.title('XGBOOST Performence')\n",
    "plt.legend()"
   ]
  },
  {
   "cell_type": "code",
   "execution_count": 11,
   "metadata": {},
   "outputs": [],
   "source": [
    "bst.save_model('xgb_model.json')"
   ]
  },
  {
   "cell_type": "code",
   "execution_count": 12,
   "metadata": {},
   "outputs": [],
   "source": [
    "pickle.dump(bst, open(\"bst.pickle.dat\", \"wb\"))"
   ]
  }
 ],
 "metadata": {
  "kernelspec": {
   "display_name": "Python 3",
   "language": "python",
   "name": "python3"
  },
  "language_info": {
   "codemirror_mode": {
    "name": "ipython",
    "version": 3
   },
   "file_extension": ".py",
   "mimetype": "text/x-python",
   "name": "python",
   "nbconvert_exporter": "python",
   "pygments_lexer": "ipython3",
   "version": "3.7.6"
  }
 },
 "nbformat": 4,
 "nbformat_minor": 4
}

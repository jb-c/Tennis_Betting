{
 "cells": [
  {
   "cell_type": "markdown",
   "metadata": {},
   "source": [
    "# Very simple predictions\n",
    "## Contents"
   ]
  },
  {
   "cell_type": "code",
   "execution_count": 98,
   "metadata": {},
   "outputs": [],
   "source": [
    "import pandas as pd\n",
    "import numpy as np"
   ]
  },
  {
   "cell_type": "markdown",
   "metadata": {},
   "source": [
    "## 0 - Setup <a class=\"anchor\" id=\"0\"></a>"
   ]
  },
  {
   "cell_type": "code",
   "execution_count": 99,
   "metadata": {},
   "outputs": [
    {
     "name": "stderr",
     "output_type": "stream",
     "text": [
      "/Users/thomasblake/anaconda3/envs/vision/lib/python3.7/site-packages/IPython/core/interactiveshell.py:3049: DtypeWarning: Columns (11,12,15,16,17,18,38) have mixed types.Specify dtype option on import or set low_memory=False.\n",
      "  interactivity=interactivity, compiler=compiler, result=result)\n"
     ]
    }
   ],
   "source": [
    "mens_df = pd.read_csv('../data/mens.csv',header=0,parse_dates=[\"Date\"])\n",
    "\n",
    "# Remove walkovers\n",
    "mens_df = mens_df[mens_df['Comment']!='Walkover']"
   ]
  },
  {
   "cell_type": "code",
   "execution_count": 100,
   "metadata": {},
   "outputs": [
    {
     "data": {
      "text/html": [
       "<div>\n",
       "<style scoped>\n",
       "    .dataframe tbody tr th:only-of-type {\n",
       "        vertical-align: middle;\n",
       "    }\n",
       "\n",
       "    .dataframe tbody tr th {\n",
       "        vertical-align: top;\n",
       "    }\n",
       "\n",
       "    .dataframe thead th {\n",
       "        text-align: right;\n",
       "    }\n",
       "</style>\n",
       "<table border=\"1\" class=\"dataframe\">\n",
       "  <thead>\n",
       "    <tr style=\"text-align: right;\">\n",
       "      <th></th>\n",
       "      <th>Winner</th>\n",
       "      <th>Loser</th>\n",
       "      <th>Date</th>\n",
       "    </tr>\n",
       "  </thead>\n",
       "  <tbody>\n",
       "    <tr>\n",
       "      <th>0</th>\n",
       "      <td>Dosedel S.</td>\n",
       "      <td>Ljubicic I.</td>\n",
       "      <td>2000-01-03</td>\n",
       "    </tr>\n",
       "    <tr>\n",
       "      <th>1</th>\n",
       "      <td>Enqvist T.</td>\n",
       "      <td>Clement A.</td>\n",
       "      <td>2000-01-03</td>\n",
       "    </tr>\n",
       "    <tr>\n",
       "      <th>2</th>\n",
       "      <td>Escude N.</td>\n",
       "      <td>Baccanello P.</td>\n",
       "      <td>2000-01-03</td>\n",
       "    </tr>\n",
       "    <tr>\n",
       "      <th>3</th>\n",
       "      <td>Federer R.</td>\n",
       "      <td>Knippschild J.</td>\n",
       "      <td>2000-01-03</td>\n",
       "    </tr>\n",
       "    <tr>\n",
       "      <th>4</th>\n",
       "      <td>Fromberg R.</td>\n",
       "      <td>Woodbridge T.</td>\n",
       "      <td>2000-01-03</td>\n",
       "    </tr>\n",
       "    <tr>\n",
       "      <th>...</th>\n",
       "      <td>...</td>\n",
       "      <td>...</td>\n",
       "      <td>...</td>\n",
       "    </tr>\n",
       "    <tr>\n",
       "      <th>53463</th>\n",
       "      <td>Djokovic N.</td>\n",
       "      <td>Zverev A.</td>\n",
       "      <td>2020-11-20</td>\n",
       "    </tr>\n",
       "    <tr>\n",
       "      <th>53464</th>\n",
       "      <td>Medvedev D.</td>\n",
       "      <td>Schwartzman D.</td>\n",
       "      <td>2020-11-20</td>\n",
       "    </tr>\n",
       "    <tr>\n",
       "      <th>53465</th>\n",
       "      <td>Thiem D.</td>\n",
       "      <td>Djokovic N.</td>\n",
       "      <td>2020-11-21</td>\n",
       "    </tr>\n",
       "    <tr>\n",
       "      <th>53466</th>\n",
       "      <td>Medvedev D.</td>\n",
       "      <td>Nadal R.</td>\n",
       "      <td>2020-11-21</td>\n",
       "    </tr>\n",
       "    <tr>\n",
       "      <th>53467</th>\n",
       "      <td>Medvedev D.</td>\n",
       "      <td>Thiem D.</td>\n",
       "      <td>2020-11-22</td>\n",
       "    </tr>\n",
       "  </tbody>\n",
       "</table>\n",
       "<p>53203 rows × 3 columns</p>\n",
       "</div>"
      ],
      "text/plain": [
       "            Winner           Loser       Date\n",
       "0       Dosedel S.     Ljubicic I. 2000-01-03\n",
       "1       Enqvist T.      Clement A. 2000-01-03\n",
       "2        Escude N.   Baccanello P. 2000-01-03\n",
       "3       Federer R.  Knippschild J. 2000-01-03\n",
       "4      Fromberg R.   Woodbridge T. 2000-01-03\n",
       "...            ...             ...        ...\n",
       "53463  Djokovic N.       Zverev A. 2020-11-20\n",
       "53464  Medvedev D.  Schwartzman D. 2020-11-20\n",
       "53465     Thiem D.     Djokovic N. 2020-11-21\n",
       "53466  Medvedev D.        Nadal R. 2020-11-21\n",
       "53467  Medvedev D.        Thiem D. 2020-11-22\n",
       "\n",
       "[53203 rows x 3 columns]"
      ]
     },
     "execution_count": 100,
     "metadata": {},
     "output_type": "execute_result"
    }
   ],
   "source": [
    "mens_df = mens_df[['Winner','Loser','Date']]\n",
    "mens_df"
   ]
  },
  {
   "cell_type": "markdown",
   "metadata": {},
   "source": [
    "Define a function which checks who won the last game between the two players"
   ]
  },
  {
   "cell_type": "code",
   "execution_count": 101,
   "metadata": {},
   "outputs": [],
   "source": [
    "def checkLastResult(player1, player2, date):\n",
    "    ## filter data\n",
    "    filteredData = mens_df[((mens_df['Winner'] == player1) & (mens_df['Loser'] == player2)) | ((mens_df['Winner'] == player2) & (mens_df['Loser'] == player1))]\n",
    "    filteredData = filteredData[filteredData.Date < date]\n",
    "    try: \n",
    "        predictedWinner = filteredData[filteredData.Date == filteredData.Date.max()].iloc[0]['Winner']\n",
    "    except:\n",
    "        predictedWinner = np.nan\n",
    "    return predictedWinner\n",
    "    \n",
    "    "
   ]
  },
  {
   "cell_type": "code",
   "execution_count": 102,
   "metadata": {},
   "outputs": [
    {
     "name": "stdout",
     "output_type": "stream",
     "text": [
      "Hurkacz H.\n"
     ]
    }
   ],
   "source": [
    "print(checkLastResult('Hurkacz H.','Lopez F.', '2020-11-22'))"
   ]
  },
  {
   "cell_type": "markdown",
   "metadata": {},
   "source": [
    "Test for september 2020"
   ]
  },
  {
   "cell_type": "code",
   "execution_count": 103,
   "metadata": {},
   "outputs": [
    {
     "name": "stderr",
     "output_type": "stream",
     "text": [
      "/Users/thomasblake/anaconda3/envs/vision/lib/python3.7/site-packages/ipykernel_launcher.py:2: SettingWithCopyWarning: \n",
      "A value is trying to be set on a copy of a slice from a DataFrame.\n",
      "Try using .loc[row_indexer,col_indexer] = value instead\n",
      "\n",
      "See the caveats in the documentation: https://pandas.pydata.org/pandas-docs/stable/user_guide/indexing.html#returning-a-view-versus-a-copy\n",
      "  \n"
     ]
    }
   ],
   "source": [
    "sept2020 = mens_df[mens_df.Date > '09-01-2020']\n",
    "sept2020[\"modelPrediction\"] = sept2020.apply(lambda x: checkLastResult(x.Winner, x.Loser, x.Date),axis = 1)\n"
   ]
  },
  {
   "cell_type": "code",
   "execution_count": 105,
   "metadata": {},
   "outputs": [
    {
     "data": {
      "text/plain": [
       "338"
      ]
     },
     "execution_count": 105,
     "metadata": {},
     "output_type": "execute_result"
    }
   ],
   "source": [
    "sept2020[\"modelPrediction\"].isnull().sum()"
   ]
  },
  {
   "cell_type": "markdown",
   "metadata": {},
   "source": [
    "The majority of matches have never played each other before"
   ]
  },
  {
   "cell_type": "code",
   "execution_count": 106,
   "metadata": {},
   "outputs": [
    {
     "data": {
      "text/html": [
       "<div>\n",
       "<style scoped>\n",
       "    .dataframe tbody tr th:only-of-type {\n",
       "        vertical-align: middle;\n",
       "    }\n",
       "\n",
       "    .dataframe tbody tr th {\n",
       "        vertical-align: top;\n",
       "    }\n",
       "\n",
       "    .dataframe thead th {\n",
       "        text-align: right;\n",
       "    }\n",
       "</style>\n",
       "<table border=\"1\" class=\"dataframe\">\n",
       "  <thead>\n",
       "    <tr style=\"text-align: right;\">\n",
       "      <th></th>\n",
       "      <th>Winner</th>\n",
       "      <th>Loser</th>\n",
       "      <th>Date</th>\n",
       "      <th>modelPrediction</th>\n",
       "    </tr>\n",
       "  </thead>\n",
       "  <tbody>\n",
       "    <tr>\n",
       "      <th>52808</th>\n",
       "      <td>Hurkacz H.</td>\n",
       "      <td>Sousa J.</td>\n",
       "      <td>2020-09-08</td>\n",
       "      <td>Sousa J.</td>\n",
       "    </tr>\n",
       "    <tr>\n",
       "      <th>52814</th>\n",
       "      <td>Sinner J.</td>\n",
       "      <td>Kohlschreiber P.</td>\n",
       "      <td>2020-09-09</td>\n",
       "      <td>Sinner J.</td>\n",
       "    </tr>\n",
       "    <tr>\n",
       "      <th>52815</th>\n",
       "      <td>Delbonis F.</td>\n",
       "      <td>Londero J.I.</td>\n",
       "      <td>2020-09-09</td>\n",
       "      <td>Londero J.I.</td>\n",
       "    </tr>\n",
       "    <tr>\n",
       "      <th>52818</th>\n",
       "      <td>Djere L.</td>\n",
       "      <td>Ramos-Vinolas A.</td>\n",
       "      <td>2020-09-09</td>\n",
       "      <td>Djere L.</td>\n",
       "    </tr>\n",
       "    <tr>\n",
       "      <th>52819</th>\n",
       "      <td>Lopez F.</td>\n",
       "      <td>Herbert P.H.</td>\n",
       "      <td>2020-09-09</td>\n",
       "      <td>Lopez F.</td>\n",
       "    </tr>\n",
       "    <tr>\n",
       "      <th>...</th>\n",
       "      <td>...</td>\n",
       "      <td>...</td>\n",
       "      <td>...</td>\n",
       "      <td>...</td>\n",
       "    </tr>\n",
       "    <tr>\n",
       "      <th>53463</th>\n",
       "      <td>Djokovic N.</td>\n",
       "      <td>Zverev A.</td>\n",
       "      <td>2020-11-20</td>\n",
       "      <td>Djokovic N.</td>\n",
       "    </tr>\n",
       "    <tr>\n",
       "      <th>53464</th>\n",
       "      <td>Medvedev D.</td>\n",
       "      <td>Schwartzman D.</td>\n",
       "      <td>2020-11-20</td>\n",
       "      <td>Medvedev D.</td>\n",
       "    </tr>\n",
       "    <tr>\n",
       "      <th>53465</th>\n",
       "      <td>Thiem D.</td>\n",
       "      <td>Djokovic N.</td>\n",
       "      <td>2020-11-21</td>\n",
       "      <td>Djokovic N.</td>\n",
       "    </tr>\n",
       "    <tr>\n",
       "      <th>53466</th>\n",
       "      <td>Medvedev D.</td>\n",
       "      <td>Nadal R.</td>\n",
       "      <td>2020-11-21</td>\n",
       "      <td>Nadal R.</td>\n",
       "    </tr>\n",
       "    <tr>\n",
       "      <th>53467</th>\n",
       "      <td>Medvedev D.</td>\n",
       "      <td>Thiem D.</td>\n",
       "      <td>2020-11-22</td>\n",
       "      <td>Thiem D.</td>\n",
       "    </tr>\n",
       "  </tbody>\n",
       "</table>\n",
       "<p>272 rows × 4 columns</p>\n",
       "</div>"
      ],
      "text/plain": [
       "            Winner             Loser       Date modelPrediction\n",
       "52808   Hurkacz H.          Sousa J. 2020-09-08        Sousa J.\n",
       "52814    Sinner J.  Kohlschreiber P. 2020-09-09       Sinner J.\n",
       "52815  Delbonis F.      Londero J.I. 2020-09-09    Londero J.I.\n",
       "52818     Djere L.  Ramos-Vinolas A. 2020-09-09        Djere L.\n",
       "52819     Lopez F.      Herbert P.H. 2020-09-09        Lopez F.\n",
       "...            ...               ...        ...             ...\n",
       "53463  Djokovic N.         Zverev A. 2020-11-20     Djokovic N.\n",
       "53464  Medvedev D.    Schwartzman D. 2020-11-20     Medvedev D.\n",
       "53465     Thiem D.       Djokovic N. 2020-11-21     Djokovic N.\n",
       "53466  Medvedev D.          Nadal R. 2020-11-21        Nadal R.\n",
       "53467  Medvedev D.          Thiem D. 2020-11-22        Thiem D.\n",
       "\n",
       "[272 rows x 4 columns]"
      ]
     },
     "execution_count": 106,
     "metadata": {},
     "output_type": "execute_result"
    }
   ],
   "source": [
    "sept2020 = sept2020[sept2020[\"modelPrediction\"].notna()]\n",
    "sept2020"
   ]
  },
  {
   "cell_type": "code",
   "execution_count": 107,
   "metadata": {},
   "outputs": [
    {
     "data": {
      "text/html": [
       "<div>\n",
       "<style scoped>\n",
       "    .dataframe tbody tr th:only-of-type {\n",
       "        vertical-align: middle;\n",
       "    }\n",
       "\n",
       "    .dataframe tbody tr th {\n",
       "        vertical-align: top;\n",
       "    }\n",
       "\n",
       "    .dataframe thead th {\n",
       "        text-align: right;\n",
       "    }\n",
       "</style>\n",
       "<table border=\"1\" class=\"dataframe\">\n",
       "  <thead>\n",
       "    <tr style=\"text-align: right;\">\n",
       "      <th></th>\n",
       "      <th>Winner</th>\n",
       "      <th>Loser</th>\n",
       "      <th>Date</th>\n",
       "      <th>modelPrediction</th>\n",
       "      <th>Correct</th>\n",
       "    </tr>\n",
       "  </thead>\n",
       "  <tbody>\n",
       "    <tr>\n",
       "      <th>52808</th>\n",
       "      <td>Hurkacz H.</td>\n",
       "      <td>Sousa J.</td>\n",
       "      <td>2020-09-08</td>\n",
       "      <td>Sousa J.</td>\n",
       "      <td>False</td>\n",
       "    </tr>\n",
       "    <tr>\n",
       "      <th>52814</th>\n",
       "      <td>Sinner J.</td>\n",
       "      <td>Kohlschreiber P.</td>\n",
       "      <td>2020-09-09</td>\n",
       "      <td>Sinner J.</td>\n",
       "      <td>True</td>\n",
       "    </tr>\n",
       "    <tr>\n",
       "      <th>52815</th>\n",
       "      <td>Delbonis F.</td>\n",
       "      <td>Londero J.I.</td>\n",
       "      <td>2020-09-09</td>\n",
       "      <td>Londero J.I.</td>\n",
       "      <td>False</td>\n",
       "    </tr>\n",
       "    <tr>\n",
       "      <th>52818</th>\n",
       "      <td>Djere L.</td>\n",
       "      <td>Ramos-Vinolas A.</td>\n",
       "      <td>2020-09-09</td>\n",
       "      <td>Djere L.</td>\n",
       "      <td>True</td>\n",
       "    </tr>\n",
       "    <tr>\n",
       "      <th>52819</th>\n",
       "      <td>Lopez F.</td>\n",
       "      <td>Herbert P.H.</td>\n",
       "      <td>2020-09-09</td>\n",
       "      <td>Lopez F.</td>\n",
       "      <td>True</td>\n",
       "    </tr>\n",
       "    <tr>\n",
       "      <th>...</th>\n",
       "      <td>...</td>\n",
       "      <td>...</td>\n",
       "      <td>...</td>\n",
       "      <td>...</td>\n",
       "      <td>...</td>\n",
       "    </tr>\n",
       "    <tr>\n",
       "      <th>53463</th>\n",
       "      <td>Djokovic N.</td>\n",
       "      <td>Zverev A.</td>\n",
       "      <td>2020-11-20</td>\n",
       "      <td>Djokovic N.</td>\n",
       "      <td>True</td>\n",
       "    </tr>\n",
       "    <tr>\n",
       "      <th>53464</th>\n",
       "      <td>Medvedev D.</td>\n",
       "      <td>Schwartzman D.</td>\n",
       "      <td>2020-11-20</td>\n",
       "      <td>Medvedev D.</td>\n",
       "      <td>True</td>\n",
       "    </tr>\n",
       "    <tr>\n",
       "      <th>53465</th>\n",
       "      <td>Thiem D.</td>\n",
       "      <td>Djokovic N.</td>\n",
       "      <td>2020-11-21</td>\n",
       "      <td>Djokovic N.</td>\n",
       "      <td>False</td>\n",
       "    </tr>\n",
       "    <tr>\n",
       "      <th>53466</th>\n",
       "      <td>Medvedev D.</td>\n",
       "      <td>Nadal R.</td>\n",
       "      <td>2020-11-21</td>\n",
       "      <td>Nadal R.</td>\n",
       "      <td>False</td>\n",
       "    </tr>\n",
       "    <tr>\n",
       "      <th>53467</th>\n",
       "      <td>Medvedev D.</td>\n",
       "      <td>Thiem D.</td>\n",
       "      <td>2020-11-22</td>\n",
       "      <td>Thiem D.</td>\n",
       "      <td>False</td>\n",
       "    </tr>\n",
       "  </tbody>\n",
       "</table>\n",
       "<p>272 rows × 5 columns</p>\n",
       "</div>"
      ],
      "text/plain": [
       "            Winner             Loser       Date modelPrediction  Correct\n",
       "52808   Hurkacz H.          Sousa J. 2020-09-08        Sousa J.    False\n",
       "52814    Sinner J.  Kohlschreiber P. 2020-09-09       Sinner J.     True\n",
       "52815  Delbonis F.      Londero J.I. 2020-09-09    Londero J.I.    False\n",
       "52818     Djere L.  Ramos-Vinolas A. 2020-09-09        Djere L.     True\n",
       "52819     Lopez F.      Herbert P.H. 2020-09-09        Lopez F.     True\n",
       "...            ...               ...        ...             ...      ...\n",
       "53463  Djokovic N.         Zverev A. 2020-11-20     Djokovic N.     True\n",
       "53464  Medvedev D.    Schwartzman D. 2020-11-20     Medvedev D.     True\n",
       "53465     Thiem D.       Djokovic N. 2020-11-21     Djokovic N.    False\n",
       "53466  Medvedev D.          Nadal R. 2020-11-21        Nadal R.    False\n",
       "53467  Medvedev D.          Thiem D. 2020-11-22        Thiem D.    False\n",
       "\n",
       "[272 rows x 5 columns]"
      ]
     },
     "execution_count": 107,
     "metadata": {},
     "output_type": "execute_result"
    }
   ],
   "source": [
    "sept2020[\"Correct\"] = sept2020[\"modelPrediction\"] == sept2020[\"Winner\"]\n",
    "sept2020"
   ]
  },
  {
   "cell_type": "code",
   "execution_count": 109,
   "metadata": {},
   "outputs": [
    {
     "data": {
      "text/plain": [
       "0.5294117647058824"
      ]
     },
     "execution_count": 109,
     "metadata": {},
     "output_type": "execute_result"
    }
   ],
   "source": [
    "accuracy = sept2020['Correct'].sum()/sept2020.shape[0]\n",
    "accuracy"
   ]
  },
  {
   "cell_type": "code",
   "execution_count": null,
   "metadata": {},
   "outputs": [],
   "source": []
  },
  {
   "cell_type": "code",
   "execution_count": null,
   "metadata": {},
   "outputs": [],
   "source": []
  },
  {
   "cell_type": "code",
   "execution_count": null,
   "metadata": {},
   "outputs": [],
   "source": []
  }
 ],
 "metadata": {
  "kernelspec": {
   "display_name": "Python 3",
   "language": "python",
   "name": "python3"
  },
  "language_info": {
   "codemirror_mode": {
    "name": "ipython",
    "version": 3
   },
   "file_extension": ".py",
   "mimetype": "text/x-python",
   "name": "python",
   "nbconvert_exporter": "python",
   "pygments_lexer": "ipython3",
   "version": "3.7.6"
  }
 },
 "nbformat": 4,
 "nbformat_minor": 2
}

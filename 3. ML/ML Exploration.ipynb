{
 "cells": [
  {
   "cell_type": "markdown",
   "metadata": {},
   "source": [
    "## Machine Learning On Tennis Data"
   ]
  },
  {
   "cell_type": "code",
   "execution_count": 1,
   "metadata": {},
   "outputs": [],
   "source": [
    "import pandas as pd\n",
    "import numpy as np"
   ]
  },
  {
   "cell_type": "code",
   "execution_count": 2,
   "metadata": {},
   "outputs": [
    {
     "name": "stderr",
     "output_type": "stream",
     "text": [
      "K:\\Programs\\Anaconda\\lib\\site-packages\\IPython\\core\\interactiveshell.py:3063: DtypeWarning: Columns (11,12,15,16,17,18,38) have mixed types.Specify dtype option on import or set low_memory=False.\n",
      "  interactivity=interactivity, compiler=compiler, result=result)\n",
      "K:\\Programs\\Anaconda\\lib\\site-packages\\IPython\\core\\interactiveshell.py:3063: DtypeWarning: Columns (25,28,34) have mixed types.Specify dtype option on import or set low_memory=False.\n",
      "  interactivity=interactivity, compiler=compiler, result=result)\n"
     ]
    }
   ],
   "source": [
    "mens_df = pd.read_csv('../data/mens.csv',header=0,parse_dates=[\"Date\"])\n",
    "womens_df = pd.read_csv('../data/womens.csv',header=0,parse_dates=[\"Date\"])\n",
    "\n",
    "# Remove walkovers\n",
    "mens_df = mens_df[mens_df['Comment']!='Walkover']\n",
    "womens_df = womens_df[womens_df['Comment']!='Walkover']"
   ]
  },
  {
   "cell_type": "markdown",
   "metadata": {},
   "source": [
    "## Data Dictionary\n",
    "Key to results data:\n",
    "\n",
    "* ATP = Tournament number (men)\n",
    "* WTA = Tournament number (women)\n",
    "* Location = Venue of tournament\n",
    "* Tournament = Name of tounament (including sponsor if relevant)\n",
    "* Data = Date of match (note: prior to 2003 the date shown for all matches played in a single tournament is the start date)\n",
    "* Series = Name of ATP tennis series (Grand Slam, Masters, International or International Gold)\n",
    "* Tier = Tier (tournament ranking) of WTA tennis series.\n",
    "* Court = Type of court (outdoors or indoors)\n",
    "* Surface = Type of surface (clay, hard, carpet or grass)\n",
    "* Round = Round of match\n",
    "* Best of = Maximum number of sets playable in match\n",
    "* Winner = Match winner\n",
    "* Loser = Match loser\n",
    "* WRank = ATP Entry ranking of the match winner as of the start of the tournament\n",
    "* LRank = ATP Entry ranking of the match loser as of the start of the tournament\n",
    "* WPts = ATP Entry points of the match winner as of the start of the tournament\n",
    "* LPts = ATP Entry points of the match loser as of the start of the tournament\n",
    "* W1 = Number of games won in 1st set by match winner\n",
    "* L1 = Number of games won in 1st set by match loser\n",
    "* W2 = Number of games won in 2nd set by match winner\n",
    "* L2 = Number of games won in 2nd set by match loser\n",
    "* W3 = Number of games won in 3rd set by match winner\n",
    "* L3 = Number of games won in 3rd set by match loser\n",
    "* W4 = Number of games won in 4th set by match winner\n",
    "* L4 = Number of games won in 4th set by match loser\n",
    "* W5 = Number of games won in 5th set by match winner\n",
    "* L5 = Number of games won in 5th set by match loser\n",
    "* Wsets = Number of sets won by match winner\n",
    "* Lsets = Number of sets won by match loser\n",
    "* Comment = Comment on the match (Completed, won through retirement of loser, or via Walkover)\n",
    "\n",
    "\n",
    "Key to match betting odds data:\n",
    "\n",
    "* B365W = Bet365 odds of match winner\n",
    "* B365L = Bet365 odds of match loser\n",
    "* B&WW = Bet&Win odds of match winner\n",
    "* B&WL = Bet&Win odds of match loser\n",
    "* CBW = Centrebet odds of match winner\n",
    "* CBL = Centrebet odds of match loser\n",
    "* EXW = Expekt odds of match winner\n",
    "* EXL = Expekt odds of match loser\n",
    "* LBW = Ladbrokes odds of match winner\n",
    "* LBL = Ladbrokes odds of match loser\n",
    "* GBW = Gamebookers odds of match winner\n",
    "* GBL = Gamebookers odds of match loser\n",
    "* IWW = Interwetten odds of match winner\n",
    "* IWL = Interwetten odds of match loser\n",
    "* PSW = Pinnacles Sports odds of match winner\n",
    "* PSL = Pinnacles Sports odds of match loser\n",
    "* SBW = Sportingbet odds of match winner\n",
    "* SBL = Sportingbet odds of match loser\n",
    "* SJW = Stan James odds of match winner\n",
    "* SJL = Stan James odds of match loser\n",
    "* UBW = Unibet odds of match winner\n",
    "* UBL = Unibet odds of match loser\n",
    "\n",
    "* MaxW= Maximum odds of match winner (as shown by Oddsportal.com)\n",
    "* MaxL= Maximum odds of match loser (as shown by Oddsportal.com)\n",
    "* AvgW= Average odds of match winner (as shown by Oddsportal.com)\n",
    "* AvgL= Average odds of match loser (as shown by Oddsportal.com)"
   ]
  },
  {
   "cell_type": "markdown",
   "metadata": {},
   "source": [
    "## Adding Features"
   ]
  },
  {
   "cell_type": "markdown",
   "metadata": {},
   "source": [
    "When we train this model, the data will be shuffled so we'll lose any notion of time. We can add a few easily computable features to capture some of this information. For the moment we can add\n",
    "* Streak - length of current winning streak\n",
    "* Prefered suface - boolen true if current surface has most wins (players play ~ 80 games/year so maybe look at last 30 games)\n",
    "* Prefered court - same as prefered surface for court\n",
    "* Historical winner - If the players have played before, who won?"
   ]
  },
  {
   "cell_type": "markdown",
   "metadata": {},
   "source": [
    "### Data Structures to do this\n",
    "We'll need some additional data structures to do this\n",
    "* A dict for tracking player wins\n",
    "> player -> dict = (player -> historic result)\n",
    "* A dict for tracking player preferences over time\n",
    "> player -> dict = {streak, #court wins,#surface wins,date}"
   ]
  },
  {
   "cell_type": "code",
   "execution_count": 4,
   "metadata": {},
   "outputs": [],
   "source": [
    "historical_wins = {}\n",
    "p_observables = {}"
   ]
  },
  {
   "cell_type": "code",
   "execution_count": null,
   "metadata": {},
   "outputs": [],
   "source": [
    "def match_to_new_features(x):\n",
    "    # Get data before we update it, as this is what we'd have irl\n",
    "    w_streak = p_observables[x.Winner]['streak']\n",
    "    l_streak = p_observables[x.Loser]['streak']\n",
    "    \n",
    "    "
   ]
  },
  {
   "cell_type": "code",
   "execution_count": 10,
   "metadata": {},
   "outputs": [
    {
     "data": {
      "text/plain": [
       "array(['Hard', 'Carpet', 'Clay', 'Grass', 'Greenset'], dtype=object)"
      ]
     },
     "execution_count": 10,
     "metadata": {},
     "output_type": "execute_result"
    }
   ],
   "source": [
    "womens_df['Surface'].unique()"
   ]
  },
  {
   "cell_type": "code",
   "execution_count": null,
   "metadata": {},
   "outputs": [],
   "source": []
  }
 ],
 "metadata": {
  "kernelspec": {
   "display_name": "Python 3",
   "language": "python",
   "name": "python3"
  },
  "language_info": {
   "codemirror_mode": {
    "name": "ipython",
    "version": 3
   },
   "file_extension": ".py",
   "mimetype": "text/x-python",
   "name": "python",
   "nbconvert_exporter": "python",
   "pygments_lexer": "ipython3",
   "version": "3.7.6"
  }
 },
 "nbformat": 4,
 "nbformat_minor": 4
}

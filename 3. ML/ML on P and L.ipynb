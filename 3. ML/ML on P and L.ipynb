{
 "cells": [
  {
   "cell_type": "markdown",
   "metadata": {},
   "source": [
    "# Machine Learning to Maximise Profit\n",
    "## Setup"
   ]
  },
  {
   "cell_type": "code",
   "execution_count": 1,
   "metadata": {},
   "outputs": [
    {
     "name": "stderr",
     "output_type": "stream",
     "text": [
      "Using TensorFlow backend.\n",
      "K:\\Programs\\Anaconda\\lib\\site-packages\\tensorflow\\python\\framework\\dtypes.py:516: FutureWarning: Passing (type, 1) or '1type' as a synonym of type is deprecated; in a future version of numpy, it will be understood as (type, (1,)) / '(1,)type'.\n",
      "  _np_qint8 = np.dtype([(\"qint8\", np.int8, 1)])\n",
      "K:\\Programs\\Anaconda\\lib\\site-packages\\tensorflow\\python\\framework\\dtypes.py:517: FutureWarning: Passing (type, 1) or '1type' as a synonym of type is deprecated; in a future version of numpy, it will be understood as (type, (1,)) / '(1,)type'.\n",
      "  _np_quint8 = np.dtype([(\"quint8\", np.uint8, 1)])\n",
      "K:\\Programs\\Anaconda\\lib\\site-packages\\tensorflow\\python\\framework\\dtypes.py:518: FutureWarning: Passing (type, 1) or '1type' as a synonym of type is deprecated; in a future version of numpy, it will be understood as (type, (1,)) / '(1,)type'.\n",
      "  _np_qint16 = np.dtype([(\"qint16\", np.int16, 1)])\n",
      "K:\\Programs\\Anaconda\\lib\\site-packages\\tensorflow\\python\\framework\\dtypes.py:519: FutureWarning: Passing (type, 1) or '1type' as a synonym of type is deprecated; in a future version of numpy, it will be understood as (type, (1,)) / '(1,)type'.\n",
      "  _np_quint16 = np.dtype([(\"quint16\", np.uint16, 1)])\n",
      "K:\\Programs\\Anaconda\\lib\\site-packages\\tensorflow\\python\\framework\\dtypes.py:520: FutureWarning: Passing (type, 1) or '1type' as a synonym of type is deprecated; in a future version of numpy, it will be understood as (type, (1,)) / '(1,)type'.\n",
      "  _np_qint32 = np.dtype([(\"qint32\", np.int32, 1)])\n",
      "K:\\Programs\\Anaconda\\lib\\site-packages\\tensorflow\\python\\framework\\dtypes.py:525: FutureWarning: Passing (type, 1) or '1type' as a synonym of type is deprecated; in a future version of numpy, it will be understood as (type, (1,)) / '(1,)type'.\n",
      "  np_resource = np.dtype([(\"resource\", np.ubyte, 1)])\n",
      "K:\\Programs\\Anaconda\\lib\\site-packages\\tensorboard\\compat\\tensorflow_stub\\dtypes.py:541: FutureWarning: Passing (type, 1) or '1type' as a synonym of type is deprecated; in a future version of numpy, it will be understood as (type, (1,)) / '(1,)type'.\n",
      "  _np_qint8 = np.dtype([(\"qint8\", np.int8, 1)])\n",
      "K:\\Programs\\Anaconda\\lib\\site-packages\\tensorboard\\compat\\tensorflow_stub\\dtypes.py:542: FutureWarning: Passing (type, 1) or '1type' as a synonym of type is deprecated; in a future version of numpy, it will be understood as (type, (1,)) / '(1,)type'.\n",
      "  _np_quint8 = np.dtype([(\"quint8\", np.uint8, 1)])\n",
      "K:\\Programs\\Anaconda\\lib\\site-packages\\tensorboard\\compat\\tensorflow_stub\\dtypes.py:543: FutureWarning: Passing (type, 1) or '1type' as a synonym of type is deprecated; in a future version of numpy, it will be understood as (type, (1,)) / '(1,)type'.\n",
      "  _np_qint16 = np.dtype([(\"qint16\", np.int16, 1)])\n",
      "K:\\Programs\\Anaconda\\lib\\site-packages\\tensorboard\\compat\\tensorflow_stub\\dtypes.py:544: FutureWarning: Passing (type, 1) or '1type' as a synonym of type is deprecated; in a future version of numpy, it will be understood as (type, (1,)) / '(1,)type'.\n",
      "  _np_quint16 = np.dtype([(\"quint16\", np.uint16, 1)])\n",
      "K:\\Programs\\Anaconda\\lib\\site-packages\\tensorboard\\compat\\tensorflow_stub\\dtypes.py:545: FutureWarning: Passing (type, 1) or '1type' as a synonym of type is deprecated; in a future version of numpy, it will be understood as (type, (1,)) / '(1,)type'.\n",
      "  _np_qint32 = np.dtype([(\"qint32\", np.int32, 1)])\n",
      "K:\\Programs\\Anaconda\\lib\\site-packages\\tensorboard\\compat\\tensorflow_stub\\dtypes.py:550: FutureWarning: Passing (type, 1) or '1type' as a synonym of type is deprecated; in a future version of numpy, it will be understood as (type, (1,)) / '(1,)type'.\n",
      "  np_resource = np.dtype([(\"resource\", np.ubyte, 1)])\n"
     ]
    }
   ],
   "source": [
    "from keras.layers import BatchNormalization, Dense, Input, Dropout\n",
    "from keras.models import Model\n",
    "from keras import backend as K\n",
    "import tensorflow as tf\n",
    "from keras.models import Sequential\n",
    "from keras.layers import Dense"
   ]
  },
  {
   "cell_type": "code",
   "execution_count": 2,
   "metadata": {},
   "outputs": [],
   "source": [
    "import pandas as pd\n",
    "import numpy as np\n",
    "import pickle\n",
    "import xgboost as xgb\n",
    "from sklearn.metrics import accuracy_score\n",
    "from sklearn.model_selection import RandomizedSearchCV, GridSearchCV\n",
    "import matplotlib.pyplot as plt\n",
    "from scipy import stats\n",
    "from scipy.stats import randint"
   ]
  },
  {
   "cell_type": "code",
   "execution_count": 3,
   "metadata": {},
   "outputs": [],
   "source": [
    "# Load in trained model\n",
    "bst = pickle.load(open(\"../3. ML/bst.pickle.dat\", \"rb\"))"
   ]
  },
  {
   "cell_type": "code",
   "execution_count": 4,
   "metadata": {},
   "outputs": [],
   "source": [
    "df = pd.read_csv('../data/formatted_mens.csv',header=0,parse_dates=[\"Date\"])\n",
    "df.dropna(inplace=True)\n",
    "\n",
    "categorical_cols = ['Tournament', 'Court', 'Surface', 'Round', 'A', 'B']\n",
    "df = pd.get_dummies(df,columns=categorical_cols,drop_first=True)\n",
    "\n",
    "dates = df.loc[:,['Date']]\n",
    "d = xgb.DMatrix(df.drop(columns=['Date','y']), label=df['y'])\n",
    "df['prediction'] = bst.predict(d)"
   ]
  },
  {
   "cell_type": "code",
   "execution_count": 5,
   "metadata": {},
   "outputs": [],
   "source": [
    "cols_to_keep = ['Date','A_Max', 'B_Max','ranking_p','alpha_p','prediction','y']\n",
    "df = df.loc[:,cols_to_keep]"
   ]
  },
  {
   "cell_type": "code",
   "execution_count": 6,
   "metadata": {},
   "outputs": [],
   "source": [
    "split_time = pd.to_datetime('2018-01-01') # SAME SPLIT FROM ML EXPLORING\n",
    "X_train = df.loc[df['Date']<split_time,['A_Max', 'B_Max','ranking_p','alpha_p','prediction']]\n",
    "X_test = df.loc[df['Date']>=split_time,['A_Max', 'B_Max','ranking_p','alpha_p','prediction']]\n",
    "y_train = df.loc[df['Date']<split_time,['y','A_Max', 'B_Max']]\n",
    "y_test = df.loc[df['Date']>=split_time,['y','A_Max', 'B_Max']]"
   ]
  },
  {
   "cell_type": "markdown",
   "metadata": {},
   "source": [
    "## Custom Loss Function"
   ]
  },
  {
   "cell_type": "code",
   "execution_count": 7,
   "metadata": {},
   "outputs": [],
   "source": [
    "def odds_loss(y_true,y_pred):\n",
    "    return_if_a_wins = y_pred[:,0]*y_true[:,1] - (1-y_pred[:,0])\n",
    "    return_if_b_wins = (1-y_pred[:,0])*y_true[:,2] - y_pred[:,0]\n",
    "    \n",
    "    returns = y_true[:,0]*return_if_a_wins + (1-y_true[:,0])*return_if_b_wins\n",
    "    return -K.mean(returns)"
   ]
  },
  {
   "cell_type": "markdown",
   "metadata": {},
   "source": [
    "## Machine Learning"
   ]
  },
  {
   "cell_type": "code",
   "execution_count": 19,
   "metadata": {},
   "outputs": [],
   "source": [
    "cols_to_keep = ['Date','A_Max', 'B_Max','ranking_p','alpha_p','prediction','y']\n",
    "df = df.loc[:,cols_to_keep]\n",
    "df = df.loc[df.Date>=split_time,:]"
   ]
  },
  {
   "cell_type": "code",
   "execution_count": 8,
   "metadata": {},
   "outputs": [],
   "source": [
    "model = Sequential()\n",
    "model.add(Dense(12, input_dim=5, activation='relu'))\n",
    "model.add(Dense(8, activation='relu'))\n",
    "model.add(Dense(1, activation='sigmoid'))\n",
    "model.compile(loss=odds_loss, optimizer='adam')"
   ]
  },
  {
   "cell_type": "code",
   "execution_count": 9,
   "metadata": {},
   "outputs": [
    {
     "name": "stdout",
     "output_type": "stream",
     "text": [
      "WARNING:tensorflow:From K:\\Programs\\Anaconda\\lib\\site-packages\\keras\\backend\\tensorflow_backend.py:422: The name tf.global_variables is deprecated. Please use tf.compat.v1.global_variables instead.\n",
      "\n",
      "Epoch 1/50\n",
      "19401/19401 [==============================] - 8s 395us/step - loss: -0.6724\n",
      "Epoch 2/50\n",
      "19401/19401 [==============================] - 8s 404us/step - loss: -0.7208\n",
      "Epoch 3/50\n",
      "19401/19401 [==============================] - 8s 407us/step - loss: -0.7336\n",
      "Epoch 4/50\n",
      "19401/19401 [==============================] - 8s 410us/step - loss: -0.7533\n",
      "Epoch 5/50\n",
      "19401/19401 [==============================] - 8s 402us/step - loss: -0.7806\n",
      "Epoch 6/50\n",
      "19401/19401 [==============================] - 8s 405us/step - loss: -0.8241\n",
      "Epoch 7/50\n",
      "19401/19401 [==============================] - 8s 407us/step - loss: -0.8936\n",
      "Epoch 8/50\n",
      "19401/19401 [==============================] - 8s 400us/step - loss: -0.9437\n",
      "Epoch 9/50\n",
      "19401/19401 [==============================] - 7s 382us/step - loss: -0.9909\n",
      "Epoch 10/50\n",
      "19401/19401 [==============================] - 7s 342us/step - loss: -1.0159\n",
      "Epoch 11/50\n",
      "19401/19401 [==============================] - 8s 414us/step - loss: -1.0439\n",
      "Epoch 12/50\n",
      "19401/19401 [==============================] - 8s 415us/step - loss: -1.0688\n",
      "Epoch 13/50\n",
      "19401/19401 [==============================] - 8s 413us/step - loss: -1.0780\n",
      "Epoch 14/50\n",
      "19401/19401 [==============================] - 8s 412us/step - loss: -1.0939\n",
      "Epoch 15/50\n",
      "19401/19401 [==============================] - 8s 417us/step - loss: -1.1046\n",
      "Epoch 16/50\n",
      "19401/19401 [==============================] - 8s 395us/step - loss: -1.1007\n",
      "Epoch 17/50\n",
      "19401/19401 [==============================] - 8s 412us/step - loss: -1.1325\n",
      "Epoch 18/50\n",
      "19401/19401 [==============================] - 8s 413us/step - loss: -1.1213\n",
      "Epoch 19/50\n",
      "19401/19401 [==============================] - 8s 414us/step - loss: -1.1363\n",
      "Epoch 20/50\n",
      "19401/19401 [==============================] - 8s 411us/step - loss: -1.1183\n",
      "Epoch 21/50\n",
      "19401/19401 [==============================] - 6s 311us/step - loss: -1.1411\n",
      "Epoch 22/50\n",
      "19401/19401 [==============================] - 8s 387us/step - loss: -1.0922\n",
      "Epoch 23/50\n",
      "19401/19401 [==============================] - 7s 362us/step - loss: -1.1562\n",
      "Epoch 24/50\n",
      "19401/19401 [==============================] - 7s 370us/step - loss: -1.1160\n",
      "Epoch 25/50\n",
      "19401/19401 [==============================] - 7s 370us/step - loss: -1.1485\n",
      "Epoch 26/50\n",
      "19401/19401 [==============================] - 7s 365us/step - loss: -1.1410\n",
      "Epoch 27/50\n",
      "19401/19401 [==============================] - 7s 383us/step - loss: -1.1454\n",
      "Epoch 28/50\n",
      "19401/19401 [==============================] - 8s 390us/step - loss: -1.1293\n",
      "Epoch 29/50\n",
      "19401/19401 [==============================] - 7s 366us/step - loss: -1.1814\n",
      "Epoch 30/50\n",
      "19401/19401 [==============================] - 7s 380us/step - loss: -1.1269\n",
      "Epoch 31/50\n",
      "19401/19401 [==============================] - 6s 329us/step - loss: -1.1551\n",
      "Epoch 32/50\n",
      "19401/19401 [==============================] - 7s 378us/step - loss: -1.1332\n",
      "Epoch 33/50\n",
      "19401/19401 [==============================] - 7s 356us/step - loss: -1.1754\n",
      "Epoch 34/50\n",
      "19401/19401 [==============================] - 7s 381us/step - loss: -1.1810\n",
      "Epoch 35/50\n",
      "19401/19401 [==============================] - 7s 375us/step - loss: -1.1707\n",
      "Epoch 36/50\n",
      "19401/19401 [==============================] - 7s 380us/step - loss: -1.1216\n",
      "Epoch 37/50\n",
      "19401/19401 [==============================] - 7s 384us/step - loss: -1.1832\n",
      "Epoch 38/50\n",
      "19401/19401 [==============================] - 6s 334us/step - loss: -1.1770\n",
      "Epoch 39/50\n",
      "19401/19401 [==============================] - 8s 387us/step - loss: -1.1823\n",
      "Epoch 40/50\n",
      "19401/19401 [==============================] - 7s 373us/step - loss: -1.1693\n",
      "Epoch 41/50\n",
      "19401/19401 [==============================] - 7s 355us/step - loss: -1.1897\n",
      "Epoch 42/50\n",
      "19401/19401 [==============================] - 7s 367us/step - loss: -1.1968\n",
      "Epoch 43/50\n",
      "19401/19401 [==============================] - 7s 343us/step - loss: -1.1587\n",
      "Epoch 44/50\n",
      "19401/19401 [==============================] - 7s 370us/step - loss: -1.1967\n",
      "Epoch 45/50\n",
      "19401/19401 [==============================] - 8s 389us/step - loss: -1.1888\n",
      "Epoch 46/50\n",
      "19401/19401 [==============================] - 7s 366us/step - loss: -1.1881\n",
      "Epoch 47/50\n",
      "19401/19401 [==============================] - 7s 374us/step - loss: -1.1819\n",
      "Epoch 48/50\n",
      "19401/19401 [==============================] - 7s 368us/step - loss: -1.1833\n",
      "Epoch 49/50\n",
      "19401/19401 [==============================] - 7s 373us/step - loss: -1.1920\n",
      "Epoch 50/50\n",
      "19401/19401 [==============================] - 7s 359us/step - loss: -1.1717\n"
     ]
    },
    {
     "data": {
      "text/plain": [
       "<keras.callbacks.callbacks.History at 0x27a98b6e848>"
      ]
     },
     "execution_count": 9,
     "metadata": {},
     "output_type": "execute_result"
    }
   ],
   "source": [
    "model.fit(X_train, y_train, epochs=50, batch_size=5)"
   ]
  },
  {
   "cell_type": "code",
   "execution_count": 24,
   "metadata": {},
   "outputs": [
    {
     "data": {
      "text/plain": [
       "44664    1.490116e-07\n",
       "44665    6.496906e-06\n",
       "44666    9.983434e-01\n",
       "44667    2.339780e-04\n",
       "44668    9.634580e-01\n",
       "             ...     \n",
       "50582    4.768372e-07\n",
       "50583    0.000000e+00\n",
       "50584    5.106837e-03\n",
       "50585    9.998233e-01\n",
       "50586    9.854712e-01\n",
       "Name: bet_amounts, Length: 5922, dtype: float32"
      ]
     },
     "execution_count": 24,
     "metadata": {},
     "output_type": "execute_result"
    }
   ],
   "source": [
    "df['bet_amounts']"
   ]
  },
  {
   "cell_type": "code",
   "execution_count": 22,
   "metadata": {},
   "outputs": [],
   "source": [
    "df['bet_amounts'] = np.array(model.predict(X_test)[:,0])\n",
    "r_if_a_wins = X_test['A_Max'] * df['bet_amounts'] - (1-df['bet_amounts'])\n",
    "r_if_b_wins = X_test['B_Max'] * (1-df['bet_amounts']) - df['bet_amounts']\n",
    "df['returns'] = np.where(y_test['y']==1,r_if_a_wins,r_if_b_wins)"
   ]
  },
  {
   "cell_type": "code",
   "execution_count": null,
   "metadata": {},
   "outputs": [],
   "source": [
    "df['returns']"
   ]
  },
  {
   "cell_type": "code",
   "execution_count": 39,
   "metadata": {},
   "outputs": [
    {
     "data": {
      "text/plain": [
       "<matplotlib.legend.Legend at 0x27ab2011808>"
      ]
     },
     "execution_count": 39,
     "metadata": {},
     "output_type": "execute_result"
    },
    {
     "data": {
      "image/png": "[encoded data removed]",
      "text/plain": [
       "<Figure size 432x288 with 1 Axes>"
      ]
     },
     "metadata": {
      "needs_background": "light"
     },
     "output_type": "display_data"
    },
    {
     "data": {
      "image/png": "[encoded data removed]",
      "text/plain": [
       "<Figure size 432x288 with 1 Axes>"
      ]
     },
     "metadata": {
      "needs_background": "light"
     },
     "output_type": "display_data"
    }
   ],
   "source": [
    "df.plot(y='bet_amounts',kind='kde')\n",
    "df.plot(y='returns',kind='kde')\n",
    "plt.plot([df['returns'].quantile(0.75)]*50,np.linspace(0,1),label='0.75 quartile')\n",
    "plt.plot([df['returns'].quantile(0.25)]*50,np.linspace(0,1),label='0.25 quartile')\n",
    "plt.plot([1]*50,np.linspace(0,1),label='1')\n",
    "plt.plot([df['returns'].mean()]*50,np.linspace(0,1),label='mean')\n",
    "plt.legend()"
   ]
  },
  {
   "cell_type": "code",
   "execution_count": null,
   "metadata": {},
   "outputs": [],
   "source": []
  },
  {
   "cell_type": "code",
   "execution_count": null,
   "metadata": {},
   "outputs": [],
   "source": []
  }
 ],
 "metadata": {
  "kernelspec": {
   "display_name": "Python 3",
   "language": "python",
   "name": "python3"
  },
  "language_info": {
   "codemirror_mode": {
    "name": "ipython",
    "version": 3
   },
   "file_extension": ".py",
   "mimetype": "text/x-python",
   "name": "python",
   "nbconvert_exporter": "python",
   "pygments_lexer": "ipython3",
   "version": "3.7.6"
  }
 },
 "nbformat": 4,
 "nbformat_minor": 4
}

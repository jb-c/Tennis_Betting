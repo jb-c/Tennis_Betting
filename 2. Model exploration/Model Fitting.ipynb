{
 "cells": [
  {
   "cell_type": "markdown",
   "metadata": {},
   "source": [
    "## Setup"
   ]
  },
  {
   "cell_type": "code",
   "execution_count": 1,
   "metadata": {},
   "outputs": [],
   "source": [
    "import pandas as pd\n",
    "import numpy as np\n",
    "from collections import defaultdict\n",
    "from scipy.optimize import minimize"
   ]
  },
  {
   "cell_type": "markdown",
   "metadata": {},
   "source": [
    "## Functions from Model Exploration Notebook"
   ]
  },
  {
   "cell_type": "code",
   "execution_count": 2,
   "metadata": {},
   "outputs": [],
   "source": [
    "def setup_params(time_decay_half_life = 240,significance_tol = 0.3,high_winning_prob = 0.7):\n",
    "    eps = 1/(2*time_decay_half_life) # time decay epsilon\n",
    "    max_time_interval = np.log(np.log(significance_tol)/np.log(high_winning_prob)) / eps # in days, which is how far back we'll consider\n",
    "    \n",
    "    return eps,max_time_interval"
   ]
  },
  {
   "cell_type": "code",
   "execution_count": 3,
   "metadata": {},
   "outputs": [],
   "source": [
    "def prepare_frame(df,start_date,eps,max_time_interval,prediction_surface,filter_player_universe=True):\n",
    "    # 1- Total up games won\n",
    "    winner_cols = [c for c in df.columns if c[0]==\"W\" and any(char.isdigit() for char in c)]\n",
    "    loser_cols =  [c for c in df.columns if c[0]==\"L\" and any(char.isdigit() for char in c)]\n",
    "    df[winner_cols].fillna(0);df[loser_cols].fillna(0)\n",
    "    df.loc[:,'gi']= df[winner_cols].sum(axis=1)\n",
    "    df.loc[:,'gj']= df[loser_cols].sum(axis=1)\n",
    "    # 2 - Add time weight col\n",
    "    df['dt'] = (start_date - df['Date']).dt.days.astype('int16') # An integer amount of days\n",
    "    df['time_decay'] = round(np.exp(-eps*df['dt']),2)\n",
    "    # 3 - Filter players\n",
    "    if filter_player_universe:\n",
    "        tournament_df = df[df['Date']==start_date]\n",
    "        players = set(np.concatenate([tournament_df['Winner'].values,tournament_df['Loser'].values],axis=0))\n",
    "        df = df[df['Winner'].isin(players) | df['Loser'].isin(players)]\n",
    "    # 4 - Fliter in time\n",
    "    end_date = start_date - pd.Timedelta(days=max_time_interval)\n",
    "    df = df[(df['Date']>=end_date)&(df['Date']<start_date)] # Strict ineq here important!\n",
    "    # 5 - Filter cols\n",
    "    df = df[['Surface','Winner','Loser','time_decay','gi','gj']]\n",
    "    \n",
    "    # 6 - Player dict\n",
    "    unique_players = set(np.concatenate([df['Winner'].values,df['Loser'].values],axis=0))\n",
    "    n = len(unique_players)\n",
    "    player_dict = {}\n",
    "    for i,player in enumerate(unique_players):\n",
    "        player_dict[player] = i\n",
    "    # 7 - surface dict\n",
    "    if prediction_surface == 'Grass':\n",
    "        surface_dict = defaultdict(lambda: 1, {'Clay':0,'Grass':-1})\n",
    "    elif prediction_surface != 'Clay':\n",
    "        surface_dict = defaultdict(lambda: -1, {'Clay':0,'Grass':1})\n",
    "    else:\n",
    "        surface_dict = defaultdict(lambda: 1, {'Clay':-1,'Grass':0})\n",
    "    surface_dict # The prediction surface should have key -1\n",
    "    # 8 - Mapping function\n",
    "    def map_df_row_to_keys(row,player_dict,surface_dict):\n",
    "        row['Winner'] = player_dict[row['Winner']]\n",
    "        row['Loser'] = player_dict[row['Loser']]\n",
    "        row['Surface'] = surface_dict[row['Surface']]\n",
    "        row['Surface_mult'] = 0 if row['Surface'] == -1 else 1\n",
    "        return row\n",
    "    # 9 - Mapping and data typing\n",
    "    formatted_df = df[[c for c in df.columns if 'Rank' not in c]].apply(lambda x : map_df_row_to_keys(x,player_dict,surface_dict),axis=1)\n",
    "    formatted_df.loc[:,formatted_df.columns != 'time_decay'] = formatted_df.loc[:,formatted_df.columns != 'time_decay'].astype(int) # So we can use the entries as list indecies later on\n",
    "\n",
    "    return formatted_df,player_dict,n"
   ]
  },
  {
   "cell_type": "code",
   "execution_count": 4,
   "metadata": {},
   "outputs": [],
   "source": [
    "def log_lilkihood(x,n,df):\n",
    "    \"\"\"\n",
    "    x - a (3n,1) dimentional array with cols [alpha,W]\n",
    "    n - an integer\n",
    "    df - an (n,8) df\n",
    "    \"\"\"\n",
    "    # Return -log_lilkihood, so we can max log_lilkihood by minimising -log_lilkihood\n",
    "    df['aiwi'] = x[df['Winner']] * ((x[n+2*df['Winner']+df['Surface']]) ** df['Surface_mult'])\n",
    "    df['ajwj'] = x[df['Loser']] *  ((x[n+2*df['Loser']+df['Surface']]) ** df['Surface_mult'])\n",
    "\n",
    "    return -sum(df['time_decay']*(df['gi']*df['aiwi']+df['gj']*df['ajwj']-(df['gi']+df['gj'])*np.log(np.exp(df['aiwi'])+np.exp(df['ajwj']))))"
   ]
  },
  {
   "cell_type": "markdown",
   "metadata": {},
   "source": [
    "## Importing Data"
   ]
  },
  {
   "cell_type": "code",
   "execution_count": 5,
   "metadata": {},
   "outputs": [
    {
     "name": "stderr",
     "output_type": "stream",
     "text": [
      "K:\\Programs\\Python\\lib\\site-packages\\IPython\\core\\interactiveshell.py:3071: DtypeWarning: Columns (11,12,15,16,17,18,38) have mixed types.Specify dtype option on import or set low_memory=False.\n",
      "  has_raised = await self.run_ast_nodes(code_ast.body, cell_name,\n",
      "K:\\Programs\\Python\\lib\\site-packages\\IPython\\core\\interactiveshell.py:3071: DtypeWarning: Columns (25,28,34) have mixed types.Specify dtype option on import or set low_memory=False.\n",
      "  has_raised = await self.run_ast_nodes(code_ast.body, cell_name,\n"
     ]
    }
   ],
   "source": [
    "mens_df = pd.read_csv('../data/mens.csv',header=0,parse_dates=[\"Date\"])\n",
    "womens_df = pd.read_csv('../data/womens.csv',header=0,parse_dates=[\"Date\"])\n",
    "\n",
    "# Remove walkovers\n",
    "mens_df = mens_df[mens_df['Comment']!='Walkover']\n",
    "womens_df = womens_df[womens_df['Comment']!='Walkover']"
   ]
  },
  {
   "cell_type": "markdown",
   "metadata": {},
   "source": [
    "## Model Fitting"
   ]
  },
  {
   "cell_type": "code",
   "execution_count": 6,
   "metadata": {},
   "outputs": [
    {
     "name": "stdout",
     "output_type": "stream",
     "text": [
      "We'll consider  1.5998560333428016  years worth of data\n"
     ]
    }
   ],
   "source": [
    "eps,max_time_interval = setup_params()\n",
    "print(\"We'll consider \",max_time_interval/365,\" years worth of data\")"
   ]
  },
  {
   "cell_type": "code",
   "execution_count": 7,
   "metadata": {},
   "outputs": [],
   "source": [
    "player_alphas = {}"
   ]
  },
  {
   "cell_type": "code",
   "execution_count": 8,
   "metadata": {},
   "outputs": [
    {
     "name": "stdout",
     "output_type": "stream",
     "text": [
      "Completed fitting for  2020-09-27 00:00:00\n",
      "Completed fitting for  2020-09-05 00:00:00\n",
      "Completed fitting for  2020-10-26 00:00:00\n",
      "Completed fitting for  2020-11-09 00:00:00\n",
      "Completed fitting for  2020-11-06 00:00:00\n",
      "Completed fitting for  2020-09-17 00:00:00\n",
      "Completed fitting for  2020-10-21 00:00:00\n",
      "Completed fitting for  2020-09-12 00:00:00\n",
      "Completed fitting for  2020-09-04 00:00:00\n",
      "Completed fitting for  2020-10-09 00:00:00\n",
      "Completed fitting for  2020-09-06 00:00:00\n",
      "Completed fitting for  2020-11-12 00:00:00\n",
      "Completed fitting for  2020-10-25 00:00:00\n",
      "Completed fitting for  2020-10-16 00:00:00\n",
      "Completed fitting for  2020-09-02 00:00:00\n",
      "Completed fitting for  2020-10-27 00:00:00\n",
      "Completed fitting for  2020-09-28 00:00:00\n",
      "Completed fitting for  2020-11-13 00:00:00\n",
      "Completed fitting for  2020-09-14 00:00:00\n",
      "Completed fitting for  2020-10-22 00:00:00\n",
      "Completed fitting for  2020-09-11 00:00:00\n",
      "Completed fitting for  2020-09-22 00:00:00\n",
      "Completed fitting for  2020-10-04 00:00:00\n",
      "Completed fitting for  2020-10-05 00:00:00\n",
      "Completed fitting for  2020-10-30 00:00:00\n",
      "Completed fitting for  2020-11-01 00:00:00\n",
      "Completed fitting for  2020-09-15 00:00:00\n",
      "Completed fitting for  2020-09-03 00:00:00\n",
      "Completed fitting for  2020-09-26 00:00:00\n",
      "Completed fitting for  2020-09-25 00:00:00\n",
      "Completed fitting for  2020-10-13 00:00:00\n",
      "Completed fitting for  2020-10-15 00:00:00\n",
      "Completed fitting for  2020-10-06 00:00:00\n",
      "Completed fitting for  2020-10-31 00:00:00\n",
      "Completed fitting for  2020-09-07 00:00:00\n",
      "Completed fitting for  2020-09-24 00:00:00\n",
      "Completed fitting for  2020-10-18 00:00:00\n",
      "Completed fitting for  2020-11-17 00:00:00\n",
      "Completed fitting for  2020-11-19 00:00:00\n",
      "Completed fitting for  2020-11-15 00:00:00\n",
      "Completed fitting for  2020-09-13 00:00:00\n",
      "Completed fitting for  2020-10-23 00:00:00\n",
      "Completed fitting for  2020-11-10 00:00:00\n",
      "Completed fitting for  2020-11-07 00:00:00\n",
      "Completed fitting for  2020-10-03 00:00:00\n",
      "Completed fitting for  2020-10-12 00:00:00\n",
      "Completed fitting for  2020-10-24 00:00:00\n",
      "Completed fitting for  2020-10-02 00:00:00\n",
      "Completed fitting for  2020-10-17 00:00:00\n",
      "Completed fitting for  2020-09-18 00:00:00\n",
      "Completed fitting for  2020-10-28 00:00:00\n",
      "Completed fitting for  2020-09-09 00:00:00\n",
      "Completed fitting for  2020-09-20 00:00:00\n",
      "Completed fitting for  2020-11-02 00:00:00\n",
      "Completed fitting for  2020-09-16 00:00:00\n",
      "Completed fitting for  2020-09-19 00:00:00\n",
      "Completed fitting for  2020-09-30 00:00:00\n",
      "Completed fitting for  2020-11-11 00:00:00\n",
      "Completed fitting for  2020-11-04 00:00:00\n",
      "Completed fitting for  2020-11-03 00:00:00\n",
      "Completed fitting for  2020-09-23 00:00:00\n",
      "Completed fitting for  2020-10-19 00:00:00\n",
      "Completed fitting for  2020-11-14 00:00:00\n",
      "Completed fitting for  2020-11-08 00:00:00\n",
      "Completed fitting for  2020-11-05 00:00:00\n",
      "Completed fitting for  2020-11-22 00:00:00\n",
      "Completed fitting for  2020-11-18 00:00:00\n",
      "Completed fitting for  2020-11-21 00:00:00\n",
      "Completed fitting for  2020-09-08 00:00:00\n",
      "Completed fitting for  2020-10-11 00:00:00\n",
      "Completed fitting for  2020-10-20 00:00:00\n",
      "Completed fitting for  2020-11-20 00:00:00\n"
     ]
    },
    {
     "ename": "KeyboardInterrupt",
     "evalue": "",
     "output_type": "error",
     "traceback": [
      "\u001b[1;31m---------------------------------------------------------------------------\u001b[0m",
      "\u001b[1;31mKeyboardInterrupt\u001b[0m                         Traceback (most recent call last)",
      "\u001b[1;32m<timed exec>\u001b[0m in \u001b[0;36m<module>\u001b[1;34m\u001b[0m\n",
      "\u001b[1;32mK:\\Programs\\Python\\lib\\site-packages\\scipy\\optimize\\_minimize.py\u001b[0m in \u001b[0;36mminimize\u001b[1;34m(fun, x0, args, method, jac, hess, hessp, bounds, constraints, tol, callback, options)\u001b[0m\n\u001b[0;32m    615\u001b[0m                                   **options)\n\u001b[0;32m    616\u001b[0m     \u001b[1;32melif\u001b[0m \u001b[0mmeth\u001b[0m \u001b[1;33m==\u001b[0m \u001b[1;34m'l-bfgs-b'\u001b[0m\u001b[1;33m:\u001b[0m\u001b[1;33m\u001b[0m\u001b[1;33m\u001b[0m\u001b[0m\n\u001b[1;32m--> 617\u001b[1;33m         return _minimize_lbfgsb(fun, x0, args, jac, bounds,\n\u001b[0m\u001b[0;32m    618\u001b[0m                                 callback=callback, **options)\n\u001b[0;32m    619\u001b[0m     \u001b[1;32melif\u001b[0m \u001b[0mmeth\u001b[0m \u001b[1;33m==\u001b[0m \u001b[1;34m'tnc'\u001b[0m\u001b[1;33m:\u001b[0m\u001b[1;33m\u001b[0m\u001b[1;33m\u001b[0m\u001b[0m\n",
      "\u001b[1;32mK:\\Programs\\Python\\lib\\site-packages\\scipy\\optimize\\lbfgsb.py\u001b[0m in \u001b[0;36m_minimize_lbfgsb\u001b[1;34m(fun, x0, args, jac, bounds, disp, maxcor, ftol, gtol, eps, maxfun, maxiter, iprint, callback, maxls, finite_diff_rel_step, **unknown_options)\u001b[0m\n\u001b[0;32m    358\u001b[0m             \u001b[1;31m# until the completion of the current minimization iteration.\u001b[0m\u001b[1;33m\u001b[0m\u001b[1;33m\u001b[0m\u001b[1;33m\u001b[0m\u001b[0m\n\u001b[0;32m    359\u001b[0m             \u001b[1;31m# Overwrite f and g:\u001b[0m\u001b[1;33m\u001b[0m\u001b[1;33m\u001b[0m\u001b[1;33m\u001b[0m\u001b[0m\n\u001b[1;32m--> 360\u001b[1;33m             \u001b[0mf\u001b[0m\u001b[1;33m,\u001b[0m \u001b[0mg\u001b[0m \u001b[1;33m=\u001b[0m \u001b[0mfunc_and_grad\u001b[0m\u001b[1;33m(\u001b[0m\u001b[0mx\u001b[0m\u001b[1;33m)\u001b[0m\u001b[1;33m\u001b[0m\u001b[1;33m\u001b[0m\u001b[0m\n\u001b[0m\u001b[0;32m    361\u001b[0m         \u001b[1;32melif\u001b[0m \u001b[0mtask_str\u001b[0m\u001b[1;33m.\u001b[0m\u001b[0mstartswith\u001b[0m\u001b[1;33m(\u001b[0m\u001b[1;34mb'NEW_X'\u001b[0m\u001b[1;33m)\u001b[0m\u001b[1;33m:\u001b[0m\u001b[1;33m\u001b[0m\u001b[1;33m\u001b[0m\u001b[0m\n\u001b[0;32m    362\u001b[0m             \u001b[1;31m# new iteration\u001b[0m\u001b[1;33m\u001b[0m\u001b[1;33m\u001b[0m\u001b[1;33m\u001b[0m\u001b[0m\n",
      "\u001b[1;32mK:\\Programs\\Python\\lib\\site-packages\\scipy\\optimize\\_differentiable_functions.py\u001b[0m in \u001b[0;36mfun_and_grad\u001b[1;34m(self, x)\u001b[0m\n\u001b[0;32m    199\u001b[0m             \u001b[0mself\u001b[0m\u001b[1;33m.\u001b[0m\u001b[0m_update_x_impl\u001b[0m\u001b[1;33m(\u001b[0m\u001b[0mx\u001b[0m\u001b[1;33m)\u001b[0m\u001b[1;33m\u001b[0m\u001b[1;33m\u001b[0m\u001b[0m\n\u001b[0;32m    200\u001b[0m         \u001b[0mself\u001b[0m\u001b[1;33m.\u001b[0m\u001b[0m_update_fun\u001b[0m\u001b[1;33m(\u001b[0m\u001b[1;33m)\u001b[0m\u001b[1;33m\u001b[0m\u001b[1;33m\u001b[0m\u001b[0m\n\u001b[1;32m--> 201\u001b[1;33m         \u001b[0mself\u001b[0m\u001b[1;33m.\u001b[0m\u001b[0m_update_grad\u001b[0m\u001b[1;33m(\u001b[0m\u001b[1;33m)\u001b[0m\u001b[1;33m\u001b[0m\u001b[1;33m\u001b[0m\u001b[0m\n\u001b[0m\u001b[0;32m    202\u001b[0m         \u001b[1;32mreturn\u001b[0m \u001b[0mself\u001b[0m\u001b[1;33m.\u001b[0m\u001b[0mf\u001b[0m\u001b[1;33m,\u001b[0m \u001b[0mself\u001b[0m\u001b[1;33m.\u001b[0m\u001b[0mg\u001b[0m\u001b[1;33m\u001b[0m\u001b[1;33m\u001b[0m\u001b[0m\n\u001b[0;32m    203\u001b[0m \u001b[1;33m\u001b[0m\u001b[0m\n",
      "\u001b[1;32mK:\\Programs\\Python\\lib\\site-packages\\scipy\\optimize\\_differentiable_functions.py\u001b[0m in \u001b[0;36m_update_grad\u001b[1;34m(self)\u001b[0m\n\u001b[0;32m    169\u001b[0m     \u001b[1;32mdef\u001b[0m \u001b[0m_update_grad\u001b[0m\u001b[1;33m(\u001b[0m\u001b[0mself\u001b[0m\u001b[1;33m)\u001b[0m\u001b[1;33m:\u001b[0m\u001b[1;33m\u001b[0m\u001b[1;33m\u001b[0m\u001b[0m\n\u001b[0;32m    170\u001b[0m         \u001b[1;32mif\u001b[0m \u001b[1;32mnot\u001b[0m \u001b[0mself\u001b[0m\u001b[1;33m.\u001b[0m\u001b[0mg_updated\u001b[0m\u001b[1;33m:\u001b[0m\u001b[1;33m\u001b[0m\u001b[1;33m\u001b[0m\u001b[0m\n\u001b[1;32m--> 171\u001b[1;33m             \u001b[0mself\u001b[0m\u001b[1;33m.\u001b[0m\u001b[0m_update_grad_impl\u001b[0m\u001b[1;33m(\u001b[0m\u001b[1;33m)\u001b[0m\u001b[1;33m\u001b[0m\u001b[1;33m\u001b[0m\u001b[0m\n\u001b[0m\u001b[0;32m    172\u001b[0m             \u001b[0mself\u001b[0m\u001b[1;33m.\u001b[0m\u001b[0mg_updated\u001b[0m \u001b[1;33m=\u001b[0m \u001b[1;32mTrue\u001b[0m\u001b[1;33m\u001b[0m\u001b[1;33m\u001b[0m\u001b[0m\n\u001b[0;32m    173\u001b[0m \u001b[1;33m\u001b[0m\u001b[0m\n",
      "\u001b[1;32mK:\\Programs\\Python\\lib\\site-packages\\scipy\\optimize\\_differentiable_functions.py\u001b[0m in \u001b[0;36mupdate_grad\u001b[1;34m()\u001b[0m\n\u001b[0;32m     89\u001b[0m                 \u001b[0mself\u001b[0m\u001b[1;33m.\u001b[0m\u001b[0m_update_fun\u001b[0m\u001b[1;33m(\u001b[0m\u001b[1;33m)\u001b[0m\u001b[1;33m\u001b[0m\u001b[1;33m\u001b[0m\u001b[0m\n\u001b[0;32m     90\u001b[0m                 \u001b[0mself\u001b[0m\u001b[1;33m.\u001b[0m\u001b[0mngev\u001b[0m \u001b[1;33m+=\u001b[0m \u001b[1;36m1\u001b[0m\u001b[1;33m\u001b[0m\u001b[1;33m\u001b[0m\u001b[0m\n\u001b[1;32m---> 91\u001b[1;33m                 self.g = approx_derivative(fun_wrapped, self.x, f0=self.f,\n\u001b[0m\u001b[0;32m     92\u001b[0m                                            **finite_diff_options)\n\u001b[0;32m     93\u001b[0m \u001b[1;33m\u001b[0m\u001b[0m\n",
      "\u001b[1;32mK:\\Programs\\Python\\lib\\site-packages\\scipy\\optimize\\_numdiff.py\u001b[0m in \u001b[0;36mapprox_derivative\u001b[1;34m(fun, x0, method, rel_step, abs_step, f0, bounds, sparsity, as_linear_operator, args, kwargs)\u001b[0m\n\u001b[0;32m    424\u001b[0m \u001b[1;33m\u001b[0m\u001b[0m\n\u001b[0;32m    425\u001b[0m         \u001b[1;32mif\u001b[0m \u001b[0msparsity\u001b[0m \u001b[1;32mis\u001b[0m \u001b[1;32mNone\u001b[0m\u001b[1;33m:\u001b[0m\u001b[1;33m\u001b[0m\u001b[1;33m\u001b[0m\u001b[0m\n\u001b[1;32m--> 426\u001b[1;33m             return _dense_difference(fun_wrapped, x0, f0, h,\n\u001b[0m\u001b[0;32m    427\u001b[0m                                      use_one_sided, method)\n\u001b[0;32m    428\u001b[0m         \u001b[1;32melse\u001b[0m\u001b[1;33m:\u001b[0m\u001b[1;33m\u001b[0m\u001b[1;33m\u001b[0m\u001b[0m\n",
      "\u001b[1;32mK:\\Programs\\Python\\lib\\site-packages\\scipy\\optimize\\_numdiff.py\u001b[0m in \u001b[0;36m_dense_difference\u001b[1;34m(fun, x0, f0, h, use_one_sided, method)\u001b[0m\n\u001b[0;32m    493\u001b[0m     \u001b[1;32mfor\u001b[0m \u001b[0mi\u001b[0m \u001b[1;32min\u001b[0m \u001b[0mrange\u001b[0m\u001b[1;33m(\u001b[0m\u001b[0mh\u001b[0m\u001b[1;33m.\u001b[0m\u001b[0msize\u001b[0m\u001b[1;33m)\u001b[0m\u001b[1;33m:\u001b[0m\u001b[1;33m\u001b[0m\u001b[1;33m\u001b[0m\u001b[0m\n\u001b[0;32m    494\u001b[0m         \u001b[1;32mif\u001b[0m \u001b[0mmethod\u001b[0m \u001b[1;33m==\u001b[0m \u001b[1;34m'2-point'\u001b[0m\u001b[1;33m:\u001b[0m\u001b[1;33m\u001b[0m\u001b[1;33m\u001b[0m\u001b[0m\n\u001b[1;32m--> 495\u001b[1;33m             \u001b[0mx\u001b[0m \u001b[1;33m=\u001b[0m \u001b[0mx0\u001b[0m \u001b[1;33m+\u001b[0m \u001b[0mh_vecs\u001b[0m\u001b[1;33m[\u001b[0m\u001b[0mi\u001b[0m\u001b[1;33m]\u001b[0m\u001b[1;33m\u001b[0m\u001b[1;33m\u001b[0m\u001b[0m\n\u001b[0m\u001b[0;32m    496\u001b[0m             \u001b[0mdx\u001b[0m \u001b[1;33m=\u001b[0m \u001b[0mx\u001b[0m\u001b[1;33m[\u001b[0m\u001b[0mi\u001b[0m\u001b[1;33m]\u001b[0m \u001b[1;33m-\u001b[0m \u001b[0mx0\u001b[0m\u001b[1;33m[\u001b[0m\u001b[0mi\u001b[0m\u001b[1;33m]\u001b[0m  \u001b[1;31m# Recompute dx as exactly representable number.\u001b[0m\u001b[1;33m\u001b[0m\u001b[1;33m\u001b[0m\u001b[0m\n\u001b[0;32m    497\u001b[0m             \u001b[0mdf\u001b[0m \u001b[1;33m=\u001b[0m \u001b[0mfun\u001b[0m\u001b[1;33m(\u001b[0m\u001b[0mx\u001b[0m\u001b[1;33m)\u001b[0m \u001b[1;33m-\u001b[0m \u001b[0mf0\u001b[0m\u001b[1;33m\u001b[0m\u001b[1;33m\u001b[0m\u001b[0m\n",
      "\u001b[1;31mKeyboardInterrupt\u001b[0m: "
     ]
    }
   ],
   "source": [
    "%%time\n",
    "for date in set(mens_df['Date'][mens_df['Date'] > pd.to_datetime('09/01/2020')]): #nb date in mm dd yyy format\n",
    "    surf_lst = list(mens_df['Surface'].values)\n",
    "    prediction_surface =  max(set(surf_lst), key=surf_lst.count) # Take most common surface\n",
    "    \n",
    "    formatted_df,player_dict,n = prepare_frame(mens_df,date,eps,max_time_interval,'Clay')\n",
    "    \n",
    "    x0=np.ones((3*n))\n",
    "    bds = [(0.1,2.5)]*n + [(0.1,1.5)]*(2*n)\n",
    "    res = minimize(log_lilkihood,x0=x0,args=(n,formatted_df),bounds=bds,options={'disp':False,'maxiter':50})\n",
    "    \n",
    "    alpha = res.x[:n]\n",
    "    player_rankings = {}\n",
    "    for key, value in player_dict.items():\n",
    "        player_rankings[key]=alpha[value]\n",
    "    player_alphas[date]=player_rankings\n",
    "    print(\"Completed fitting for \",date)"
   ]
  },
  {
   "cell_type": "code",
   "execution_count": 9,
   "metadata": {},
   "outputs": [
    {
     "name": "stdout",
     "output_type": "stream",
     "text": [
      "2020-09-27 00:00:00\n",
      "2020-09-05 00:00:00\n",
      "2020-10-26 00:00:00\n",
      "2020-11-09 00:00:00\n",
      "2020-11-06 00:00:00\n",
      "2020-09-17 00:00:00\n",
      "2020-10-21 00:00:00\n",
      "2020-09-12 00:00:00\n",
      "2020-09-04 00:00:00\n",
      "2020-10-09 00:00:00\n",
      "2020-09-06 00:00:00\n",
      "2020-11-12 00:00:00\n",
      "2020-10-25 00:00:00\n",
      "2020-10-16 00:00:00\n",
      "2020-09-02 00:00:00\n",
      "2020-10-27 00:00:00\n",
      "2020-09-28 00:00:00\n",
      "2020-11-13 00:00:00\n",
      "2020-09-14 00:00:00\n",
      "2020-10-22 00:00:00\n",
      "2020-09-11 00:00:00\n",
      "2020-09-22 00:00:00\n",
      "2020-10-04 00:00:00\n",
      "2020-10-05 00:00:00\n",
      "2020-10-30 00:00:00\n",
      "2020-11-01 00:00:00\n",
      "2020-09-15 00:00:00\n",
      "2020-09-03 00:00:00\n",
      "2020-09-26 00:00:00\n",
      "2020-09-25 00:00:00\n",
      "2020-10-13 00:00:00\n",
      "2020-10-15 00:00:00\n",
      "2020-10-06 00:00:00\n",
      "2020-10-31 00:00:00\n",
      "2020-09-07 00:00:00\n",
      "2020-09-24 00:00:00\n",
      "2020-10-18 00:00:00\n",
      "2020-11-17 00:00:00\n",
      "2020-11-19 00:00:00\n",
      "2020-11-15 00:00:00\n",
      "2020-09-13 00:00:00\n",
      "2020-10-23 00:00:00\n",
      "2020-11-10 00:00:00\n",
      "2020-11-07 00:00:00\n",
      "2020-10-03 00:00:00\n",
      "2020-10-12 00:00:00\n",
      "2020-10-24 00:00:00\n",
      "2020-10-02 00:00:00\n",
      "2020-10-17 00:00:00\n",
      "2020-09-18 00:00:00\n",
      "2020-10-28 00:00:00\n",
      "2020-09-09 00:00:00\n",
      "2020-09-20 00:00:00\n",
      "2020-11-02 00:00:00\n",
      "2020-09-16 00:00:00\n",
      "2020-09-19 00:00:00\n",
      "2020-09-30 00:00:00\n",
      "2020-11-11 00:00:00\n",
      "2020-11-04 00:00:00\n",
      "2020-11-03 00:00:00\n",
      "2020-09-23 00:00:00\n",
      "2020-10-19 00:00:00\n",
      "2020-11-14 00:00:00\n",
      "2020-11-08 00:00:00\n",
      "2020-11-05 00:00:00\n",
      "2020-11-22 00:00:00\n",
      "2020-11-18 00:00:00\n",
      "2020-11-21 00:00:00\n",
      "2020-09-08 00:00:00\n",
      "2020-10-11 00:00:00\n",
      "2020-10-20 00:00:00\n",
      "2020-11-20 00:00:00\n",
      "2020-10-14 00:00:00\n",
      "2020-10-07 00:00:00\n",
      "2020-10-01 00:00:00\n",
      "2020-09-29 00:00:00\n",
      "2020-09-10 00:00:00\n",
      "2020-09-21 00:00:00\n",
      "2020-11-16 00:00:00\n",
      "2020-10-29 00:00:00\n"
     ]
    }
   ],
   "source": [
    "for date in set(mens_df['Date'][mens_df['Date'] > pd.to_datetime('09/01/2020')]):\n",
    "    print(date)"
   ]
  },
  {
   "cell_type": "code",
   "execution_count": 12,
   "metadata": {},
   "outputs": [],
   "source": [
    "import pickle\n",
    "\n",
    "# Store data (serialize)\n",
    "with open('mens_alphas_sep_2020.pickle', 'wb') as handle:\n",
    "    pickle.dump(player_alphas, handle, protocol=pickle.HIGHEST_PROTOCOL)"
   ]
  },
  {
   "cell_type": "code",
   "execution_count": 13,
   "metadata": {},
   "outputs": [],
   "source": [
    "# Load data (deserialize)\n",
    "with open('mens_alphas_sep_2020.pickle', 'rb') as handle:\n",
    "    unserialized_data = pickle.load(handle)"
   ]
  },
  {
   "cell_type": "code",
   "execution_count": null,
   "metadata": {},
   "outputs": [],
   "source": []
  }
 ],
 "metadata": {
  "kernelspec": {
   "display_name": "Python 3",
   "language": "python",
   "name": "python3"
  },
  "language_info": {
   "codemirror_mode": {
    "name": "ipython",
    "version": 3
   },
   "file_extension": ".py",
   "mimetype": "text/x-python",
   "name": "python",
   "nbconvert_exporter": "python",
   "pygments_lexer": "ipython3",
   "version": "3.7.6"
  }
 },
 "nbformat": 4,
 "nbformat_minor": 4
}

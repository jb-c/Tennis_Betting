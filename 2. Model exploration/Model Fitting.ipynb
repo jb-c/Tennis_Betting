{
 "cells": [
  {
   "cell_type": "markdown",
   "metadata": {},
   "source": [
    "## Setup"
   ]
  },
  {
   "cell_type": "code",
   "execution_count": 1,
   "metadata": {},
   "outputs": [],
   "source": [
    "import pandas as pd\n",
    "import numpy as np\n",
    "from collections import defaultdict\n",
    "from scipy.optimize import minimize\n",
    "import pickle"
   ]
  },
  {
   "cell_type": "markdown",
   "metadata": {},
   "source": [
    "## Functions from Model Exploration Notebook"
   ]
  },
  {
   "cell_type": "code",
   "execution_count": 2,
   "metadata": {},
   "outputs": [],
   "source": [
    "def setup_params(time_decay_half_life = 240,significance_tol = 0.2,high_winning_prob = 0.7):\n",
    "    eps = 1/(2*time_decay_half_life) # time decay epsilon\n",
    "    max_time_interval = np.log(np.log(significance_tol)/np.log(high_winning_prob)) / eps # in days, which is how far back we'll consider\n",
    "    \n",
    "    return eps,max_time_interval"
   ]
  },
  {
   "cell_type": "code",
   "execution_count": 3,
   "metadata": {},
   "outputs": [],
   "source": [
    "def log_lilkihood(x,n,df):\n",
    "    \"\"\"\n",
    "    x - a (3n,1) dimentional array with cols [alpha,W]\n",
    "    n - an integer\n",
    "    df - an (n,8) df\n",
    "    \"\"\"\n",
    "    # Return -log_lilkihood, so we can max log_lilkihood by minimising -log_lilkihood\n",
    "    df['aiwi'] = x[df['Winner']] * ((x[n+2*df['Winner']+df['Surface']]) ** df['Surface_mult'])\n",
    "    df['ajwj'] = x[df['Loser']] *  ((x[n+2*df['Loser']+df['Surface']]) ** df['Surface_mult'])\n",
    "\n",
    "    return -sum(df['time_decay']*(df['gi']*df['aiwi']+df['gj']*df['ajwj']-(df['gi']+df['gj'])*np.log(np.exp(df['aiwi'])+np.exp(df['ajwj']))))"
   ]
  },
  {
   "cell_type": "markdown",
   "metadata": {},
   "source": [
    "## Importing Data"
   ]
  },
  {
   "cell_type": "code",
   "execution_count": 4,
   "metadata": {},
   "outputs": [
    {
     "name": "stderr",
     "output_type": "stream",
     "text": [
      "K:\\Programs\\Anaconda\\lib\\site-packages\\IPython\\core\\interactiveshell.py:3063: DtypeWarning: Columns (11,12,15,16,17,18,38) have mixed types.Specify dtype option on import or set low_memory=False.\n",
      "  interactivity=interactivity, compiler=compiler, result=result)\n",
      "K:\\Programs\\Anaconda\\lib\\site-packages\\IPython\\core\\interactiveshell.py:3063: DtypeWarning: Columns (25,28,34) have mixed types.Specify dtype option on import or set low_memory=False.\n",
      "  interactivity=interactivity, compiler=compiler, result=result)\n"
     ]
    }
   ],
   "source": [
    "mens_df = pd.read_csv('../data/mens.csv',header=0,parse_dates=[\"Date\"])\n",
    "womens_df = pd.read_csv('../data/womens.csv',header=0,parse_dates=[\"Date\"])\n",
    "\n",
    "# Remove walkovers\n",
    "mens_df = mens_df[mens_df['Comment']!='Walkover']\n",
    "womens_df = womens_df[womens_df['Comment']!='Walkover']"
   ]
  },
  {
   "cell_type": "markdown",
   "metadata": {},
   "source": [
    "## Model Fitting"
   ]
  },
  {
   "cell_type": "code",
   "execution_count": 5,
   "metadata": {},
   "outputs": [
    {
     "name": "stdout",
     "output_type": "stream",
     "text": [
      "We'll consider  1.9815654949950687  years worth of data\n"
     ]
    }
   ],
   "source": [
    "eps,max_time_interval = setup_params()\n",
    "print(\"We'll consider \",max_time_interval/365,\" years worth of data\")"
   ]
  },
  {
   "cell_type": "code",
   "execution_count": 6,
   "metadata": {},
   "outputs": [],
   "source": [
    "# Total up games won\n",
    "winner_cols = [c for c in mens_df.columns if c[0]==\"W\" and any(char.isdigit() for char in c)]\n",
    "loser_cols =  [c for c in mens_df.columns if c[0]==\"L\" and any(char.isdigit() for char in c)]\n",
    "mens_df[winner_cols].fillna(0);mens_df[loser_cols].fillna(0)\n",
    "mens_df.loc[:,'gi']= mens_df[winner_cols].sum(axis=1)\n",
    "mens_df.loc[:,'gj']= mens_df[loser_cols].sum(axis=1)"
   ]
  },
  {
   "cell_type": "code",
   "execution_count": 7,
   "metadata": {},
   "outputs": [],
   "source": [
    "dates_list = []\n",
    "for i,df in mens_df.groupby([mens_df.Date.dt.year,'ATP']):\n",
    "    dates_list.append((min(df['Date']),max(df['Date'])))\n",
    "dates_list=list(set(dates_list))"
   ]
  },
  {
   "cell_type": "code",
   "execution_count": 8,
   "metadata": {},
   "outputs": [],
   "source": [
    "alpha_df = pd.DataFrame([],columns=['p_dict','x'],index=pd.MultiIndex.from_tuples(dates_list, names=['start', 'end']))"
   ]
  },
  {
   "cell_type": "code",
   "execution_count": 9,
   "metadata": {},
   "outputs": [],
   "source": [
    "def save_alpha_df(i):\n",
    "    with open('alphas/mens_alphas_{c}.pickle'.format(c=i/30), 'wb') as handle:\n",
    "        pickle.dump(alpha_df, handle, protocol=pickle.HIGHEST_PROTOCOL)"
   ]
  },
  {
   "cell_type": "code",
   "execution_count": null,
   "metadata": {},
   "outputs": [],
   "source": [
    "%%time\n",
    "\n",
    "filter_player_universe = False\n",
    "\n",
    "for i,dates in enumerate(dates_list[-5:]):\n",
    "    ## ------ df prep -------- ##\n",
    "    ## ----------------------- ##\n",
    "    \n",
    "    # 1 - Focus on time periods that we care about\n",
    "    pred_df = mens_df[(mens_df['Date']>=dates[0])&(mens_df['Date']<=dates[1])]\n",
    "    prediction_surface = pred_df['Surface'].mode()[0]\n",
    "    cutoff_date = dates[0] - pd.Timedelta(days=max_time_interval) # How far back we'll look\n",
    "    df = mens_df[(mens_df['Date']>=cutoff_date) & (mens_df['Date']<dates[0])].copy() # Strict ineq here important!\n",
    "    \n",
    "    # 2 - Add time weight col\n",
    "    df.loc[:,'dt'] = (dates[0] - df.loc[:,'Date']).dt.days.astype('int16') # An integer amount of days\n",
    "    df.loc[:,'time_decay'] = round(np.exp(-eps*df.loc[:,'dt']),2)\n",
    "    \n",
    "    # 3 - Fliter games down even further\n",
    "    if filter_player_universe:\n",
    "        players = set(np.concatenate([pred_df['Winner'].values,pred_df['Loser'].values],axis=0))\n",
    "        df = df[df['Winner'].isin(players) | df['Loser'].isin(players)]\n",
    "    \n",
    "    # 4 - Filter cols\n",
    "    df = df[['Surface','Winner','Loser','time_decay','gi','gj']]\n",
    "    \n",
    "    # 5 - Player dict\n",
    "    unique_players = set(np.concatenate([df['Winner'].values,df['Loser'].values],axis=0))\n",
    "    n = len(unique_players)\n",
    "    if n == 0: continue\n",
    "    player_dict = {}\n",
    "    for i,player in enumerate(unique_players):\n",
    "        player_dict[player] = i\n",
    "        \n",
    "    # 6 - surface dict\n",
    "    if prediction_surface == 'Grass':\n",
    "        surface_dict = defaultdict(lambda: 1, {'Clay':0,'Grass':-1})\n",
    "    elif prediction_surface != 'Clay':\n",
    "        surface_dict = defaultdict(lambda: -1, {'Clay':0,'Grass':1})\n",
    "    else:\n",
    "        surface_dict = defaultdict(lambda: 1, {'Clay':-1,'Grass':0})\n",
    "    surface_dict # The prediction surface should have key -1\n",
    "    \n",
    "    # 7 - Mapping cols\n",
    "    df.loc[:,'Winner'] = df.loc[:,'Winner'].map(player_dict)\n",
    "    df.loc[:,'Loser'] = df.loc[:,'Loser'].map(player_dict)\n",
    "    df.loc[:,'Surface'] = df['Surface'].map(surface_dict)\n",
    "    df.loc[:,'Surface_mult'] = np.where(df['Surface'] == -1,0,1)\n",
    "\n",
    "    # 8 - Data typing\n",
    "    df.loc[:,df.columns != 'time_decay'] = df.loc[:,df.columns != 'time_decay'].astype(int) # So we can use the entries as list indecies later on\n",
    "    \n",
    "    ## ------ Fitting -------- ##\n",
    "    ## ----------------------- ##\n",
    "    x0=np.ones((3*n))\n",
    "    bds = [(0.1,2.5)]*n + [(0.1,1.5)]*(2*n)\n",
    "    res = minimize(log_lilkihood,x0=x0,args=(n,df),bounds=bds,options={'disp':False,'maxiter':50})\n",
    "    \n",
    "    alpha_df.loc[dates]['p_dict']=player_dict\n",
    "    alpha_df.loc[dates]['x']=res.x\n",
    "    \n",
    "\n",
    "    save_alpha_df(i)"
   ]
  },
  {
   "cell_type": "code",
   "execution_count": null,
   "metadata": {},
   "outputs": [],
   "source": []
  }
 ],
 "metadata": {
  "kernelspec": {
   "display_name": "Python 3",
   "language": "python",
   "name": "python3"
  },
  "language_info": {
   "codemirror_mode": {
    "name": "ipython",
    "version": 3
   },
   "file_extension": ".py",
   "mimetype": "text/x-python",
   "name": "python",
   "nbconvert_exporter": "python",
   "pygments_lexer": "ipython3",
   "version": "3.7.6"
  }
 },
 "nbformat": 4,
 "nbformat_minor": 4
}

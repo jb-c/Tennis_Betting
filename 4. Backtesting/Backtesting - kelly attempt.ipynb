{
 "cells": [
  {
   "cell_type": "markdown",
   "metadata": {},
   "source": [
    "## Setup"
   ]
  },
  {
   "cell_type": "code",
   "execution_count": 1,
   "metadata": {},
   "outputs": [],
   "source": [
    "import pandas as pd\n",
    "import numpy as np\n",
    "import pickle\n",
    "import xgboost as xgb\n",
    "import matplotlib.pyplot as plt"
   ]
  },
  {
   "cell_type": "markdown",
   "metadata": {},
   "source": [
    "## Load in Saved XGBoost Model & Data"
   ]
  },
  {
   "cell_type": "code",
   "execution_count": 2,
   "metadata": {},
   "outputs": [],
   "source": [
    "# Load in trained model\n",
    "bst = pickle.load(open(\"../3. ML/bst.pickle.dat\", \"rb\"))"
   ]
  },
  {
   "cell_type": "code",
   "execution_count": 3,
   "metadata": {},
   "outputs": [],
   "source": [
    "df = pd.read_csv('../data/formatted_mens.csv',header=0,parse_dates=[\"Date\"])\n",
    "df.dropna(inplace=True)\n",
    "\n",
    "categorical_cols = ['Tournament', 'Court', 'Surface', 'Round', 'A', 'B']\n",
    "df = pd.get_dummies(df,columns=categorical_cols,drop_first=True)"
   ]
  },
  {
   "cell_type": "code",
   "execution_count": 4,
   "metadata": {},
   "outputs": [
    {
     "name": "stdout",
     "output_type": "stream",
     "text": [
      "['Date', 'y']\n",
      "[]\n"
     ]
    }
   ],
   "source": [
    "df[['Date','y']+bst.feature_names].sort_values(by='Date',inplace=True) #Match model feature labels\n",
    "\n",
    "## Check we have no missing or extra features\n",
    "print([c for c in df.columns if c not in bst.feature_names]) # Should be date & y\n",
    "print([c for c in bst.feature_names if c not in df.columns]) # Should be empty"
   ]
  },
  {
   "cell_type": "code",
   "execution_count": 5,
   "metadata": {},
   "outputs": [],
   "source": [
    "split_time = pd.to_datetime('2018-01-01') # SAME SPLIT FROM ML EXPLORING\n",
    "df = df.loc[df['Date']>=split_time]"
   ]
  },
  {
   "cell_type": "markdown",
   "metadata": {},
   "source": [
    "## Make Predictions"
   ]
  },
  {
   "cell_type": "code",
   "execution_count": 6,
   "metadata": {},
   "outputs": [],
   "source": [
    "d = xgb.DMatrix(df.drop(columns=['Date','y']), label=df['y'])\n",
    "df['prediction'] = bst.predict(d)"
   ]
  },
  {
   "cell_type": "code",
   "execution_count": 7,
   "metadata": {},
   "outputs": [
    {
     "data": {
      "text/html": [
       "<div>\n",
       "<style scoped>\n",
       "    .dataframe tbody tr th:only-of-type {\n",
       "        vertical-align: middle;\n",
       "    }\n",
       "\n",
       "    .dataframe tbody tr th {\n",
       "        vertical-align: top;\n",
       "    }\n",
       "\n",
       "    .dataframe thead th {\n",
       "        text-align: right;\n",
       "    }\n",
       "</style>\n",
       "<table border=\"1\" class=\"dataframe\">\n",
       "  <thead>\n",
       "    <tr style=\"text-align: right;\">\n",
       "      <th></th>\n",
       "      <th>Date</th>\n",
       "      <th>A_rank</th>\n",
       "      <th>B_rank</th>\n",
       "      <th>APts</th>\n",
       "      <th>BPts</th>\n",
       "      <th>A_Max</th>\n",
       "      <th>B_Max</th>\n",
       "      <th>A_Avg</th>\n",
       "      <th>B_Avg</th>\n",
       "      <th>A_hist_form</th>\n",
       "      <th>...</th>\n",
       "      <th>B_Zhang Ze</th>\n",
       "      <th>B_Zhang Ze.</th>\n",
       "      <th>B_Zhang Zh.</th>\n",
       "      <th>B_Ziadi M.</th>\n",
       "      <th>B_Zopp J.</th>\n",
       "      <th>B_Zverev A.</th>\n",
       "      <th>B_Zverev M.</th>\n",
       "      <th>prediction</th>\n",
       "      <th>betting_direction</th>\n",
       "      <th>correct</th>\n",
       "    </tr>\n",
       "  </thead>\n",
       "  <tbody>\n",
       "    <tr>\n",
       "      <th>44664</th>\n",
       "      <td>2018-01-01</td>\n",
       "      <td>47.0</td>\n",
       "      <td>52.0</td>\n",
       "      <td>1010.0</td>\n",
       "      <td>909.0</td>\n",
       "      <td>1.75</td>\n",
       "      <td>2.35</td>\n",
       "      <td>1.67</td>\n",
       "      <td>2.17</td>\n",
       "      <td>0.50</td>\n",
       "      <td>...</td>\n",
       "      <td>0</td>\n",
       "      <td>0</td>\n",
       "      <td>0</td>\n",
       "      <td>0</td>\n",
       "      <td>0</td>\n",
       "      <td>0</td>\n",
       "      <td>0</td>\n",
       "      <td>0.493191</td>\n",
       "      <td>0</td>\n",
       "      <td>False</td>\n",
       "    </tr>\n",
       "    <tr>\n",
       "      <th>44665</th>\n",
       "      <td>2018-01-01</td>\n",
       "      <td>76.0</td>\n",
       "      <td>79.0</td>\n",
       "      <td>670.0</td>\n",
       "      <td>662.0</td>\n",
       "      <td>2.52</td>\n",
       "      <td>1.65</td>\n",
       "      <td>2.37</td>\n",
       "      <td>1.58</td>\n",
       "      <td>0.50</td>\n",
       "      <td>...</td>\n",
       "      <td>0</td>\n",
       "      <td>0</td>\n",
       "      <td>0</td>\n",
       "      <td>0</td>\n",
       "      <td>0</td>\n",
       "      <td>0</td>\n",
       "      <td>0</td>\n",
       "      <td>0.393546</td>\n",
       "      <td>0</td>\n",
       "      <td>False</td>\n",
       "    </tr>\n",
       "    <tr>\n",
       "      <th>44666</th>\n",
       "      <td>2018-01-01</td>\n",
       "      <td>218.0</td>\n",
       "      <td>33.0</td>\n",
       "      <td>235.0</td>\n",
       "      <td>1302.0</td>\n",
       "      <td>3.00</td>\n",
       "      <td>1.57</td>\n",
       "      <td>2.73</td>\n",
       "      <td>1.44</td>\n",
       "      <td>0.50</td>\n",
       "      <td>...</td>\n",
       "      <td>0</td>\n",
       "      <td>0</td>\n",
       "      <td>0</td>\n",
       "      <td>0</td>\n",
       "      <td>0</td>\n",
       "      <td>0</td>\n",
       "      <td>1</td>\n",
       "      <td>0.403896</td>\n",
       "      <td>0</td>\n",
       "      <td>True</td>\n",
       "    </tr>\n",
       "    <tr>\n",
       "      <th>44667</th>\n",
       "      <td>2018-01-01</td>\n",
       "      <td>66.0</td>\n",
       "      <td>120.0</td>\n",
       "      <td>768.0</td>\n",
       "      <td>498.0</td>\n",
       "      <td>2.38</td>\n",
       "      <td>1.75</td>\n",
       "      <td>2.20</td>\n",
       "      <td>1.66</td>\n",
       "      <td>0.50</td>\n",
       "      <td>...</td>\n",
       "      <td>0</td>\n",
       "      <td>0</td>\n",
       "      <td>0</td>\n",
       "      <td>0</td>\n",
       "      <td>0</td>\n",
       "      <td>0</td>\n",
       "      <td>0</td>\n",
       "      <td>0.416970</td>\n",
       "      <td>0</td>\n",
       "      <td>False</td>\n",
       "    </tr>\n",
       "    <tr>\n",
       "      <th>44668</th>\n",
       "      <td>2018-01-01</td>\n",
       "      <td>54.0</td>\n",
       "      <td>94.0</td>\n",
       "      <td>890.0</td>\n",
       "      <td>593.0</td>\n",
       "      <td>2.00</td>\n",
       "      <td>2.02</td>\n",
       "      <td>1.89</td>\n",
       "      <td>1.89</td>\n",
       "      <td>0.50</td>\n",
       "      <td>...</td>\n",
       "      <td>0</td>\n",
       "      <td>0</td>\n",
       "      <td>0</td>\n",
       "      <td>0</td>\n",
       "      <td>0</td>\n",
       "      <td>0</td>\n",
       "      <td>0</td>\n",
       "      <td>0.508752</td>\n",
       "      <td>1</td>\n",
       "      <td>True</td>\n",
       "    </tr>\n",
       "    <tr>\n",
       "      <th>...</th>\n",
       "      <td>...</td>\n",
       "      <td>...</td>\n",
       "      <td>...</td>\n",
       "      <td>...</td>\n",
       "      <td>...</td>\n",
       "      <td>...</td>\n",
       "      <td>...</td>\n",
       "      <td>...</td>\n",
       "      <td>...</td>\n",
       "      <td>...</td>\n",
       "      <td>...</td>\n",
       "      <td>...</td>\n",
       "      <td>...</td>\n",
       "      <td>...</td>\n",
       "      <td>...</td>\n",
       "      <td>...</td>\n",
       "      <td>...</td>\n",
       "      <td>...</td>\n",
       "      <td>...</td>\n",
       "      <td>...</td>\n",
       "      <td>...</td>\n",
       "    </tr>\n",
       "    <tr>\n",
       "      <th>50582</th>\n",
       "      <td>2020-11-20</td>\n",
       "      <td>7.0</td>\n",
       "      <td>1.0</td>\n",
       "      <td>5525.0</td>\n",
       "      <td>11830.0</td>\n",
       "      <td>3.92</td>\n",
       "      <td>1.35</td>\n",
       "      <td>3.52</td>\n",
       "      <td>1.31</td>\n",
       "      <td>0.40</td>\n",
       "      <td>...</td>\n",
       "      <td>0</td>\n",
       "      <td>0</td>\n",
       "      <td>0</td>\n",
       "      <td>0</td>\n",
       "      <td>0</td>\n",
       "      <td>0</td>\n",
       "      <td>0</td>\n",
       "      <td>0.247224</td>\n",
       "      <td>0</td>\n",
       "      <td>True</td>\n",
       "    </tr>\n",
       "    <tr>\n",
       "      <th>50583</th>\n",
       "      <td>2020-11-20</td>\n",
       "      <td>9.0</td>\n",
       "      <td>4.0</td>\n",
       "      <td>3455.0</td>\n",
       "      <td>6970.0</td>\n",
       "      <td>4.00</td>\n",
       "      <td>1.40</td>\n",
       "      <td>3.60</td>\n",
       "      <td>1.29</td>\n",
       "      <td>0.00</td>\n",
       "      <td>...</td>\n",
       "      <td>0</td>\n",
       "      <td>0</td>\n",
       "      <td>0</td>\n",
       "      <td>0</td>\n",
       "      <td>0</td>\n",
       "      <td>0</td>\n",
       "      <td>0</td>\n",
       "      <td>0.196349</td>\n",
       "      <td>0</td>\n",
       "      <td>True</td>\n",
       "    </tr>\n",
       "    <tr>\n",
       "      <th>50584</th>\n",
       "      <td>2020-11-21</td>\n",
       "      <td>3.0</td>\n",
       "      <td>1.0</td>\n",
       "      <td>9125.0</td>\n",
       "      <td>11830.0</td>\n",
       "      <td>2.70</td>\n",
       "      <td>1.66</td>\n",
       "      <td>2.47</td>\n",
       "      <td>1.56</td>\n",
       "      <td>0.30</td>\n",
       "      <td>...</td>\n",
       "      <td>0</td>\n",
       "      <td>0</td>\n",
       "      <td>0</td>\n",
       "      <td>0</td>\n",
       "      <td>0</td>\n",
       "      <td>0</td>\n",
       "      <td>0</td>\n",
       "      <td>0.384299</td>\n",
       "      <td>0</td>\n",
       "      <td>False</td>\n",
       "    </tr>\n",
       "    <tr>\n",
       "      <th>50585</th>\n",
       "      <td>2020-11-21</td>\n",
       "      <td>4.0</td>\n",
       "      <td>2.0</td>\n",
       "      <td>6970.0</td>\n",
       "      <td>9850.0</td>\n",
       "      <td>1.95</td>\n",
       "      <td>2.20</td>\n",
       "      <td>1.80</td>\n",
       "      <td>2.04</td>\n",
       "      <td>0.00</td>\n",
       "      <td>...</td>\n",
       "      <td>0</td>\n",
       "      <td>0</td>\n",
       "      <td>0</td>\n",
       "      <td>0</td>\n",
       "      <td>0</td>\n",
       "      <td>0</td>\n",
       "      <td>0</td>\n",
       "      <td>0.569718</td>\n",
       "      <td>1</td>\n",
       "      <td>True</td>\n",
       "    </tr>\n",
       "    <tr>\n",
       "      <th>50586</th>\n",
       "      <td>2020-11-22</td>\n",
       "      <td>3.0</td>\n",
       "      <td>4.0</td>\n",
       "      <td>9125.0</td>\n",
       "      <td>6970.0</td>\n",
       "      <td>2.40</td>\n",
       "      <td>1.85</td>\n",
       "      <td>2.26</td>\n",
       "      <td>1.66</td>\n",
       "      <td>0.75</td>\n",
       "      <td>...</td>\n",
       "      <td>0</td>\n",
       "      <td>0</td>\n",
       "      <td>0</td>\n",
       "      <td>0</td>\n",
       "      <td>0</td>\n",
       "      <td>0</td>\n",
       "      <td>0</td>\n",
       "      <td>0.460715</td>\n",
       "      <td>0</td>\n",
       "      <td>True</td>\n",
       "    </tr>\n",
       "  </tbody>\n",
       "</table>\n",
       "<p>5922 rows × 1411 columns</p>\n",
       "</div>"
      ],
      "text/plain": [
       "            Date  A_rank  B_rank    APts     BPts  A_Max  B_Max  A_Avg  B_Avg  \\\n",
       "44664 2018-01-01    47.0    52.0  1010.0    909.0   1.75   2.35   1.67   2.17   \n",
       "44665 2018-01-01    76.0    79.0   670.0    662.0   2.52   1.65   2.37   1.58   \n",
       "44666 2018-01-01   218.0    33.0   235.0   1302.0   3.00   1.57   2.73   1.44   \n",
       "44667 2018-01-01    66.0   120.0   768.0    498.0   2.38   1.75   2.20   1.66   \n",
       "44668 2018-01-01    54.0    94.0   890.0    593.0   2.00   2.02   1.89   1.89   \n",
       "...          ...     ...     ...     ...      ...    ...    ...    ...    ...   \n",
       "50582 2020-11-20     7.0     1.0  5525.0  11830.0   3.92   1.35   3.52   1.31   \n",
       "50583 2020-11-20     9.0     4.0  3455.0   6970.0   4.00   1.40   3.60   1.29   \n",
       "50584 2020-11-21     3.0     1.0  9125.0  11830.0   2.70   1.66   2.47   1.56   \n",
       "50585 2020-11-21     4.0     2.0  6970.0   9850.0   1.95   2.20   1.80   2.04   \n",
       "50586 2020-11-22     3.0     4.0  9125.0   6970.0   2.40   1.85   2.26   1.66   \n",
       "\n",
       "       A_hist_form  ...  B_Zhang Ze  B_Zhang Ze.  B_Zhang Zh.  B_Ziadi M.  \\\n",
       "44664         0.50  ...           0            0            0           0   \n",
       "44665         0.50  ...           0            0            0           0   \n",
       "44666         0.50  ...           0            0            0           0   \n",
       "44667         0.50  ...           0            0            0           0   \n",
       "44668         0.50  ...           0            0            0           0   \n",
       "...            ...  ...         ...          ...          ...         ...   \n",
       "50582         0.40  ...           0            0            0           0   \n",
       "50583         0.00  ...           0            0            0           0   \n",
       "50584         0.30  ...           0            0            0           0   \n",
       "50585         0.00  ...           0            0            0           0   \n",
       "50586         0.75  ...           0            0            0           0   \n",
       "\n",
       "       B_Zopp J.  B_Zverev A.  B_Zverev M.  prediction  betting_direction  \\\n",
       "44664          0            0            0    0.493191                  0   \n",
       "44665          0            0            0    0.393546                  0   \n",
       "44666          0            0            1    0.403896                  0   \n",
       "44667          0            0            0    0.416970                  0   \n",
       "44668          0            0            0    0.508752                  1   \n",
       "...          ...          ...          ...         ...                ...   \n",
       "50582          0            0            0    0.247224                  0   \n",
       "50583          0            0            0    0.196349                  0   \n",
       "50584          0            0            0    0.384299                  0   \n",
       "50585          0            0            0    0.569718                  1   \n",
       "50586          0            0            0    0.460715                  0   \n",
       "\n",
       "       correct  \n",
       "44664    False  \n",
       "44665    False  \n",
       "44666     True  \n",
       "44667    False  \n",
       "44668     True  \n",
       "...        ...  \n",
       "50582     True  \n",
       "50583     True  \n",
       "50584    False  \n",
       "50585     True  \n",
       "50586     True  \n",
       "\n",
       "[5922 rows x 1411 columns]"
      ]
     },
     "execution_count": 7,
     "metadata": {},
     "output_type": "execute_result"
    }
   ],
   "source": [
    "df['betting_direction'] = (df['prediction'] > 0.5).astype('uint8')\n",
    "df['correct'] = df['betting_direction'] == df['y']\n",
    "df"
   ]
  },
  {
   "cell_type": "code",
   "execution_count": 8,
   "metadata": {},
   "outputs": [
    {
     "data": {
      "text/plain": [
       "0.6769672407970281"
      ]
     },
     "execution_count": 8,
     "metadata": {},
     "output_type": "execute_result"
    }
   ],
   "source": [
    "predictions_df = df.loc[:,['prediction','correct']]\n",
    "df['correct'].mean()"
   ]
  },
  {
   "cell_type": "code",
   "execution_count": 9,
   "metadata": {},
   "outputs": [
    {
     "data": {
      "image/png": "[encoded data removed]",
      "text/plain": [
       "<Figure size 432x288 with 1 Axes>"
      ]
     },
     "metadata": {
      "needs_background": "light"
     },
     "output_type": "display_data"
    }
   ],
   "source": [
    "confident_accuracies = []\n",
    "for p_threshold in np.linspace(0.5,1):\n",
    "    accuracy = predictions_df[(predictions_df.prediction>p_threshold) | (predictions_df.prediction<1-p_threshold)]['correct'].mean()\n",
    "    confident_accuracies.append(accuracy)\n",
    "\n",
    "plt.plot(np.linspace(0.5,1),confident_accuracies)\n",
    "plt.title('Model Accuracy (on test data)')\n",
    "plt.xlabel('Confidence Threshold')\n",
    "plt.ylabel('Accuracy')\n",
    "plt.savefig('model accuracy.jpeg',bbox_inches='tight')"
   ]
  },
  {
   "cell_type": "markdown",
   "metadata": {},
   "source": [
    "## Set odds Data"
   ]
  },
  {
   "cell_type": "code",
   "execution_count": 10,
   "metadata": {},
   "outputs": [],
   "source": [
    "use_best_odds = True # Or could code in to use a specific bookmaker\n",
    "\n",
    "if use_best_odds:\n",
    "    df[['A_odds','B_odds']] = df[['A_Max','B_Max']]\n",
    "else:\n",
    "    df[['A_odds','B_odds']] = df[['A_Avg','B_Avg']]"
   ]
  },
  {
   "cell_type": "markdown",
   "metadata": {},
   "source": [
    "## Deciding When To Bet"
   ]
  },
  {
   "cell_type": "code",
   "execution_count": 11,
   "metadata": {},
   "outputs": [],
   "source": [
    "betting_margin = 1.02\n",
    "df[\"bet on A\"]= (df[\"prediction\"] > 1/df[\"A_odds\"] * betting_margin)\n",
    "df[\"bet on B\"] = ((1-df[\"prediction\"]) > 1/df[\"B_odds\"] * betting_margin) "
   ]
  },
  {
   "cell_type": "raw",
   "metadata": {},
   "source": [
    "df[\"bet on A\"] = df[\"prediction\"] > 0.7\n",
    "df[\"bet on B\"] = df[\"prediction\"] < 0.3"
   ]
  },
  {
   "cell_type": "markdown",
   "metadata": {},
   "source": [
    "## Calculating Returns"
   ]
  },
  {
   "cell_type": "code",
   "execution_count": 12,
   "metadata": {},
   "outputs": [
    {
     "name": "stdout",
     "output_type": "stream",
     "text": [
      "0.016040618955512564\n"
     ]
    }
   ],
   "source": [
    "a_df = df.loc[df[\"bet on A\"],:].copy()\n",
    "b_df = df.loc[df[\"bet on B\"],:].copy()\n",
    "\n",
    "df.loc[df[\"bet on A\"],'profit'] = a_df['y']*a_df[\"A_odds\"] - 1\n",
    "df.loc[df[\"bet on B\"],'profit'] = (1-b_df['y'])*b_df[\"B_odds\"] - 1\n",
    "\n",
    "df.loc[df[\"bet on A\"],'kelly_bet'] = (a_df[\"prediction\"]*a_df[\"A_odds\"]-1)/a_df[\"A_odds\"]\n",
    "df.loc[df[\"bet on B\"],'kelly_bet'] = ((1-b_df[\"prediction\"])*b_df[\"B_odds\"]-1)/b_df[\"B_odds\"]\n",
    "\n",
    "print(df[df[\"bet on A\"] | df[\"bet on B\"]]['profit'].mean())"
   ]
  },
  {
   "cell_type": "code",
   "execution_count": 13,
   "metadata": {},
   "outputs": [],
   "source": [
    "kelly_profit = df[df[\"bet on A\"] | df[\"bet on B\"]]['kelly_bet'] * df[df[\"bet on A\"] | df[\"bet on B\"]]['profit']"
   ]
  },
  {
   "cell_type": "code",
   "execution_count": 14,
   "metadata": {},
   "outputs": [
    {
     "data": {
      "text/plain": [
       "<matplotlib.axes._subplots.AxesSubplot at 0x19e48001108>"
      ]
     },
     "execution_count": 14,
     "metadata": {},
     "output_type": "execute_result"
    },
    {
     "data": {
      "image/png": "[encoded data removed]",
      "text/plain": [
       "<Figure size 432x288 with 1 Axes>"
      ]
     },
     "metadata": {
      "needs_background": "light"
     },
     "output_type": "display_data"
    }
   ],
   "source": [
    "import seaborn as sns\n",
    "sns.distplot(kelly_profit)"
   ]
  },
  {
   "cell_type": "markdown",
   "metadata": {},
   "source": [
    "## Backtesting"
   ]
  },
  {
   "cell_type": "code",
   "execution_count": 15,
   "metadata": {},
   "outputs": [
    {
     "data": {
      "text/plain": [
       "Text(0.5, 1.0, 'Fractional P/L on Each Bet (mean = 5e-05)')"
      ]
     },
     "execution_count": 15,
     "metadata": {},
     "output_type": "execute_result"
    },
    {
     "data": {
      "image/png": "[encoded data removed]",
      "text/plain": [
       "<Figure size 432x288 with 1 Axes>"
      ]
     },
     "metadata": {
      "needs_background": "light"
     },
     "output_type": "display_data"
    },
    {
     "data": {
      "image/png": "[encoded data removed]",
      "text/plain": [
       "<Figure size 432x288 with 1 Axes>"
      ]
     },
     "metadata": {
      "needs_background": "light"
     },
     "output_type": "display_data"
    }
   ],
   "source": [
    "wallet = [1]\n",
    "bet_p_and_l_fractional = []\n",
    "betting_fraction_scale = 0.06\n",
    "\n",
    "for index, x in df.iterrows():\n",
    "    if x['bet on A'] or x['bet on B']:\n",
    "        profit_or_loss_fraction = betting_fraction_scale*x['kelly_bet']*x['profit']\n",
    "        wallet.append(wallet[-1] + wallet[-1]*profit_or_loss_fraction)\n",
    "        bet_p_and_l_fractional.append(profit_or_loss_fraction)\n",
    "    else:\n",
    "        wallet.append(wallet[-1])\n",
    "plt.plot(df.Date,wallet[1:])\n",
    "plt.xticks(rotation=45)\n",
    "plt.xlabel(\"Date\")\n",
    "plt.ylabel(\"Total Portfolio Size\")\n",
    "plt.title('Bankroll Over Time')\n",
    "plt.savefig('bankroll.jpeg',bbox_inches='tight')\n",
    "\n",
    "plt.figure()\n",
    "plt.plot(bet_p_and_l_fractional)\n",
    "plt.title('Fractional P/L on Each Bet (mean = {f})'.format(f=round(np.mean(bet_p_and_l_fractional),5)))"
   ]
  },
  {
   "cell_type": "code",
   "execution_count": 16,
   "metadata": {},
   "outputs": [
    {
     "data": {
      "text/plain": [
       "Text(0.5, 1.0, 'Bankroll Over Time')"
      ]
     },
     "execution_count": 16,
     "metadata": {},
     "output_type": "execute_result"
    },
    {
     "data": {
      "image/png": "[encoded data removed]",
      "text/plain": [
       "<Figure size 432x288 with 1 Axes>"
      ]
     },
     "metadata": {
      "needs_background": "light"
     },
     "output_type": "display_data"
    }
   ],
   "source": [
    "wallet = [1]\n",
    "betting_fraction_scale = 0.1\n",
    "\n",
    "for date,b_df in df.groupby('Date'):\n",
    "    x = b_df.loc[b_df['bet on A'] | b_df['bet on B'],['kelly_bet','profit']]\n",
    "    if x.shape[0]>0:\n",
    "        total_fractional_bet = betting_fraction_scale*x['kelly_bet'].sum()\n",
    "        total_fractional_profit = (betting_fraction_scale*x['kelly_bet']*x['profit']).sum()\n",
    "\n",
    "        wallet.append(wallet[-1] + wallet[-1]*total_fractional_profit)\n",
    "    else:\n",
    "        wallet.append(wallet[-1])\n",
    "        \n",
    "plt.plot(df.Date.unique(),wallet[1:])\n",
    "plt.xticks(rotation=45)\n",
    "plt.title('Bankroll Over Time')"
   ]
  },
  {
   "cell_type": "code",
   "execution_count": null,
   "metadata": {},
   "outputs": [],
   "source": []
  }
 ],
 "metadata": {
  "kernelspec": {
   "display_name": "Python 3",
   "language": "python",
   "name": "python3"
  },
  "language_info": {
   "codemirror_mode": {
    "name": "ipython",
    "version": 3
   },
   "file_extension": ".py",
   "mimetype": "text/x-python",
   "name": "python",
   "nbconvert_exporter": "python",
   "pygments_lexer": "ipython3",
   "version": "3.7.6"
  }
 },
 "nbformat": 4,
 "nbformat_minor": 4
}

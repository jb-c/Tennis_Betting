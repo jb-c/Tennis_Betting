{
 "cells": [
  {
   "cell_type": "markdown",
   "metadata": {},
   "source": [
    "# Model Testing\n",
    "## Setup"
   ]
  },
  {
   "cell_type": "code",
   "execution_count": 1,
   "metadata": {},
   "outputs": [],
   "source": [
    "import pandas as pd\n",
    "import numpy as np\n",
    "import pickle"
   ]
  },
  {
   "cell_type": "markdown",
   "metadata": {},
   "source": [
    "## Reading in Alphas & Mapping To DF"
   ]
  },
  {
   "cell_type": "code",
   "execution_count": 2,
   "metadata": {
    "scrolled": true
   },
   "outputs": [
    {
     "data": {
      "text/html": [
       "<div>\n",
       "<style scoped>\n",
       "    .dataframe tbody tr th:only-of-type {\n",
       "        vertical-align: middle;\n",
       "    }\n",
       "\n",
       "    .dataframe tbody tr th {\n",
       "        vertical-align: top;\n",
       "    }\n",
       "\n",
       "    .dataframe thead th {\n",
       "        text-align: right;\n",
       "    }\n",
       "</style>\n",
       "<table border=\"1\" class=\"dataframe\">\n",
       "  <thead>\n",
       "    <tr style=\"text-align: right;\">\n",
       "      <th></th>\n",
       "      <th></th>\n",
       "      <th>p_dict</th>\n",
       "      <th>x</th>\n",
       "    </tr>\n",
       "    <tr>\n",
       "      <th>start</th>\n",
       "      <th>end</th>\n",
       "      <th></th>\n",
       "      <th></th>\n",
       "    </tr>\n",
       "  </thead>\n",
       "  <tbody>\n",
       "    <tr>\n",
       "      <th>2017-01-02</th>\n",
       "      <th>2017-04-01</th>\n",
       "      <td>{'Choinski J.': 0, 'Broady L.': 1, 'Delbonis F...</td>\n",
       "      <td>[0.7239695125774777, 1.069924249476819, 1.0938...</td>\n",
       "    </tr>\n",
       "    <tr>\n",
       "      <th>2002-05-27</th>\n",
       "      <th>2002-05-27</th>\n",
       "      <td>{'Pretzsch A.': 0, 'Larsson M.': 1, 'Pavel A.'...</td>\n",
       "      <td>[0.800685292740611, 0.964876756885678, 1.52120...</td>\n",
       "    </tr>\n",
       "    <tr>\n",
       "      <th>2012-05-22</th>\n",
       "      <th>2012-05-26</th>\n",
       "      <td>{'Del Bonis F.': 0, 'Blake J.': 1, 'Delbonis F...</td>\n",
       "      <td>[1.6033600263722116, 0.9296558179990959, 1.334...</td>\n",
       "    </tr>\n",
       "    <tr>\n",
       "      <th>2000-07-10</th>\n",
       "      <th>2000-07-10</th>\n",
       "      <td>{'Pretzsch A.': 0, 'Larsson M.': 1, 'Pavel A.'...</td>\n",
       "      <td>[1.0469830051536664, 1.7652306826038533, 1.447...</td>\n",
       "    </tr>\n",
       "    <tr>\n",
       "      <th>2013-09-16</th>\n",
       "      <th>2013-09-22</th>\n",
       "      <td>{'Del Bonis F.': 0, 'Broady L.': 1, 'Blake J.'...</td>\n",
       "      <td>[1.3234143857328917, 0.7012684908314621, 1.191...</td>\n",
       "    </tr>\n",
       "  </tbody>\n",
       "</table>\n",
       "</div>"
      ],
      "text/plain": [
       "                                                                  p_dict  \\\n",
       "start      end                                                             \n",
       "2017-01-02 2017-04-01  {'Choinski J.': 0, 'Broady L.': 1, 'Delbonis F...   \n",
       "2002-05-27 2002-05-27  {'Pretzsch A.': 0, 'Larsson M.': 1, 'Pavel A.'...   \n",
       "2012-05-22 2012-05-26  {'Del Bonis F.': 0, 'Blake J.': 1, 'Delbonis F...   \n",
       "2000-07-10 2000-07-10  {'Pretzsch A.': 0, 'Larsson M.': 1, 'Pavel A.'...   \n",
       "2013-09-16 2013-09-22  {'Del Bonis F.': 0, 'Broady L.': 1, 'Blake J.'...   \n",
       "\n",
       "                                                                       x  \n",
       "start      end                                                            \n",
       "2017-01-02 2017-04-01  [0.7239695125774777, 1.069924249476819, 1.0938...  \n",
       "2002-05-27 2002-05-27  [0.800685292740611, 0.964876756885678, 1.52120...  \n",
       "2012-05-22 2012-05-26  [1.6033600263722116, 0.9296558179990959, 1.334...  \n",
       "2000-07-10 2000-07-10  [1.0469830051536664, 1.7652306826038533, 1.447...  \n",
       "2013-09-16 2013-09-22  [1.3234143857328917, 0.7012684908314621, 1.191...  "
      ]
     },
     "execution_count": 2,
     "metadata": {},
     "output_type": "execute_result"
    }
   ],
   "source": [
    "alpha_df = pd.read_pickle(r\"K:\\Code\\Tennis_Betting\\2. Model exploration\\alphas\\mens_alphas.pickle\")\n",
    "alpha_df.dropna(inplace=True)\n",
    "alpha_df.head()"
   ]
  },
  {
   "cell_type": "code",
   "execution_count": 3,
   "metadata": {},
   "outputs": [
    {
     "name": "stderr",
     "output_type": "stream",
     "text": [
      "K:\\Programs\\Anaconda\\lib\\site-packages\\IPython\\core\\interactiveshell.py:3063: DtypeWarning: Columns (11,12,15,16,17,18,38) have mixed types.Specify dtype option on import or set low_memory=False.\n",
      "  interactivity=interactivity, compiler=compiler, result=result)\n"
     ]
    }
   ],
   "source": [
    "mens_df = pd.read_csv('../data/mens.csv',header=0,parse_dates=[\"Date\"])\n",
    "mens_df = mens_df[mens_df['Comment']!='Walkover']\n",
    "\n",
    "cols_to_drop = ['Location','Tournament','Series','Court', 'Surface','Round', 'Best of', 'WRank', 'LRank', 'W1', 'L1','W2', 'L2', 'W3', 'L3', 'W4', 'L4', 'W5', 'L5', 'Wsets', 'Lsets','Comment', 'CBW', 'CBL', 'GBW', 'GBL', 'IWW', 'IWL', 'SBW', 'SBL','B365W', 'B365L', 'B&WW', 'B&WL', 'EXW', 'EXL', 'PSW', 'PSL', 'WPts','LPts', 'UBW', 'UBL', 'LBW', 'LBL', 'SJW', 'SJL', 'MaxW', 'MaxL','AvgW', 'AvgL']\n",
    "mens_df.drop(columns=cols_to_drop,inplace=True)"
   ]
  },
  {
   "cell_type": "code",
   "execution_count": 4,
   "metadata": {},
   "outputs": [],
   "source": [
    "dates_list = []\n",
    "for i,df in mens_df.groupby([mens_df.Date.dt.year,'ATP']):\n",
    "    dates_list.append((min(df['Date']),max(df['Date'])))\n",
    "dates_list=list(set(dates_list))"
   ]
  },
  {
   "cell_type": "code",
   "execution_count": 5,
   "metadata": {},
   "outputs": [],
   "source": [
    "for i,x in alpha_df.iterrows():\n",
    "    start=i[0];end=i[1];p_dict=x.p_dict; alpha = x.x; alpha[-1]=0.5\n",
    "    df_slice = mens_df.loc[(mens_df['Date']<=end) & (mens_df['Date']>=start),:]\n",
    "    mens_df.loc[(mens_df['Date']<=end) & (mens_df['Date']>=start),'w_alpha'] = alpha[df_slice['Winner'].map(p_dict).fillna(-1).astype('int')]\n",
    "    mens_df.loc[(mens_df['Date']<=end) & (mens_df['Date']>=start),'l_alpha'] = alpha[df_slice['Loser'].map(p_dict).fillna(-1).astype('int')]"
   ]
  },
  {
   "cell_type": "code",
   "execution_count": 6,
   "metadata": {},
   "outputs": [
    {
     "data": {
      "text/html": [
       "<div>\n",
       "<style scoped>\n",
       "    .dataframe tbody tr th:only-of-type {\n",
       "        vertical-align: middle;\n",
       "    }\n",
       "\n",
       "    .dataframe tbody tr th {\n",
       "        vertical-align: top;\n",
       "    }\n",
       "\n",
       "    .dataframe thead th {\n",
       "        text-align: right;\n",
       "    }\n",
       "</style>\n",
       "<table border=\"1\" class=\"dataframe\">\n",
       "  <thead>\n",
       "    <tr style=\"text-align: right;\">\n",
       "      <th></th>\n",
       "      <th>ATP</th>\n",
       "      <th>Date</th>\n",
       "      <th>Winner</th>\n",
       "      <th>Loser</th>\n",
       "      <th>w_alpha</th>\n",
       "      <th>l_alpha</th>\n",
       "    </tr>\n",
       "  </thead>\n",
       "  <tbody>\n",
       "    <tr>\n",
       "      <th>155</th>\n",
       "      <td>6</td>\n",
       "      <td>2000-01-17</td>\n",
       "      <td>Agassi A.</td>\n",
       "      <td>Puerta M.</td>\n",
       "      <td>0.500000</td>\n",
       "      <td>2.011340</td>\n",
       "    </tr>\n",
       "    <tr>\n",
       "      <th>156</th>\n",
       "      <td>6</td>\n",
       "      <td>2000-01-17</td>\n",
       "      <td>Alami K.</td>\n",
       "      <td>Manta L.</td>\n",
       "      <td>0.500000</td>\n",
       "      <td>1.504490</td>\n",
       "    </tr>\n",
       "    <tr>\n",
       "      <th>157</th>\n",
       "      <td>6</td>\n",
       "      <td>2000-01-17</td>\n",
       "      <td>Arazi H.</td>\n",
       "      <td>Alonso J.</td>\n",
       "      <td>1.133794</td>\n",
       "      <td>0.500000</td>\n",
       "    </tr>\n",
       "    <tr>\n",
       "      <th>158</th>\n",
       "      <td>6</td>\n",
       "      <td>2000-01-17</td>\n",
       "      <td>Behrend T.</td>\n",
       "      <td>Meligeni F.</td>\n",
       "      <td>0.919816</td>\n",
       "      <td>2.179620</td>\n",
       "    </tr>\n",
       "    <tr>\n",
       "      <th>159</th>\n",
       "      <td>6</td>\n",
       "      <td>2000-01-17</td>\n",
       "      <td>Bjorkman J.</td>\n",
       "      <td>Stoltenberg J.</td>\n",
       "      <td>1.142161</td>\n",
       "      <td>1.738549</td>\n",
       "    </tr>\n",
       "    <tr>\n",
       "      <th>...</th>\n",
       "      <td>...</td>\n",
       "      <td>...</td>\n",
       "      <td>...</td>\n",
       "      <td>...</td>\n",
       "      <td>...</td>\n",
       "      <td>...</td>\n",
       "    </tr>\n",
       "    <tr>\n",
       "      <th>53169</th>\n",
       "      <td>22</td>\n",
       "      <td>2020-10-07</td>\n",
       "      <td>Tsitsipas S.</td>\n",
       "      <td>Rublev A.</td>\n",
       "      <td>1.475698</td>\n",
       "      <td>1.561433</td>\n",
       "    </tr>\n",
       "    <tr>\n",
       "      <th>53170</th>\n",
       "      <td>22</td>\n",
       "      <td>2020-10-07</td>\n",
       "      <td>Djokovic N.</td>\n",
       "      <td>Carreno Busta P.</td>\n",
       "      <td>1.651171</td>\n",
       "      <td>0.983119</td>\n",
       "    </tr>\n",
       "    <tr>\n",
       "      <th>53171</th>\n",
       "      <td>22</td>\n",
       "      <td>2020-10-09</td>\n",
       "      <td>Nadal R.</td>\n",
       "      <td>Schwartzman D.</td>\n",
       "      <td>2.011917</td>\n",
       "      <td>1.446942</td>\n",
       "    </tr>\n",
       "    <tr>\n",
       "      <th>53172</th>\n",
       "      <td>22</td>\n",
       "      <td>2020-10-09</td>\n",
       "      <td>Djokovic N.</td>\n",
       "      <td>Tsitsipas S.</td>\n",
       "      <td>1.651171</td>\n",
       "      <td>1.475698</td>\n",
       "    </tr>\n",
       "    <tr>\n",
       "      <th>53173</th>\n",
       "      <td>22</td>\n",
       "      <td>2020-10-11</td>\n",
       "      <td>Nadal R.</td>\n",
       "      <td>Djokovic N.</td>\n",
       "      <td>2.011917</td>\n",
       "      <td>1.651171</td>\n",
       "    </tr>\n",
       "  </tbody>\n",
       "</table>\n",
       "<p>15823 rows × 6 columns</p>\n",
       "</div>"
      ],
      "text/plain": [
       "       ATP       Date        Winner             Loser   w_alpha   l_alpha\n",
       "155      6 2000-01-17     Agassi A.         Puerta M.  0.500000  2.011340\n",
       "156      6 2000-01-17      Alami K.          Manta L.  0.500000  1.504490\n",
       "157      6 2000-01-17      Arazi H.         Alonso J.  1.133794  0.500000\n",
       "158      6 2000-01-17    Behrend T.       Meligeni F.  0.919816  2.179620\n",
       "159      6 2000-01-17   Bjorkman J.    Stoltenberg J.  1.142161  1.738549\n",
       "...    ...        ...           ...               ...       ...       ...\n",
       "53169   22 2020-10-07  Tsitsipas S.         Rublev A.  1.475698  1.561433\n",
       "53170   22 2020-10-07   Djokovic N.  Carreno Busta P.  1.651171  0.983119\n",
       "53171   22 2020-10-09      Nadal R.    Schwartzman D.  2.011917  1.446942\n",
       "53172   22 2020-10-09   Djokovic N.      Tsitsipas S.  1.651171  1.475698\n",
       "53173   22 2020-10-11      Nadal R.       Djokovic N.  2.011917  1.651171\n",
       "\n",
       "[15823 rows x 6 columns]"
      ]
     },
     "execution_count": 6,
     "metadata": {},
     "output_type": "execute_result"
    }
   ],
   "source": [
    "mens_df.dropna(inplace=True)\n",
    "mens_df"
   ]
  },
  {
   "cell_type": "markdown",
   "metadata": {},
   "source": [
    "## Testing Model Accuracy"
   ]
  },
  {
   "cell_type": "code",
   "execution_count": 7,
   "metadata": {},
   "outputs": [
    {
     "data": {
      "text/plain": [
       "0.6522783290147254"
      ]
     },
     "execution_count": 7,
     "metadata": {},
     "output_type": "execute_result"
    }
   ],
   "source": [
    "mens_df['Correct'] = mens_df['w_alpha'] > mens_df['l_alpha']\n",
    "mens_df['Correct'].mean()"
   ]
  },
  {
   "cell_type": "code",
   "execution_count": 9,
   "metadata": {},
   "outputs": [],
   "source": [
    "mens_df['p'] = mens_df[['w_alpha','l_alpha']].max(axis=1)/(mens_df['w_alpha']+mens_df['l_alpha'])"
   ]
  },
  {
   "cell_type": "code",
   "execution_count": 14,
   "metadata": {},
   "outputs": [
    {
     "name": "stdout",
     "output_type": "stream",
     "text": [
      "Betting on games which we are over  0.5 confident in gives 0.65 % accuracy\n",
      "Betting on games which we are over  0.6 confident in gives 0.77 % accuracy\n",
      "Betting on games which we are over  0.7 confident in gives 0.76 % accuracy\n",
      "Betting on games which we are over  0.8 confident in gives 0.74 % accuracy\n",
      "Betting on games which we are over  0.9 confident in gives 0.62 % accuracy\n"
     ]
    }
   ],
   "source": [
    "for p_threshold in [0.5,0.6,0.7,0.8,0.9]:\n",
    "    accuracy = round(mens_df[mens_df['p']>p_threshold]['Correct'].mean(),2)\n",
    "    print(\"Betting on games which we are over \",p_threshold,\"confident in gives\",accuracy,\"% accuracy\")"
   ]
  },
  {
   "cell_type": "code",
   "execution_count": null,
   "metadata": {},
   "outputs": [],
   "source": []
  }
 ],
 "metadata": {
  "kernelspec": {
   "display_name": "Python 3",
   "language": "python",
   "name": "python3"
  },
  "language_info": {
   "codemirror_mode": {
    "name": "ipython",
    "version": 3
   },
   "file_extension": ".py",
   "mimetype": "text/x-python",
   "name": "python",
   "nbconvert_exporter": "python",
   "pygments_lexer": "ipython3",
   "version": "3.7.6"
  }
 },
 "nbformat": 4,
 "nbformat_minor": 4
}

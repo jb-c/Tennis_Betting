{
 "cells": [
  {
   "cell_type": "markdown",
   "metadata": {},
   "source": [
    "# Machine Learning On Tennis Data\n",
    "## Contents\n",
    ">* [Setup](#0)\n",
    ">* [Adding Features](#1)\n",
    ">* [Pre-Processing](#2)\n",
    ">* [Getting Ready For ML](#3)"
   ]
  },
  {
   "cell_type": "markdown",
   "metadata": {},
   "source": [
    "## 0 - Setup <a class=\"anchor\" id=\"0\"></a>"
   ]
  },
  {
   "cell_type": "code",
   "execution_count": 1,
   "metadata": {},
   "outputs": [],
   "source": [
    "import pandas as pd\n",
    "import numpy as np\n",
    "from collections import defaultdict\n",
    "from sklearn.model_selection import train_test_split"
   ]
  },
  {
   "cell_type": "code",
   "execution_count": 2,
   "metadata": {},
   "outputs": [
    {
     "name": "stderr",
     "output_type": "stream",
     "text": [
      "K:\\Programs\\Anaconda\\lib\\site-packages\\IPython\\core\\interactiveshell.py:3063: DtypeWarning: Columns (11,12,15,16,17,18,38) have mixed types.Specify dtype option on import or set low_memory=False.\n",
      "  interactivity=interactivity, compiler=compiler, result=result)\n",
      "K:\\Programs\\Anaconda\\lib\\site-packages\\IPython\\core\\interactiveshell.py:3063: DtypeWarning: Columns (25,28,34) have mixed types.Specify dtype option on import or set low_memory=False.\n",
      "  interactivity=interactivity, compiler=compiler, result=result)\n"
     ]
    }
   ],
   "source": [
    "mens_df = pd.read_csv('../data/mens.csv',header=0,parse_dates=[\"Date\"])\n",
    "womens_df = pd.read_csv('../data/womens.csv',header=0,parse_dates=[\"Date\"])\n",
    "\n",
    "# Remove walkovers\n",
    "mens_df = mens_df[mens_df['Comment']!='Walkover']\n",
    "womens_df = womens_df[womens_df['Comment']!='Walkover']"
   ]
  },
  {
   "cell_type": "code",
   "execution_count": 3,
   "metadata": {},
   "outputs": [],
   "source": [
    "cols = ['WRank', 'LRank']\n",
    "mens_df[cols] = mens_df[cols].apply(pd.to_numeric, errors='coerce', axis=1)"
   ]
  },
  {
   "cell_type": "code",
   "execution_count": 4,
   "metadata": {},
   "outputs": [],
   "source": [
    "mens_df = mens_df[~mens_df['WRank'].isnull() & ~mens_df['LRank'].isnull()]"
   ]
  },
  {
   "cell_type": "markdown",
   "metadata": {},
   "source": [
    "## 1 - Adding Features <a class=\"anchor\" id=\"1\"></a>"
   ]
  },
  {
   "cell_type": "markdown",
   "metadata": {},
   "source": [
    "When we train this model, the data will be shuffled so we'll lose any notion of time. We can add a few easily computable features to capture some of this information. For the moment we can add\n",
    "* Streak - length of current winning streak\n",
    "* Prefered suface - boolen true if current surface has most wins (players play ~ 80 games/year so maybe look at last 30 games)\n",
    "* Prefered court - same as prefered surface for court\n",
    "* Historical winner - If the players have played before, who won?"
   ]
  },
  {
   "cell_type": "markdown",
   "metadata": {},
   "source": [
    "### Data Structures to do this\n",
    "We'll need some additional data structures to do this\n",
    "* A dict for tracking player wins\n",
    "> player -> dict = {'player_name':boolean,...}\n",
    "* A dict for tracking player preferences over time\n",
    "Hardcourt/carpet weighting/Greenset, Clay and Grass\n",
    "> player -> dict = {'winning streak':int,'losing streak':int,'court wins':int[],'surface wins':string[],'surface losses':string[]}"
   ]
  },
  {
   "cell_type": "code",
   "execution_count": 5,
   "metadata": {},
   "outputs": [],
   "source": [
    "complete_player_list = set(list(mens_df['Winner'].values)+list(mens_df['Loser'].values)) # a list of all unique players"
   ]
  },
  {
   "cell_type": "code",
   "execution_count": 6,
   "metadata": {},
   "outputs": [],
   "source": [
    "p_observables = {}\n",
    "historical_wins = {}\n",
    "\n",
    "for p in complete_player_list:\n",
    "    p_observables[p] = {'form':[],'court_wins':[],'surface_wins':[],'surface_losses':[]}\n",
    "    historical_wins[p] = defaultdict(lambda: 0.5,{}) # If have no data assume players evenly matched (hence the 0.5 default)"
   ]
  },
  {
   "cell_type": "code",
   "execution_count": 7,
   "metadata": {},
   "outputs": [],
   "source": [
    "n_wins_in_feature_lists = 20 #number of previous wins/losses to consider\n",
    "n_games_for_form_calc = 15 #number of games to consider for recent form"
   ]
  },
  {
   "cell_type": "code",
   "execution_count": 8,
   "metadata": {},
   "outputs": [],
   "source": [
    "def match_to_new_features(x):\n",
    "    data_to_return = []\n",
    "    \n",
    "    for i,p in enumerate([x.Winner,x.Loser]):\n",
    "        ## Historical results\n",
    "        hist_form = np.mean(historical_wins[p][[x.Winner,x.Loser][i-1]])\n",
    "        \n",
    "        ## Recent form\n",
    "        form = np.mean(p_observables[p]['form']) if (len(p_observables[p]['form'])>0) else 0.5 # Assume 0.5 if have no data\n",
    "        if (len(p_observables[p]['form'])>=n_games_for_form_calc): p_observables[p]['form'].pop()\n",
    "        \n",
    "        ## Court form\n",
    "        desired_court = 'Outdoor' if sum(p_observables[p]['court_wins']) > 0 else 'Indoor' # The court type with most recent wins\n",
    "        prefered_court = 1 if (x.Court == desired_court) else 0\n",
    "        \n",
    "        ## Surface form\n",
    "        try:\n",
    "            desired_surface = max(set(p_observables[p]['surface_wins']), key=p_observables[p]['surface_wins'].count)\n",
    "        except:\n",
    "            desired_surface = 'None'\n",
    "        try:\n",
    "            undesired_surface = max(set(p_observables[p]['surface_losses']), key=p_observables[p]['surface_losses'].count)\n",
    "        except:\n",
    "            undesired_surface = 'None'\n",
    "            \n",
    "        preferred_surface = 1 if x.Surface == desired_surface else (-1 if x.Surface == undesired_surface else 0)\n",
    "        \n",
    "        ## Updating the historical info for use next time\n",
    "        if i == 0: # On 1st loop so p is the winner\n",
    "            historical_wins[p][x.Loser] = [1] if historical_wins[p][x.Loser] == 0.5 else historical_wins[p][x.Loser]+[1] # Add a 1 to the list, if the list exsists else make a new list\n",
    "            \n",
    "            p_observables[p]['form'].insert(0,1)\n",
    "            \n",
    "            if (len(p_observables[p]['surface_wins']) > n_wins_in_feature_lists): p_observables[p]['surface_wins'].pop() # remove last item from list\n",
    "            p_observables[p]['surface_wins'].insert(0,x.Surface)\n",
    "            \n",
    "            if (len(p_observables[p]['court_wins']) > n_wins_in_feature_lists): p_observables[p]['court_wins'].pop() # if too long remove last one\n",
    "            p_observables[p]['court_wins'].insert(0,1 if x.Court=='Outdoor' else -1)\n",
    "        else:\n",
    "            historical_wins[p][x.Winner] = [0] if historical_wins[p][x.Winner] == 0.5 else historical_wins[p][x.Winner]+[0] # Add a 0 entry if list already exsists, else make a new list\n",
    "            \n",
    "            p_observables[p]['form'].insert(0,-1)\n",
    "            \n",
    "            if (len(p_observables[p]['surface_losses']) > n_wins_in_feature_lists): p_observables[p]['surface_losses'].pop() # remove last item from list\n",
    "            p_observables[p]['surface_losses'].insert(0,x.Surface)\n",
    "\n",
    "        data_to_return += [hist_form,form,prefered_court,preferred_surface]\n",
    "        \n",
    "    return data_to_return"
   ]
  },
  {
   "cell_type": "code",
   "execution_count": 9,
   "metadata": {},
   "outputs": [
    {
     "name": "stdout",
     "output_type": "stream",
     "text": [
      "Wall time: 44.7 s\n"
     ]
    }
   ],
   "source": [
    "%%time\n",
    "mens_df[['w_hist_form','w_form','w_court_form','w_surface_form','l_hist_form','l_form','l_court_form','l_surface_form']] = mens_df.apply(match_to_new_features,axis=1, result_type=\"expand\")"
   ]
  },
  {
   "cell_type": "markdown",
   "metadata": {},
   "source": [
    "### Adding alpha data"
   ]
  },
  {
   "cell_type": "code",
   "execution_count": 10,
   "metadata": {},
   "outputs": [
    {
     "data": {
      "text/html": [
       "<div>\n",
       "<style scoped>\n",
       "    .dataframe tbody tr th:only-of-type {\n",
       "        vertical-align: middle;\n",
       "    }\n",
       "\n",
       "    .dataframe tbody tr th {\n",
       "        vertical-align: top;\n",
       "    }\n",
       "\n",
       "    .dataframe thead th {\n",
       "        text-align: right;\n",
       "    }\n",
       "</style>\n",
       "<table border=\"1\" class=\"dataframe\">\n",
       "  <thead>\n",
       "    <tr style=\"text-align: right;\">\n",
       "      <th></th>\n",
       "      <th></th>\n",
       "      <th>p_dict</th>\n",
       "      <th>x</th>\n",
       "    </tr>\n",
       "    <tr>\n",
       "      <th>start</th>\n",
       "      <th>end</th>\n",
       "      <th></th>\n",
       "      <th></th>\n",
       "    </tr>\n",
       "  </thead>\n",
       "  <tbody>\n",
       "    <tr>\n",
       "      <th>2017-01-02</th>\n",
       "      <th>2017-04-01</th>\n",
       "      <td>{'Choinski J.': 0, 'Broady L.': 1, 'Delbonis F...</td>\n",
       "      <td>[0.7239695125774777, 1.069924249476819, 1.0938...</td>\n",
       "    </tr>\n",
       "    <tr>\n",
       "      <th>2002-05-27</th>\n",
       "      <th>2002-05-27</th>\n",
       "      <td>{'Pretzsch A.': 0, 'Larsson M.': 1, 'Pavel A.'...</td>\n",
       "      <td>[0.800685292740611, 0.964876756885678, 1.52120...</td>\n",
       "    </tr>\n",
       "    <tr>\n",
       "      <th>2012-05-22</th>\n",
       "      <th>2012-05-26</th>\n",
       "      <td>{'Del Bonis F.': 0, 'Blake J.': 1, 'Delbonis F...</td>\n",
       "      <td>[1.6033600263722116, 0.9296558179990959, 1.334...</td>\n",
       "    </tr>\n",
       "    <tr>\n",
       "      <th>2000-07-10</th>\n",
       "      <th>2000-07-10</th>\n",
       "      <td>{'Pretzsch A.': 0, 'Larsson M.': 1, 'Pavel A.'...</td>\n",
       "      <td>[1.0469830051536664, 1.7652306826038533, 1.447...</td>\n",
       "    </tr>\n",
       "    <tr>\n",
       "      <th>2013-09-16</th>\n",
       "      <th>2013-09-22</th>\n",
       "      <td>{'Del Bonis F.': 0, 'Broady L.': 1, 'Blake J.'...</td>\n",
       "      <td>[1.3234143857328917, 0.7012684908314621, 1.191...</td>\n",
       "    </tr>\n",
       "  </tbody>\n",
       "</table>\n",
       "</div>"
      ],
      "text/plain": [
       "                                                                  p_dict  \\\n",
       "start      end                                                             \n",
       "2017-01-02 2017-04-01  {'Choinski J.': 0, 'Broady L.': 1, 'Delbonis F...   \n",
       "2002-05-27 2002-05-27  {'Pretzsch A.': 0, 'Larsson M.': 1, 'Pavel A.'...   \n",
       "2012-05-22 2012-05-26  {'Del Bonis F.': 0, 'Blake J.': 1, 'Delbonis F...   \n",
       "2000-07-10 2000-07-10  {'Pretzsch A.': 0, 'Larsson M.': 1, 'Pavel A.'...   \n",
       "2013-09-16 2013-09-22  {'Del Bonis F.': 0, 'Broady L.': 1, 'Blake J.'...   \n",
       "\n",
       "                                                                       x  \n",
       "start      end                                                            \n",
       "2017-01-02 2017-04-01  [0.7239695125774777, 1.069924249476819, 1.0938...  \n",
       "2002-05-27 2002-05-27  [0.800685292740611, 0.964876756885678, 1.52120...  \n",
       "2012-05-22 2012-05-26  [1.6033600263722116, 0.9296558179990959, 1.334...  \n",
       "2000-07-10 2000-07-10  [1.0469830051536664, 1.7652306826038533, 1.447...  \n",
       "2013-09-16 2013-09-22  [1.3234143857328917, 0.7012684908314621, 1.191...  "
      ]
     },
     "execution_count": 10,
     "metadata": {},
     "output_type": "execute_result"
    }
   ],
   "source": [
    "alpha_df = pd.read_pickle(r\"K:\\Code\\Tennis_Betting\\2. Model exploration\\alphas\\mens_alphas.pickle\")\n",
    "alpha_df.dropna(inplace=True)\n",
    "alpha_df.head()"
   ]
  },
  {
   "cell_type": "code",
   "execution_count": 11,
   "metadata": {},
   "outputs": [],
   "source": [
    "dates_list = []\n",
    "for i,df in mens_df.groupby([mens_df.Date.dt.year,'ATP']):\n",
    "    dates_list.append((min(df['Date']),max(df['Date'])))\n",
    "dates_list=list(set(dates_list))"
   ]
  },
  {
   "cell_type": "code",
   "execution_count": 12,
   "metadata": {},
   "outputs": [],
   "source": [
    "for i,x in alpha_df.iterrows():\n",
    "    start=i[0];end=i[1];p_dict=x.p_dict; alpha = x.x; alpha[-1]=1.1 # avg alpha value\n",
    "    df_slice = mens_df.loc[(mens_df['Date']<=end) & (mens_df['Date']>=start),:]\n",
    "    mens_df.loc[(mens_df['Date']<=end) & (mens_df['Date']>=start),'w_alpha'] = alpha[df_slice['Winner'].map(p_dict).fillna(-1).astype('int')]\n",
    "    mens_df.loc[(mens_df['Date']<=end) & (mens_df['Date']>=start),'l_alpha'] = alpha[df_slice['Loser'].map(p_dict).fillna(-1).astype('int')]"
   ]
  },
  {
   "cell_type": "code",
   "execution_count": 13,
   "metadata": {},
   "outputs": [],
   "source": [
    "mens_df = mens_df[mens_df['w_alpha'].notna() & mens_df['l_alpha'].notna()]"
   ]
  },
  {
   "cell_type": "code",
   "execution_count": 14,
   "metadata": {},
   "outputs": [],
   "source": [
    "mens_df['ranking_p'] = -2*(mens_df[['WRank','LRank']].max(axis=1) / (mens_df['WRank'] + mens_df['LRank'])-0.5)\n",
    "mens_df['alpha_p'] = mens_df[['w_alpha','l_alpha']].max(axis=1) / (mens_df['w_alpha'] + mens_df['l_alpha'])"
   ]
  },
  {
   "cell_type": "markdown",
   "metadata": {},
   "source": [
    "## 2 - Pre-Processing <a class=\"anchor\" id=2></a>"
   ]
  },
  {
   "cell_type": "markdown",
   "metadata": {},
   "source": [
    "First remove data that we think isn't important\n",
    "> It's really important we remove the results for the match <br>\n",
    "> For the moment remove betting odds, could convert to impled prob and use later"
   ]
  },
  {
   "cell_type": "code",
   "execution_count": 15,
   "metadata": {},
   "outputs": [],
   "source": [
    "cols_to_drop = ['ATP','Series','Location', 'Date','Best of','W1', 'L1','W2', 'L2', 'W3', 'L3', 'W4', 'L4', 'W5', 'L5', 'Wsets', 'Lsets','Comment', 'CBW', 'CBL', 'GBW', 'GBL', 'IWW', 'IWL', 'SBW', 'SBL','B365W', 'B365L', 'B&WW', 'B&WL', 'EXW', 'EXL', 'PSW', 'PSL', 'WPts','LPts', 'UBW', 'UBL', 'LBW', 'LBL', 'SJW', 'SJL', 'MaxW', 'MaxL','AvgW', 'AvgL']\n",
    "\n",
    "filtered_mens_df = mens_df.drop(cols_to_drop,axis=1)"
   ]
  },
  {
   "cell_type": "code",
   "execution_count": 16,
   "metadata": {},
   "outputs": [],
   "source": [
    "## Replace tournament names which appear infrequently with other\n",
    "tournament_names_and_counts = filtered_mens_df['Tournament'].value_counts(normalize=True)\n",
    "infrequent_tournaments = list(tournament_names_and_counts[tournament_names_and_counts<0.01].index)\n",
    "\n",
    "filtered_mens_df.loc[filtered_mens_df['Tournament'].isin(infrequent_tournaments),'Tournament'] = 'Other'"
   ]
  },
  {
   "cell_type": "code",
   "execution_count": 17,
   "metadata": {},
   "outputs": [
    {
     "data": {
      "text/plain": [
       "array(['Hard', 'Clay', 'Grass'], dtype=object)"
      ]
     },
     "execution_count": 17,
     "metadata": {},
     "output_type": "execute_result"
    }
   ],
   "source": [
    "## Bundle surfaces into three categores\n",
    "surface_dict = {'Clay':'Clay','Grass':'Grass','Hard':'Hard','Carpet':'Hard','Greenset':'Hard'}\n",
    "mens_df.replace({\"Surface\": surface_dict},inplace=True)\n",
    "mens_df.Surface.unique()"
   ]
  },
  {
   "cell_type": "markdown",
   "metadata": {},
   "source": [
    "Now we need to swap the winner & loser about a bit so that the ML model doesn't always just pick the player in col 5"
   ]
  },
  {
   "cell_type": "code",
   "execution_count": 18,
   "metadata": {},
   "outputs": [],
   "source": [
    "winner_cols = [c for c in filtered_mens_df.columns if c[0].lower() == 'w']\n",
    "loser_cols = [c for c in filtered_mens_df.columns if c[0].lower() == 'l']\n",
    "other_cols = [c for c in filtered_mens_df.columns if not (c in winner_cols or c in loser_cols)]"
   ]
  },
  {
   "cell_type": "code",
   "execution_count": 19,
   "metadata": {},
   "outputs": [],
   "source": [
    "def random_transpose_of_data(x):\n",
    "    if np.random.choice([True,False]):\n",
    "        temp = x[winner_cols]\n",
    "        x[winner_cols] = x[loser_cols]\n",
    "        x[loser_cols] = temp\n",
    "        x['y'] = 0\n",
    "    else:\n",
    "        x['y'] = 1\n",
    "    return x"
   ]
  },
  {
   "cell_type": "code",
   "execution_count": 20,
   "metadata": {},
   "outputs": [],
   "source": [
    "col_rename_dict = {'Winner':'A','Loser':'B','WRank':'A_rank','LRank':'B_rank'}\n",
    "for col in winner_cols:\n",
    "    if col not in  ['Winner','WRank']:\n",
    "        col_rename_dict[col]=\"A\"+col[1:]\n",
    "for col in loser_cols:\n",
    "    if col not in  ['Loser','LRank']:\n",
    "        col_rename_dict[col]=\"B\"+col[1:]"
   ]
  },
  {
   "cell_type": "code",
   "execution_count": 21,
   "metadata": {},
   "outputs": [],
   "source": [
    "formatted_mens_df = filtered_mens_df.apply(random_transpose_of_data,axis=1).rename(columns=col_rename_dict)"
   ]
  },
  {
   "cell_type": "markdown",
   "metadata": {},
   "source": [
    "## 3 - Getting Ready For ML <a class=\"anchor\" id=3></a>"
   ]
  },
  {
   "cell_type": "markdown",
   "metadata": {},
   "source": [
    "Adding a few more quick features"
   ]
  },
  {
   "cell_type": "markdown",
   "metadata": {},
   "source": [
    "We now have the mens_df in the following format"
   ]
  },
  {
   "cell_type": "code",
   "execution_count": 22,
   "metadata": {},
   "outputs": [
    {
     "data": {
      "text/html": [
       "<div>\n",
       "<style scoped>\n",
       "    .dataframe tbody tr th:only-of-type {\n",
       "        vertical-align: middle;\n",
       "    }\n",
       "\n",
       "    .dataframe tbody tr th {\n",
       "        vertical-align: top;\n",
       "    }\n",
       "\n",
       "    .dataframe thead th {\n",
       "        text-align: right;\n",
       "    }\n",
       "</style>\n",
       "<table border=\"1\" class=\"dataframe\">\n",
       "  <thead>\n",
       "    <tr style=\"text-align: right;\">\n",
       "      <th></th>\n",
       "      <th>Tournament</th>\n",
       "      <th>Court</th>\n",
       "      <th>Surface</th>\n",
       "      <th>Round</th>\n",
       "      <th>A</th>\n",
       "      <th>B</th>\n",
       "      <th>A_rank</th>\n",
       "      <th>B_rank</th>\n",
       "      <th>A_hist_form</th>\n",
       "      <th>A_form</th>\n",
       "      <th>...</th>\n",
       "      <th>B_form</th>\n",
       "      <th>B_court_form</th>\n",
       "      <th>B_surface_form</th>\n",
       "      <th>A_alpha</th>\n",
       "      <th>B_alpha</th>\n",
       "      <th>ranking_p</th>\n",
       "      <th>alpha_p</th>\n",
       "      <th>y</th>\n",
       "      <th>d_alpha</th>\n",
       "      <th>d_rank</th>\n",
       "    </tr>\n",
       "  </thead>\n",
       "  <tbody>\n",
       "    <tr>\n",
       "      <th>155</th>\n",
       "      <td>Australian Open</td>\n",
       "      <td>Outdoor</td>\n",
       "      <td>Hard</td>\n",
       "      <td>1st Round</td>\n",
       "      <td>Puerta M.</td>\n",
       "      <td>Agassi A.</td>\n",
       "      <td>112.0</td>\n",
       "      <td>1.0</td>\n",
       "      <td>0.500000</td>\n",
       "      <td>-1.000000</td>\n",
       "      <td>...</td>\n",
       "      <td>0.500000</td>\n",
       "      <td>0.0</td>\n",
       "      <td>0.0</td>\n",
       "      <td>2.011340</td>\n",
       "      <td>1.100000</td>\n",
       "      <td>-0.982301</td>\n",
       "      <td>0.646455</td>\n",
       "      <td>0</td>\n",
       "      <td>0.911340</td>\n",
       "      <td>111.0</td>\n",
       "    </tr>\n",
       "    <tr>\n",
       "      <th>156</th>\n",
       "      <td>Australian Open</td>\n",
       "      <td>Outdoor</td>\n",
       "      <td>Hard</td>\n",
       "      <td>1st Round</td>\n",
       "      <td>Manta L.</td>\n",
       "      <td>Alami K.</td>\n",
       "      <td>107.0</td>\n",
       "      <td>35.0</td>\n",
       "      <td>0.500000</td>\n",
       "      <td>0.333333</td>\n",
       "      <td>...</td>\n",
       "      <td>0.500000</td>\n",
       "      <td>0.0</td>\n",
       "      <td>0.0</td>\n",
       "      <td>1.504490</td>\n",
       "      <td>1.100000</td>\n",
       "      <td>-0.507042</td>\n",
       "      <td>0.577652</td>\n",
       "      <td>0</td>\n",
       "      <td>0.404490</td>\n",
       "      <td>72.0</td>\n",
       "    </tr>\n",
       "    <tr>\n",
       "      <th>157</th>\n",
       "      <td>Australian Open</td>\n",
       "      <td>Outdoor</td>\n",
       "      <td>Hard</td>\n",
       "      <td>1st Round</td>\n",
       "      <td>Alonso J.</td>\n",
       "      <td>Arazi H.</td>\n",
       "      <td>111.0</td>\n",
       "      <td>41.0</td>\n",
       "      <td>0.500000</td>\n",
       "      <td>0.500000</td>\n",
       "      <td>...</td>\n",
       "      <td>-0.333333</td>\n",
       "      <td>1.0</td>\n",
       "      <td>1.0</td>\n",
       "      <td>1.100000</td>\n",
       "      <td>1.133794</td>\n",
       "      <td>-0.460526</td>\n",
       "      <td>0.507564</td>\n",
       "      <td>0</td>\n",
       "      <td>-0.033794</td>\n",
       "      <td>70.0</td>\n",
       "    </tr>\n",
       "    <tr>\n",
       "      <th>158</th>\n",
       "      <td>Australian Open</td>\n",
       "      <td>Outdoor</td>\n",
       "      <td>Hard</td>\n",
       "      <td>1st Round</td>\n",
       "      <td>Meligeni F.</td>\n",
       "      <td>Behrend T.</td>\n",
       "      <td>28.0</td>\n",
       "      <td>106.0</td>\n",
       "      <td>0.500000</td>\n",
       "      <td>-1.000000</td>\n",
       "      <td>...</td>\n",
       "      <td>0.000000</td>\n",
       "      <td>1.0</td>\n",
       "      <td>1.0</td>\n",
       "      <td>2.179620</td>\n",
       "      <td>0.919816</td>\n",
       "      <td>-0.582090</td>\n",
       "      <td>0.703231</td>\n",
       "      <td>0</td>\n",
       "      <td>1.259804</td>\n",
       "      <td>-78.0</td>\n",
       "    </tr>\n",
       "    <tr>\n",
       "      <th>159</th>\n",
       "      <td>Australian Open</td>\n",
       "      <td>Outdoor</td>\n",
       "      <td>Hard</td>\n",
       "      <td>1st Round</td>\n",
       "      <td>Bjorkman J.</td>\n",
       "      <td>Stoltenberg J.</td>\n",
       "      <td>76.0</td>\n",
       "      <td>81.0</td>\n",
       "      <td>0.500000</td>\n",
       "      <td>-1.000000</td>\n",
       "      <td>...</td>\n",
       "      <td>0.500000</td>\n",
       "      <td>1.0</td>\n",
       "      <td>1.0</td>\n",
       "      <td>1.142161</td>\n",
       "      <td>1.738549</td>\n",
       "      <td>-0.031847</td>\n",
       "      <td>0.603514</td>\n",
       "      <td>1</td>\n",
       "      <td>-0.596389</td>\n",
       "      <td>-5.0</td>\n",
       "    </tr>\n",
       "    <tr>\n",
       "      <th>...</th>\n",
       "      <td>...</td>\n",
       "      <td>...</td>\n",
       "      <td>...</td>\n",
       "      <td>...</td>\n",
       "      <td>...</td>\n",
       "      <td>...</td>\n",
       "      <td>...</td>\n",
       "      <td>...</td>\n",
       "      <td>...</td>\n",
       "      <td>...</td>\n",
       "      <td>...</td>\n",
       "      <td>...</td>\n",
       "      <td>...</td>\n",
       "      <td>...</td>\n",
       "      <td>...</td>\n",
       "      <td>...</td>\n",
       "      <td>...</td>\n",
       "      <td>...</td>\n",
       "      <td>...</td>\n",
       "      <td>...</td>\n",
       "      <td>...</td>\n",
       "    </tr>\n",
       "    <tr>\n",
       "      <th>53169</th>\n",
       "      <td>French Open</td>\n",
       "      <td>Outdoor</td>\n",
       "      <td>Clay</td>\n",
       "      <td>Quarterfinals</td>\n",
       "      <td>Tsitsipas S.</td>\n",
       "      <td>Rublev A.</td>\n",
       "      <td>6.0</td>\n",
       "      <td>12.0</td>\n",
       "      <td>0.000000</td>\n",
       "      <td>0.466667</td>\n",
       "      <td>...</td>\n",
       "      <td>0.733333</td>\n",
       "      <td>1.0</td>\n",
       "      <td>0.0</td>\n",
       "      <td>1.475698</td>\n",
       "      <td>1.561433</td>\n",
       "      <td>-0.333333</td>\n",
       "      <td>0.514114</td>\n",
       "      <td>1</td>\n",
       "      <td>-0.085735</td>\n",
       "      <td>-6.0</td>\n",
       "    </tr>\n",
       "    <tr>\n",
       "      <th>53170</th>\n",
       "      <td>French Open</td>\n",
       "      <td>Outdoor</td>\n",
       "      <td>Clay</td>\n",
       "      <td>Quarterfinals</td>\n",
       "      <td>Djokovic N.</td>\n",
       "      <td>Carreno Busta P.</td>\n",
       "      <td>1.0</td>\n",
       "      <td>18.0</td>\n",
       "      <td>0.666667</td>\n",
       "      <td>0.866667</td>\n",
       "      <td>...</td>\n",
       "      <td>0.333333</td>\n",
       "      <td>1.0</td>\n",
       "      <td>0.0</td>\n",
       "      <td>1.651171</td>\n",
       "      <td>0.983119</td>\n",
       "      <td>-0.894737</td>\n",
       "      <td>0.626799</td>\n",
       "      <td>1</td>\n",
       "      <td>0.668051</td>\n",
       "      <td>-17.0</td>\n",
       "    </tr>\n",
       "    <tr>\n",
       "      <th>53171</th>\n",
       "      <td>French Open</td>\n",
       "      <td>Outdoor</td>\n",
       "      <td>Clay</td>\n",
       "      <td>Semifinals</td>\n",
       "      <td>Schwartzman D.</td>\n",
       "      <td>Nadal R.</td>\n",
       "      <td>14.0</td>\n",
       "      <td>2.0</td>\n",
       "      <td>0.111111</td>\n",
       "      <td>0.466667</td>\n",
       "      <td>...</td>\n",
       "      <td>0.733333</td>\n",
       "      <td>1.0</td>\n",
       "      <td>0.0</td>\n",
       "      <td>1.446942</td>\n",
       "      <td>2.011917</td>\n",
       "      <td>-0.750000</td>\n",
       "      <td>0.581671</td>\n",
       "      <td>0</td>\n",
       "      <td>-0.564975</td>\n",
       "      <td>12.0</td>\n",
       "    </tr>\n",
       "    <tr>\n",
       "      <th>53172</th>\n",
       "      <td>French Open</td>\n",
       "      <td>Outdoor</td>\n",
       "      <td>Clay</td>\n",
       "      <td>Semifinals</td>\n",
       "      <td>Djokovic N.</td>\n",
       "      <td>Tsitsipas S.</td>\n",
       "      <td>1.0</td>\n",
       "      <td>6.0</td>\n",
       "      <td>0.600000</td>\n",
       "      <td>0.866667</td>\n",
       "      <td>...</td>\n",
       "      <td>0.466667</td>\n",
       "      <td>1.0</td>\n",
       "      <td>0.0</td>\n",
       "      <td>1.651171</td>\n",
       "      <td>1.475698</td>\n",
       "      <td>-0.714286</td>\n",
       "      <td>0.528059</td>\n",
       "      <td>1</td>\n",
       "      <td>0.175473</td>\n",
       "      <td>-5.0</td>\n",
       "    </tr>\n",
       "    <tr>\n",
       "      <th>53173</th>\n",
       "      <td>French Open</td>\n",
       "      <td>Outdoor</td>\n",
       "      <td>Clay</td>\n",
       "      <td>The Final</td>\n",
       "      <td>Nadal R.</td>\n",
       "      <td>Djokovic N.</td>\n",
       "      <td>2.0</td>\n",
       "      <td>1.0</td>\n",
       "      <td>0.446809</td>\n",
       "      <td>0.733333</td>\n",
       "      <td>...</td>\n",
       "      <td>0.866667</td>\n",
       "      <td>1.0</td>\n",
       "      <td>1.0</td>\n",
       "      <td>2.011917</td>\n",
       "      <td>1.651171</td>\n",
       "      <td>-0.333333</td>\n",
       "      <td>0.549241</td>\n",
       "      <td>1</td>\n",
       "      <td>0.360747</td>\n",
       "      <td>1.0</td>\n",
       "    </tr>\n",
       "  </tbody>\n",
       "</table>\n",
       "<p>15774 rows × 22 columns</p>\n",
       "</div>"
      ],
      "text/plain": [
       "            Tournament    Court Surface          Round               A  \\\n",
       "155    Australian Open  Outdoor    Hard      1st Round       Puerta M.   \n",
       "156    Australian Open  Outdoor    Hard      1st Round        Manta L.   \n",
       "157    Australian Open  Outdoor    Hard      1st Round       Alonso J.   \n",
       "158    Australian Open  Outdoor    Hard      1st Round     Meligeni F.   \n",
       "159    Australian Open  Outdoor    Hard      1st Round     Bjorkman J.   \n",
       "...                ...      ...     ...            ...             ...   \n",
       "53169      French Open  Outdoor    Clay  Quarterfinals    Tsitsipas S.   \n",
       "53170      French Open  Outdoor    Clay  Quarterfinals     Djokovic N.   \n",
       "53171      French Open  Outdoor    Clay     Semifinals  Schwartzman D.   \n",
       "53172      French Open  Outdoor    Clay     Semifinals     Djokovic N.   \n",
       "53173      French Open  Outdoor    Clay      The Final        Nadal R.   \n",
       "\n",
       "                      B  A_rank  B_rank  A_hist_form    A_form  ...    B_form  \\\n",
       "155           Agassi A.   112.0     1.0     0.500000 -1.000000  ...  0.500000   \n",
       "156            Alami K.   107.0    35.0     0.500000  0.333333  ...  0.500000   \n",
       "157            Arazi H.   111.0    41.0     0.500000  0.500000  ... -0.333333   \n",
       "158          Behrend T.    28.0   106.0     0.500000 -1.000000  ...  0.000000   \n",
       "159      Stoltenberg J.    76.0    81.0     0.500000 -1.000000  ...  0.500000   \n",
       "...                 ...     ...     ...          ...       ...  ...       ...   \n",
       "53169         Rublev A.     6.0    12.0     0.000000  0.466667  ...  0.733333   \n",
       "53170  Carreno Busta P.     1.0    18.0     0.666667  0.866667  ...  0.333333   \n",
       "53171          Nadal R.    14.0     2.0     0.111111  0.466667  ...  0.733333   \n",
       "53172      Tsitsipas S.     1.0     6.0     0.600000  0.866667  ...  0.466667   \n",
       "53173       Djokovic N.     2.0     1.0     0.446809  0.733333  ...  0.866667   \n",
       "\n",
       "       B_court_form  B_surface_form   A_alpha   B_alpha  ranking_p   alpha_p  \\\n",
       "155             0.0             0.0  2.011340  1.100000  -0.982301  0.646455   \n",
       "156             0.0             0.0  1.504490  1.100000  -0.507042  0.577652   \n",
       "157             1.0             1.0  1.100000  1.133794  -0.460526  0.507564   \n",
       "158             1.0             1.0  2.179620  0.919816  -0.582090  0.703231   \n",
       "159             1.0             1.0  1.142161  1.738549  -0.031847  0.603514   \n",
       "...             ...             ...       ...       ...        ...       ...   \n",
       "53169           1.0             0.0  1.475698  1.561433  -0.333333  0.514114   \n",
       "53170           1.0             0.0  1.651171  0.983119  -0.894737  0.626799   \n",
       "53171           1.0             0.0  1.446942  2.011917  -0.750000  0.581671   \n",
       "53172           1.0             0.0  1.651171  1.475698  -0.714286  0.528059   \n",
       "53173           1.0             1.0  2.011917  1.651171  -0.333333  0.549241   \n",
       "\n",
       "       y   d_alpha  d_rank  \n",
       "155    0  0.911340   111.0  \n",
       "156    0  0.404490    72.0  \n",
       "157    0 -0.033794    70.0  \n",
       "158    0  1.259804   -78.0  \n",
       "159    1 -0.596389    -5.0  \n",
       "...   ..       ...     ...  \n",
       "53169  1 -0.085735    -6.0  \n",
       "53170  1  0.668051   -17.0  \n",
       "53171  0 -0.564975    12.0  \n",
       "53172  1  0.175473    -5.0  \n",
       "53173  1  0.360747     1.0  \n",
       "\n",
       "[15774 rows x 22 columns]"
      ]
     },
     "execution_count": 22,
     "metadata": {},
     "output_type": "execute_result"
    }
   ],
   "source": [
    "# quickly add more features, easier to do this after relabelling A/B\n",
    "formatted_mens_df['d_alpha'] = formatted_mens_df['A_alpha']-formatted_mens_df['B_alpha']\n",
    "formatted_mens_df['d_rank'] = formatted_mens_df['A_rank']-formatted_mens_df['B_rank']\n",
    "formatted_mens_df.drop(['B_hist_form'],axis=1,inplace=True) # Drop B_hist_form as it's 1-A_hist_form\n",
    "formatted_mens_df"
   ]
  },
  {
   "cell_type": "code",
   "execution_count": 23,
   "metadata": {},
   "outputs": [],
   "source": [
    "categorical_cols = ['Tournament', 'Court', 'Surface', 'Round', 'A', 'B']"
   ]
  },
  {
   "cell_type": "code",
   "execution_count": 24,
   "metadata": {},
   "outputs": [],
   "source": [
    "dummy_mens_df = pd.get_dummies(formatted_mens_df,columns=categorical_cols)"
   ]
  },
  {
   "cell_type": "code",
   "execution_count": 25,
   "metadata": {},
   "outputs": [],
   "source": [
    "corr = dummy_mens_df.iloc[:, dummy_mens_df.columns != 'y'].corrwith(dummy_mens_df['y'],axis=0).sort_values(ascending=False)"
   ]
  },
  {
   "cell_type": "code",
   "execution_count": 26,
   "metadata": {},
   "outputs": [
    {
     "data": {
      "text/plain": [
       "d_rank           -0.250506\n",
       "B_alpha          -0.216070\n",
       "B_form           -0.175283\n",
       "A_rank           -0.169436\n",
       "B_court_form     -0.015966\n",
       "B_surface_form   -0.007665\n",
       "ranking_p        -0.004666\n",
       "A_surface_form    0.000628\n",
       "alpha_p           0.002153\n",
       "A_court_form      0.008652\n",
       "A_hist_form       0.151949\n",
       "B_rank            0.174229\n",
       "A_form            0.183041\n",
       "A_alpha           0.215040\n",
       "d_alpha           0.328939\n",
       "dtype: float64"
      ]
     },
     "execution_count": 26,
     "metadata": {},
     "output_type": "execute_result"
    }
   ],
   "source": [
    "categorical_cols += ['y','B_hist_form']\n",
    "corr_cols = [x for x in formatted_mens_df.columns if x not in categorical_cols]\n",
    "corr.loc[corr_cols].sort_values()"
   ]
  },
  {
   "cell_type": "code",
   "execution_count": 27,
   "metadata": {},
   "outputs": [],
   "source": [
    "X = dummy_mens_df.iloc[:, dummy_mens_df.columns != 'y']\n",
    "y = dummy_mens_df['y']"
   ]
  },
  {
   "cell_type": "code",
   "execution_count": 28,
   "metadata": {},
   "outputs": [],
   "source": [
    "X_train, X_test, y_train, y_test = train_test_split(X, y, test_size=0.25, random_state=42)"
   ]
  },
  {
   "cell_type": "code",
   "execution_count": 29,
   "metadata": {},
   "outputs": [],
   "source": [
    "import pickle\n",
    "\n",
    "# Saving the objects:\n",
    "with open('train_test_split.pkl', 'wb') as f:\n",
    "    pickle.dump([X_train, X_test, y_train, y_test], f)"
   ]
  }
 ],
 "metadata": {
  "kernelspec": {
   "display_name": "Python 3",
   "language": "python",
   "name": "python3"
  },
  "language_info": {
   "codemirror_mode": {
    "name": "ipython",
    "version": 3
   },
   "file_extension": ".py",
   "mimetype": "text/x-python",
   "name": "python",
   "nbconvert_exporter": "python",
   "pygments_lexer": "ipython3",
   "version": "3.7.6"
  }
 },
 "nbformat": 4,
 "nbformat_minor": 4
}

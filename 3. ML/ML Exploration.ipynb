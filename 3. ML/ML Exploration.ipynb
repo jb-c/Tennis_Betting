{
 "cells": [
  {
   "cell_type": "markdown",
   "metadata": {},
   "source": [
    "# Machine Learning On Tennis Data\n",
    "## Contents\n",
    ">* [Setup](#0)\n",
    ">* [Adding Features](#1)\n",
    ">* [Pre-Processing](#2)\n",
    ">* [Feature Selection](#3)\n",
    ">* [Exporting Data](#4)"
   ]
  },
  {
   "cell_type": "markdown",
   "metadata": {},
   "source": [
    "## 0 - Setup <a class=\"anchor\" id=\"0\"></a>"
   ]
  },
  {
   "cell_type": "code",
   "execution_count": 1,
   "metadata": {},
   "outputs": [],
   "source": [
    "import pandas as pd\n",
    "import numpy as np\n",
    "from collections import defaultdict\n",
    "from sklearn.model_selection import train_test_split"
   ]
  },
  {
   "cell_type": "code",
   "execution_count": 2,
   "metadata": {},
   "outputs": [
    {
     "name": "stderr",
     "output_type": "stream",
     "text": [
      "K:\\Programs\\Anaconda\\lib\\site-packages\\IPython\\core\\interactiveshell.py:3063: DtypeWarning: Columns (11,12,15,16,17,18,38) have mixed types.Specify dtype option on import or set low_memory=False.\n",
      "  interactivity=interactivity, compiler=compiler, result=result)\n",
      "K:\\Programs\\Anaconda\\lib\\site-packages\\IPython\\core\\interactiveshell.py:3063: DtypeWarning: Columns (25,28,34) have mixed types.Specify dtype option on import or set low_memory=False.\n",
      "  interactivity=interactivity, compiler=compiler, result=result)\n"
     ]
    }
   ],
   "source": [
    "mens_df = pd.read_csv('../data/mens.csv',header=0,parse_dates=[\"Date\"])\n",
    "womens_df = pd.read_csv('../data/womens.csv',header=0,parse_dates=[\"Date\"])\n",
    "\n",
    "# Remove walkovers\n",
    "mens_df = mens_df[mens_df['Comment']!='Walkover']\n",
    "womens_df = womens_df[womens_df['Comment']!='Walkover']"
   ]
  },
  {
   "cell_type": "code",
   "execution_count": 3,
   "metadata": {},
   "outputs": [],
   "source": [
    "cols = ['WRank', 'LRank']\n",
    "mens_df[cols] = mens_df[cols].apply(pd.to_numeric, errors='coerce', axis=1)"
   ]
  },
  {
   "cell_type": "code",
   "execution_count": 4,
   "metadata": {},
   "outputs": [
    {
     "data": {
      "text/plain": [
       "(53203, 54)"
      ]
     },
     "execution_count": 4,
     "metadata": {},
     "output_type": "execute_result"
    }
   ],
   "source": [
    "mens_df.shape"
   ]
  },
  {
   "cell_type": "code",
   "execution_count": 5,
   "metadata": {},
   "outputs": [],
   "source": [
    "mens_df = mens_df[~mens_df['WRank'].isnull() & ~mens_df['LRank'].isnull()]"
   ]
  },
  {
   "cell_type": "code",
   "execution_count": 6,
   "metadata": {},
   "outputs": [
    {
     "data": {
      "text/plain": [
       "(53069, 54)"
      ]
     },
     "execution_count": 6,
     "metadata": {},
     "output_type": "execute_result"
    }
   ],
   "source": [
    "mens_df.shape"
   ]
  },
  {
   "cell_type": "markdown",
   "metadata": {},
   "source": [
    "## 1 - Adding Features <a class=\"anchor\" id=\"1\"></a>"
   ]
  },
  {
   "cell_type": "markdown",
   "metadata": {},
   "source": [
    "When we train this model, the data will be shuffled so we'll lose any notion of time. We can add a few easily computable features to capture some of this information. For the moment we can add\n",
    "* Streak - length of current winning streak\n",
    "* Prefered suface - boolen true if current surface has most wins (players play ~ 80 games/year so maybe look at last 30 games)\n",
    "* Prefered court - same as prefered surface for court\n",
    "* Historical winner - If the players have played before, who won?"
   ]
  },
  {
   "cell_type": "markdown",
   "metadata": {},
   "source": [
    "### Data Structures to do this\n",
    "We'll need some additional data structures to do this\n",
    "* A dict for tracking player wins\n",
    "> player -> dict = {'player_name':boolean,...}\n",
    "* A dict for tracking player preferences over time\n",
    "Hardcourt/carpet weighting/Greenset, Clay and Grass\n",
    "> player -> dict = {'winning streak':int,'losing streak':int,'court wins':int[],'surface wins':string[],'surface losses':string[]}"
   ]
  },
  {
   "cell_type": "code",
   "execution_count": 7,
   "metadata": {},
   "outputs": [],
   "source": [
    "complete_player_list = set(list(mens_df['Winner'].values)+list(mens_df['Loser'].values)) # a list of all unique players"
   ]
  },
  {
   "cell_type": "code",
   "execution_count": 8,
   "metadata": {},
   "outputs": [],
   "source": [
    "p_observables = {}\n",
    "historical_wins = {}\n",
    "\n",
    "for p in complete_player_list:\n",
    "    p_observables[p] = {'form':[],'court_wins':[],'surface_wins':[],'surface_losses':[]}\n",
    "    historical_wins[p] = defaultdict(lambda: 0.5,{}) # If have no data assume players evenly matched (hence the 0.5 default)"
   ]
  },
  {
   "cell_type": "code",
   "execution_count": 9,
   "metadata": {},
   "outputs": [],
   "source": [
    "n_wins_in_feature_lists = 20 #number of previous wins/losses to consider\n",
    "n_games_for_form_calc = 15 #number of games to consider for recent form"
   ]
  },
  {
   "cell_type": "code",
   "execution_count": 10,
   "metadata": {},
   "outputs": [],
   "source": [
    "def match_to_new_features(x):\n",
    "    data_to_return = []\n",
    "    \n",
    "    for i,p in enumerate([x.Winner,x.Loser]):\n",
    "        ## Historical results\n",
    "        hist_form = np.mean(historical_wins[p][[x.Winner,x.Loser][i-1]])\n",
    "        \n",
    "        ## Recent form\n",
    "        form = np.mean(p_observables[p]['form']) if (len(p_observables[p]['form'])>0) else 0.5 # Assume 0.5 if have no data\n",
    "        if (len(p_observables[p]['form'])>=n_games_for_form_calc): p_observables[p]['form'].pop()\n",
    "        \n",
    "        ## Court form\n",
    "        desired_court = 'Outdoor' if sum(p_observables[p]['court_wins']) > 0 else 'Indoor' # The court type with most recent wins\n",
    "        prefered_court = 1 if (x.Court == desired_court) else 0\n",
    "        \n",
    "        ## Surface form\n",
    "        try:\n",
    "            desired_surface = max(set(p_observables[p]['surface_wins']), key=p_observables[p]['surface_wins'].count)\n",
    "        except:\n",
    "            desired_surface = 'None'\n",
    "        try:\n",
    "            undesired_surface = max(set(p_observables[p]['surface_losses']), key=p_observables[p]['surface_losses'].count)\n",
    "        except:\n",
    "            undesired_surface = 'None'\n",
    "            \n",
    "        preferred_surface = 1 if x.Surface == desired_surface else (-1 if x.Surface == undesired_surface else 0)\n",
    "        \n",
    "        ## Updating the historical info for use next time\n",
    "        if i == 0: # On 1st loop so p is the winner\n",
    "            historical_wins[p][x.Loser] = [1] if historical_wins[p][x.Loser] == 0.5 else historical_wins[p][x.Loser]+[1] # Add a 1 to the list, if the list exsists else make a new list\n",
    "            \n",
    "            p_observables[p]['form'].insert(0,1)\n",
    "            \n",
    "            if (len(p_observables[p]['surface_wins']) > n_wins_in_feature_lists): p_observables[p]['surface_wins'].pop() # remove last item from list\n",
    "            p_observables[p]['surface_wins'].insert(0,x.Surface)\n",
    "            \n",
    "            if (len(p_observables[p]['court_wins']) > n_wins_in_feature_lists): p_observables[p]['court_wins'].pop() # if too long remove last one\n",
    "            p_observables[p]['court_wins'].insert(0,1 if x.Court=='Outdoor' else -1)\n",
    "        else:\n",
    "            historical_wins[p][x.Winner] = [0] if historical_wins[p][x.Winner] == 0.5 else historical_wins[p][x.Winner]+[0] # Add a 0 entry if list already exsists, else make a new list\n",
    "            \n",
    "            p_observables[p]['form'].insert(0,-1)\n",
    "            \n",
    "            if (len(p_observables[p]['surface_losses']) > n_wins_in_feature_lists): p_observables[p]['surface_losses'].pop() # remove last item from list\n",
    "            p_observables[p]['surface_losses'].insert(0,x.Surface)\n",
    "\n",
    "        data_to_return += [hist_form,form,prefered_court,preferred_surface]\n",
    "        \n",
    "    return data_to_return"
   ]
  },
  {
   "cell_type": "code",
   "execution_count": 11,
   "metadata": {},
   "outputs": [
    {
     "name": "stdout",
     "output_type": "stream",
     "text": [
      "Wall time: 28.1 s\n"
     ]
    }
   ],
   "source": [
    "%%time\n",
    "mens_df[['w_hist_form','w_form','w_court_form','w_surface_form','l_hist_form','l_form','l_court_form','l_surface_form']] = mens_df.apply(match_to_new_features,axis=1, result_type=\"expand\")"
   ]
  },
  {
   "cell_type": "markdown",
   "metadata": {},
   "source": [
    "### Adding alpha data"
   ]
  },
  {
   "cell_type": "code",
   "execution_count": 12,
   "metadata": {},
   "outputs": [
    {
     "data": {
      "text/html": [
       "<div>\n",
       "<style scoped>\n",
       "    .dataframe tbody tr th:only-of-type {\n",
       "        vertical-align: middle;\n",
       "    }\n",
       "\n",
       "    .dataframe tbody tr th {\n",
       "        vertical-align: top;\n",
       "    }\n",
       "\n",
       "    .dataframe thead th {\n",
       "        text-align: right;\n",
       "    }\n",
       "</style>\n",
       "<table border=\"1\" class=\"dataframe\">\n",
       "  <thead>\n",
       "    <tr style=\"text-align: right;\">\n",
       "      <th></th>\n",
       "      <th></th>\n",
       "      <th>p_dict</th>\n",
       "      <th>x</th>\n",
       "    </tr>\n",
       "    <tr>\n",
       "      <th>start</th>\n",
       "      <th>end</th>\n",
       "      <th></th>\n",
       "      <th></th>\n",
       "    </tr>\n",
       "  </thead>\n",
       "  <tbody>\n",
       "    <tr>\n",
       "      <th>2017-01-02</th>\n",
       "      <th>2017-04-01</th>\n",
       "      <td>{'Choinski J.': 0, 'Broady L.': 1, 'Delbonis F...</td>\n",
       "      <td>[0.7239695125774777, 1.069924249476819, 1.0938...</td>\n",
       "    </tr>\n",
       "    <tr>\n",
       "      <th>2002-05-27</th>\n",
       "      <th>2002-05-27</th>\n",
       "      <td>{'Pretzsch A.': 0, 'Larsson M.': 1, 'Pavel A.'...</td>\n",
       "      <td>[0.800685292740611, 0.964876756885678, 1.52120...</td>\n",
       "    </tr>\n",
       "    <tr>\n",
       "      <th>2012-05-22</th>\n",
       "      <th>2012-05-26</th>\n",
       "      <td>{'Del Bonis F.': 0, 'Blake J.': 1, 'Delbonis F...</td>\n",
       "      <td>[1.6033600263722116, 0.9296558179990959, 1.334...</td>\n",
       "    </tr>\n",
       "    <tr>\n",
       "      <th>2000-07-10</th>\n",
       "      <th>2000-07-10</th>\n",
       "      <td>{'Pretzsch A.': 0, 'Larsson M.': 1, 'Pavel A.'...</td>\n",
       "      <td>[1.0469830051536664, 1.7652306826038533, 1.447...</td>\n",
       "    </tr>\n",
       "    <tr>\n",
       "      <th>2013-09-16</th>\n",
       "      <th>2013-09-22</th>\n",
       "      <td>{'Del Bonis F.': 0, 'Broady L.': 1, 'Blake J.'...</td>\n",
       "      <td>[1.3234143857328917, 0.7012684908314621, 1.191...</td>\n",
       "    </tr>\n",
       "  </tbody>\n",
       "</table>\n",
       "</div>"
      ],
      "text/plain": [
       "                                                                  p_dict  \\\n",
       "start      end                                                             \n",
       "2017-01-02 2017-04-01  {'Choinski J.': 0, 'Broady L.': 1, 'Delbonis F...   \n",
       "2002-05-27 2002-05-27  {'Pretzsch A.': 0, 'Larsson M.': 1, 'Pavel A.'...   \n",
       "2012-05-22 2012-05-26  {'Del Bonis F.': 0, 'Blake J.': 1, 'Delbonis F...   \n",
       "2000-07-10 2000-07-10  {'Pretzsch A.': 0, 'Larsson M.': 1, 'Pavel A.'...   \n",
       "2013-09-16 2013-09-22  {'Del Bonis F.': 0, 'Broady L.': 1, 'Blake J.'...   \n",
       "\n",
       "                                                                       x  \n",
       "start      end                                                            \n",
       "2017-01-02 2017-04-01  [0.7239695125774777, 1.069924249476819, 1.0938...  \n",
       "2002-05-27 2002-05-27  [0.800685292740611, 0.964876756885678, 1.52120...  \n",
       "2012-05-22 2012-05-26  [1.6033600263722116, 0.9296558179990959, 1.334...  \n",
       "2000-07-10 2000-07-10  [1.0469830051536664, 1.7652306826038533, 1.447...  \n",
       "2013-09-16 2013-09-22  [1.3234143857328917, 0.7012684908314621, 1.191...  "
      ]
     },
     "execution_count": 12,
     "metadata": {},
     "output_type": "execute_result"
    }
   ],
   "source": [
    "alpha_df = pd.read_pickle(r\"K:\\Code\\Tennis_Betting\\2. Model exploration\\alphas\\mens_alphas.pickle\")\n",
    "alpha_df.dropna(inplace=True)\n",
    "alpha_df.head()"
   ]
  },
  {
   "cell_type": "code",
   "execution_count": 13,
   "metadata": {},
   "outputs": [],
   "source": [
    "dates_list = []\n",
    "for i,df in mens_df.groupby([mens_df.Date.dt.year,'ATP']):\n",
    "    dates_list.append((min(df['Date']),max(df['Date'])))\n",
    "dates_list=list(set(dates_list))"
   ]
  },
  {
   "cell_type": "code",
   "execution_count": 14,
   "metadata": {},
   "outputs": [],
   "source": [
    "for i,x in alpha_df.iterrows():\n",
    "    start=i[0];end=i[1];p_dict=x.p_dict; alpha = x.x; alpha[-1]=1.1 # avg alpha value\n",
    "    df_slice = mens_df.loc[(mens_df['Date']<=end) & (mens_df['Date']>=start),:]\n",
    "    mens_df.loc[(mens_df['Date']<=end) & (mens_df['Date']>=start),'w_alpha'] = alpha[df_slice['Winner'].map(p_dict).fillna(-1).astype('int')]\n",
    "    mens_df.loc[(mens_df['Date']<=end) & (mens_df['Date']>=start),'l_alpha'] = alpha[df_slice['Loser'].map(p_dict).fillna(-1).astype('int')]"
   ]
  },
  {
   "cell_type": "code",
   "execution_count": 15,
   "metadata": {},
   "outputs": [],
   "source": [
    "mens_df = mens_df[mens_df['w_alpha'].notna() & mens_df['l_alpha'].notna()]"
   ]
  },
  {
   "cell_type": "code",
   "execution_count": 16,
   "metadata": {},
   "outputs": [],
   "source": [
    "mens_df['ranking_p'] = -2*(mens_df[['WRank','LRank']].max(axis=1) / (mens_df['WRank'] + mens_df['LRank'])-0.5)\n",
    "mens_df['alpha_p'] = mens_df[['w_alpha','l_alpha']].max(axis=1) / (mens_df['w_alpha'] + mens_df['l_alpha'])"
   ]
  },
  {
   "cell_type": "markdown",
   "metadata": {},
   "source": [
    "## 2 - Pre-Processing <a class=\"anchor\" id=2></a>"
   ]
  },
  {
   "cell_type": "markdown",
   "metadata": {},
   "source": [
    "First remove data that we think isn't important\n",
    "> It's really important we remove the results for the match <br>\n",
    "> For the moment remove betting odds, could convert to impled prob and use later"
   ]
  },
  {
   "cell_type": "code",
   "execution_count": 17,
   "metadata": {},
   "outputs": [],
   "source": [
    "cols_to_drop = ['ATP','Series','Location', 'Date','Best of','W1', 'L1','W2', 'L2', 'W3', 'L3', 'W4', 'L4', 'W5', 'L5', 'Wsets', 'Lsets','Comment', 'CBW', 'CBL', 'GBW', 'GBL', 'IWW', 'IWL', 'SBW', 'SBL','B365W', 'B365L', 'B&WW', 'B&WL', 'EXW', 'EXL', 'PSW', 'PSL', 'WPts','LPts', 'UBW', 'UBL', 'LBW', 'LBL', 'SJW', 'SJL', 'MaxW', 'MaxL','AvgW', 'AvgL']\n",
    "\n",
    "filtered_mens_df = mens_df.drop(cols_to_drop,axis=1)"
   ]
  },
  {
   "cell_type": "code",
   "execution_count": 18,
   "metadata": {},
   "outputs": [],
   "source": [
    "## Replace tournament names which appear infrequently with other\n",
    "tournament_names_and_counts = filtered_mens_df['Tournament'].value_counts(normalize=True)\n",
    "infrequent_tournaments = list(tournament_names_and_counts[tournament_names_and_counts<0.01].index)\n",
    "\n",
    "filtered_mens_df.loc[filtered_mens_df['Tournament'].isin(infrequent_tournaments),'Tournament'] = 'Other'"
   ]
  },
  {
   "cell_type": "code",
   "execution_count": 19,
   "metadata": {},
   "outputs": [
    {
     "data": {
      "text/plain": [
       "array(['Hard', 'Clay', 'Grass'], dtype=object)"
      ]
     },
     "execution_count": 19,
     "metadata": {},
     "output_type": "execute_result"
    }
   ],
   "source": [
    "## Bundle surfaces into three categores\n",
    "surface_dict = {'Clay':'Clay','Grass':'Grass','Hard':'Hard','Carpet':'Hard','Greenset':'Hard'}\n",
    "mens_df.replace({\"Surface\": surface_dict},inplace=True)\n",
    "mens_df.Surface.unique()"
   ]
  },
  {
   "cell_type": "markdown",
   "metadata": {},
   "source": [
    "Now we need to swap the winner & loser about a bit so that the ML model doesn't always just pick the player in col 5"
   ]
  },
  {
   "cell_type": "code",
   "execution_count": 20,
   "metadata": {},
   "outputs": [],
   "source": [
    "winner_cols = [c for c in filtered_mens_df.columns if c[0].lower() == 'w']\n",
    "loser_cols = [c for c in filtered_mens_df.columns if c[0].lower() == 'l']\n",
    "other_cols = [c for c in filtered_mens_df.columns if not (c in winner_cols or c in loser_cols)]"
   ]
  },
  {
   "cell_type": "code",
   "execution_count": 21,
   "metadata": {},
   "outputs": [],
   "source": [
    "def random_transpose_of_data(x):\n",
    "    if np.random.choice([True,False]):\n",
    "        temp = x[winner_cols]\n",
    "        x[winner_cols] = x[loser_cols]\n",
    "        x[loser_cols] = temp\n",
    "        x['y'] = 0\n",
    "    else:\n",
    "        x['y'] = 1\n",
    "    return x"
   ]
  },
  {
   "cell_type": "code",
   "execution_count": 22,
   "metadata": {},
   "outputs": [],
   "source": [
    "col_rename_dict = {'Winner':'A','Loser':'B','WRank':'A_rank','LRank':'B_rank'}\n",
    "for col in winner_cols:\n",
    "    if col not in  ['Winner','WRank']:\n",
    "        col_rename_dict[col]=\"A\"+col[1:]\n",
    "for col in loser_cols:\n",
    "    if col not in  ['Loser','LRank']:\n",
    "        col_rename_dict[col]=\"B\"+col[1:]"
   ]
  },
  {
   "cell_type": "code",
   "execution_count": 23,
   "metadata": {},
   "outputs": [],
   "source": [
    "formatted_mens_df = filtered_mens_df.apply(random_transpose_of_data,axis=1).rename(columns=col_rename_dict)"
   ]
  },
  {
   "cell_type": "markdown",
   "metadata": {},
   "source": [
    "## 3 - Feature Selection <a class=\"anchor\" id=3></a>"
   ]
  },
  {
   "cell_type": "markdown",
   "metadata": {},
   "source": [
    "Adding a few more quick features"
   ]
  },
  {
   "cell_type": "code",
   "execution_count": 24,
   "metadata": {},
   "outputs": [
    {
     "data": {
      "text/html": [
       "<div>\n",
       "<style scoped>\n",
       "    .dataframe tbody tr th:only-of-type {\n",
       "        vertical-align: middle;\n",
       "    }\n",
       "\n",
       "    .dataframe tbody tr th {\n",
       "        vertical-align: top;\n",
       "    }\n",
       "\n",
       "    .dataframe thead th {\n",
       "        text-align: right;\n",
       "    }\n",
       "</style>\n",
       "<table border=\"1\" class=\"dataframe\">\n",
       "  <thead>\n",
       "    <tr style=\"text-align: right;\">\n",
       "      <th></th>\n",
       "      <th>Tournament</th>\n",
       "      <th>Court</th>\n",
       "      <th>Surface</th>\n",
       "      <th>Round</th>\n",
       "      <th>A</th>\n",
       "      <th>B</th>\n",
       "      <th>A_rank</th>\n",
       "      <th>B_rank</th>\n",
       "      <th>A_hist_form</th>\n",
       "      <th>A_form</th>\n",
       "      <th>...</th>\n",
       "      <th>B_form</th>\n",
       "      <th>B_court_form</th>\n",
       "      <th>B_surface_form</th>\n",
       "      <th>A_alpha</th>\n",
       "      <th>B_alpha</th>\n",
       "      <th>ranking_p</th>\n",
       "      <th>alpha_p</th>\n",
       "      <th>y</th>\n",
       "      <th>d_alpha</th>\n",
       "      <th>d_rank</th>\n",
       "    </tr>\n",
       "  </thead>\n",
       "  <tbody>\n",
       "    <tr>\n",
       "      <th>93</th>\n",
       "      <td>Heineken Open</td>\n",
       "      <td>Outdoor</td>\n",
       "      <td>Hard</td>\n",
       "      <td>1st Round</td>\n",
       "      <td>Balcells J.</td>\n",
       "      <td>Squillari F.</td>\n",
       "      <td>211.0</td>\n",
       "      <td>49.0</td>\n",
       "      <td>0.5</td>\n",
       "      <td>-1.000000</td>\n",
       "      <td>...</td>\n",
       "      <td>0.000000</td>\n",
       "      <td>1.0</td>\n",
       "      <td>1.0</td>\n",
       "      <td>1.286733</td>\n",
       "      <td>0.993303</td>\n",
       "      <td>-0.623077</td>\n",
       "      <td>0.564348</td>\n",
       "      <td>1</td>\n",
       "      <td>0.293430</td>\n",
       "      <td>162.0</td>\n",
       "    </tr>\n",
       "    <tr>\n",
       "      <th>94</th>\n",
       "      <td>Heineken Open</td>\n",
       "      <td>Outdoor</td>\n",
       "      <td>Hard</td>\n",
       "      <td>1st Round</td>\n",
       "      <td>Behrend T.</td>\n",
       "      <td>Hantschk M.</td>\n",
       "      <td>115.0</td>\n",
       "      <td>95.0</td>\n",
       "      <td>0.0</td>\n",
       "      <td>0.000000</td>\n",
       "      <td>...</td>\n",
       "      <td>0.600000</td>\n",
       "      <td>1.0</td>\n",
       "      <td>1.0</td>\n",
       "      <td>0.502757</td>\n",
       "      <td>1.192691</td>\n",
       "      <td>-0.095238</td>\n",
       "      <td>0.703467</td>\n",
       "      <td>1</td>\n",
       "      <td>-0.689934</td>\n",
       "      <td>20.0</td>\n",
       "    </tr>\n",
       "    <tr>\n",
       "      <th>95</th>\n",
       "      <td>Heineken Open</td>\n",
       "      <td>Outdoor</td>\n",
       "      <td>Hard</td>\n",
       "      <td>1st Round</td>\n",
       "      <td>Black B.</td>\n",
       "      <td>Chang M.</td>\n",
       "      <td>70.0</td>\n",
       "      <td>50.0</td>\n",
       "      <td>0.5</td>\n",
       "      <td>-1.000000</td>\n",
       "      <td>...</td>\n",
       "      <td>0.500000</td>\n",
       "      <td>0.0</td>\n",
       "      <td>0.0</td>\n",
       "      <td>0.100000</td>\n",
       "      <td>1.100000</td>\n",
       "      <td>-0.166667</td>\n",
       "      <td>0.916667</td>\n",
       "      <td>0</td>\n",
       "      <td>-1.000000</td>\n",
       "      <td>20.0</td>\n",
       "    </tr>\n",
       "    <tr>\n",
       "      <th>96</th>\n",
       "      <td>Heineken Open</td>\n",
       "      <td>Outdoor</td>\n",
       "      <td>Hard</td>\n",
       "      <td>1st Round</td>\n",
       "      <td>Ferrero J.C.</td>\n",
       "      <td>Federer R.</td>\n",
       "      <td>45.0</td>\n",
       "      <td>61.0</td>\n",
       "      <td>0.5</td>\n",
       "      <td>0.500000</td>\n",
       "      <td>...</td>\n",
       "      <td>0.000000</td>\n",
       "      <td>1.0</td>\n",
       "      <td>1.0</td>\n",
       "      <td>1.100000</td>\n",
       "      <td>1.857534</td>\n",
       "      <td>-0.150943</td>\n",
       "      <td>0.628068</td>\n",
       "      <td>1</td>\n",
       "      <td>-0.757534</td>\n",
       "      <td>-16.0</td>\n",
       "    </tr>\n",
       "    <tr>\n",
       "      <th>97</th>\n",
       "      <td>Heineken Open</td>\n",
       "      <td>Outdoor</td>\n",
       "      <td>Hard</td>\n",
       "      <td>1st Round</td>\n",
       "      <td>Gambill J.M.</td>\n",
       "      <td>Fromberg R.</td>\n",
       "      <td>57.0</td>\n",
       "      <td>80.0</td>\n",
       "      <td>0.5</td>\n",
       "      <td>0.000000</td>\n",
       "      <td>...</td>\n",
       "      <td>0.000000</td>\n",
       "      <td>1.0</td>\n",
       "      <td>1.0</td>\n",
       "      <td>2.084119</td>\n",
       "      <td>2.163354</td>\n",
       "      <td>-0.167883</td>\n",
       "      <td>0.509327</td>\n",
       "      <td>1</td>\n",
       "      <td>-0.079235</td>\n",
       "      <td>-23.0</td>\n",
       "    </tr>\n",
       "    <tr>\n",
       "      <th>...</th>\n",
       "      <td>...</td>\n",
       "      <td>...</td>\n",
       "      <td>...</td>\n",
       "      <td>...</td>\n",
       "      <td>...</td>\n",
       "      <td>...</td>\n",
       "      <td>...</td>\n",
       "      <td>...</td>\n",
       "      <td>...</td>\n",
       "      <td>...</td>\n",
       "      <td>...</td>\n",
       "      <td>...</td>\n",
       "      <td>...</td>\n",
       "      <td>...</td>\n",
       "      <td>...</td>\n",
       "      <td>...</td>\n",
       "      <td>...</td>\n",
       "      <td>...</td>\n",
       "      <td>...</td>\n",
       "      <td>...</td>\n",
       "      <td>...</td>\n",
       "    </tr>\n",
       "    <tr>\n",
       "      <th>53448</th>\n",
       "      <td>Other</td>\n",
       "      <td>Indoor</td>\n",
       "      <td>Hard</td>\n",
       "      <td>Quarterfinals</td>\n",
       "      <td>Millman J.</td>\n",
       "      <td>Pospisil V.</td>\n",
       "      <td>38.0</td>\n",
       "      <td>74.0</td>\n",
       "      <td>0.5</td>\n",
       "      <td>0.200000</td>\n",
       "      <td>...</td>\n",
       "      <td>0.200000</td>\n",
       "      <td>1.0</td>\n",
       "      <td>1.0</td>\n",
       "      <td>1.156403</td>\n",
       "      <td>1.448456</td>\n",
       "      <td>-0.321429</td>\n",
       "      <td>0.556059</td>\n",
       "      <td>0</td>\n",
       "      <td>-0.292053</td>\n",
       "      <td>-36.0</td>\n",
       "    </tr>\n",
       "    <tr>\n",
       "      <th>53449</th>\n",
       "      <td>Other</td>\n",
       "      <td>Indoor</td>\n",
       "      <td>Hard</td>\n",
       "      <td>Quarterfinals</td>\n",
       "      <td>Caruso S.</td>\n",
       "      <td>Gasquet R.</td>\n",
       "      <td>82.0</td>\n",
       "      <td>49.0</td>\n",
       "      <td>0.5</td>\n",
       "      <td>-0.200000</td>\n",
       "      <td>...</td>\n",
       "      <td>-0.066667</td>\n",
       "      <td>0.0</td>\n",
       "      <td>1.0</td>\n",
       "      <td>0.642802</td>\n",
       "      <td>1.296198</td>\n",
       "      <td>-0.251908</td>\n",
       "      <td>0.668488</td>\n",
       "      <td>0</td>\n",
       "      <td>-0.653396</td>\n",
       "      <td>33.0</td>\n",
       "    </tr>\n",
       "    <tr>\n",
       "      <th>53450</th>\n",
       "      <td>Other</td>\n",
       "      <td>Indoor</td>\n",
       "      <td>Hard</td>\n",
       "      <td>Semifinals</td>\n",
       "      <td>Sinner J.</td>\n",
       "      <td>Mannarino A.</td>\n",
       "      <td>44.0</td>\n",
       "      <td>35.0</td>\n",
       "      <td>0.5</td>\n",
       "      <td>0.466667</td>\n",
       "      <td>...</td>\n",
       "      <td>0.333333</td>\n",
       "      <td>1.0</td>\n",
       "      <td>1.0</td>\n",
       "      <td>1.259033</td>\n",
       "      <td>1.331611</td>\n",
       "      <td>-0.113924</td>\n",
       "      <td>0.514008</td>\n",
       "      <td>1</td>\n",
       "      <td>-0.072578</td>\n",
       "      <td>9.0</td>\n",
       "    </tr>\n",
       "    <tr>\n",
       "      <th>53451</th>\n",
       "      <td>Other</td>\n",
       "      <td>Indoor</td>\n",
       "      <td>Hard</td>\n",
       "      <td>Semifinals</td>\n",
       "      <td>Gasquet R.</td>\n",
       "      <td>Pospisil V.</td>\n",
       "      <td>49.0</td>\n",
       "      <td>74.0</td>\n",
       "      <td>0.4</td>\n",
       "      <td>0.066667</td>\n",
       "      <td>...</td>\n",
       "      <td>0.200000</td>\n",
       "      <td>1.0</td>\n",
       "      <td>1.0</td>\n",
       "      <td>1.296198</td>\n",
       "      <td>1.448456</td>\n",
       "      <td>-0.203252</td>\n",
       "      <td>0.527737</td>\n",
       "      <td>0</td>\n",
       "      <td>-0.152259</td>\n",
       "      <td>-25.0</td>\n",
       "    </tr>\n",
       "    <tr>\n",
       "      <th>53452</th>\n",
       "      <td>Other</td>\n",
       "      <td>Indoor</td>\n",
       "      <td>Hard</td>\n",
       "      <td>The Final</td>\n",
       "      <td>Sinner J.</td>\n",
       "      <td>Pospisil V.</td>\n",
       "      <td>44.0</td>\n",
       "      <td>74.0</td>\n",
       "      <td>0.5</td>\n",
       "      <td>0.600000</td>\n",
       "      <td>...</td>\n",
       "      <td>0.333333</td>\n",
       "      <td>1.0</td>\n",
       "      <td>1.0</td>\n",
       "      <td>1.259033</td>\n",
       "      <td>1.448456</td>\n",
       "      <td>-0.254237</td>\n",
       "      <td>0.534981</td>\n",
       "      <td>1</td>\n",
       "      <td>-0.189423</td>\n",
       "      <td>-30.0</td>\n",
       "    </tr>\n",
       "  </tbody>\n",
       "</table>\n",
       "<p>46259 rows × 22 columns</p>\n",
       "</div>"
      ],
      "text/plain": [
       "          Tournament    Court Surface          Round             A  \\\n",
       "93     Heineken Open  Outdoor    Hard      1st Round   Balcells J.   \n",
       "94     Heineken Open  Outdoor    Hard      1st Round    Behrend T.   \n",
       "95     Heineken Open  Outdoor    Hard      1st Round      Black B.   \n",
       "96     Heineken Open  Outdoor    Hard      1st Round  Ferrero J.C.   \n",
       "97     Heineken Open  Outdoor    Hard      1st Round  Gambill J.M.   \n",
       "...              ...      ...     ...            ...           ...   \n",
       "53448          Other   Indoor    Hard  Quarterfinals    Millman J.   \n",
       "53449          Other   Indoor    Hard  Quarterfinals     Caruso S.   \n",
       "53450          Other   Indoor    Hard     Semifinals     Sinner J.   \n",
       "53451          Other   Indoor    Hard     Semifinals    Gasquet R.   \n",
       "53452          Other   Indoor    Hard      The Final     Sinner J.   \n",
       "\n",
       "                  B  A_rank  B_rank  A_hist_form    A_form  ...    B_form  \\\n",
       "93     Squillari F.   211.0    49.0          0.5 -1.000000  ...  0.000000   \n",
       "94      Hantschk M.   115.0    95.0          0.0  0.000000  ...  0.600000   \n",
       "95         Chang M.    70.0    50.0          0.5 -1.000000  ...  0.500000   \n",
       "96       Federer R.    45.0    61.0          0.5  0.500000  ...  0.000000   \n",
       "97      Fromberg R.    57.0    80.0          0.5  0.000000  ...  0.000000   \n",
       "...             ...     ...     ...          ...       ...  ...       ...   \n",
       "53448   Pospisil V.    38.0    74.0          0.5  0.200000  ...  0.200000   \n",
       "53449    Gasquet R.    82.0    49.0          0.5 -0.200000  ... -0.066667   \n",
       "53450  Mannarino A.    44.0    35.0          0.5  0.466667  ...  0.333333   \n",
       "53451   Pospisil V.    49.0    74.0          0.4  0.066667  ...  0.200000   \n",
       "53452   Pospisil V.    44.0    74.0          0.5  0.600000  ...  0.333333   \n",
       "\n",
       "       B_court_form  B_surface_form   A_alpha   B_alpha  ranking_p   alpha_p  \\\n",
       "93              1.0             1.0  1.286733  0.993303  -0.623077  0.564348   \n",
       "94              1.0             1.0  0.502757  1.192691  -0.095238  0.703467   \n",
       "95              0.0             0.0  0.100000  1.100000  -0.166667  0.916667   \n",
       "96              1.0             1.0  1.100000  1.857534  -0.150943  0.628068   \n",
       "97              1.0             1.0  2.084119  2.163354  -0.167883  0.509327   \n",
       "...             ...             ...       ...       ...        ...       ...   \n",
       "53448           1.0             1.0  1.156403  1.448456  -0.321429  0.556059   \n",
       "53449           0.0             1.0  0.642802  1.296198  -0.251908  0.668488   \n",
       "53450           1.0             1.0  1.259033  1.331611  -0.113924  0.514008   \n",
       "53451           1.0             1.0  1.296198  1.448456  -0.203252  0.527737   \n",
       "53452           1.0             1.0  1.259033  1.448456  -0.254237  0.534981   \n",
       "\n",
       "       y   d_alpha  d_rank  \n",
       "93     1  0.293430   162.0  \n",
       "94     1 -0.689934    20.0  \n",
       "95     0 -1.000000    20.0  \n",
       "96     1 -0.757534   -16.0  \n",
       "97     1 -0.079235   -23.0  \n",
       "...   ..       ...     ...  \n",
       "53448  0 -0.292053   -36.0  \n",
       "53449  0 -0.653396    33.0  \n",
       "53450  1 -0.072578     9.0  \n",
       "53451  0 -0.152259   -25.0  \n",
       "53452  1 -0.189423   -30.0  \n",
       "\n",
       "[46259 rows x 22 columns]"
      ]
     },
     "execution_count": 24,
     "metadata": {},
     "output_type": "execute_result"
    }
   ],
   "source": [
    "# quickly add more features, easier to do this after relabelling A/B\n",
    "formatted_mens_df['d_alpha'] = formatted_mens_df['A_alpha']-formatted_mens_df['B_alpha']\n",
    "formatted_mens_df['d_rank'] = formatted_mens_df['A_rank']-formatted_mens_df['B_rank']\n",
    "formatted_mens_df.drop(['B_hist_form'],axis=1,inplace=True) # Drop B_hist_form as it's 1-A_hist_form\n",
    "formatted_mens_df"
   ]
  },
  {
   "cell_type": "code",
   "execution_count": null,
   "metadata": {},
   "outputs": [],
   "source": []
  },
  {
   "cell_type": "code",
   "execution_count": 39,
   "metadata": {},
   "outputs": [],
   "source": [
    "cols_to_ignore = categorical_cols = ['Tournament', 'Court', 'Surface', 'Round', 'A', 'B','y']\n",
    "\n",
    "X = formatted_mens_df.loc[:, [ x for x in formatted_mens_df.columns if x not in cols_to_ignore]]\n",
    "y = formatted_mens_df['y']"
   ]
  },
  {
   "cell_type": "code",
   "execution_count": 58,
   "metadata": {},
   "outputs": [
    {
     "name": "stdout",
     "output_type": "stream",
     "text": [
      "[1.324e+03 1.303e+03 9.741e+02 1.343e+03 1.530e+00 1.736e+00 1.420e+03\n",
      " 1.241e+01 1.529e+01 1.989e+03 2.176e+03 2.493e+00 7.732e-01 5.131e+03\n",
      " 2.937e+03]\n"
     ]
    }
   ],
   "source": [
    "from numpy import set_printoptions\n",
    "from sklearn.feature_selection import SelectKBest\n",
    "from sklearn.feature_selection import f_classif\n",
    "\n",
    "# feature extraction\n",
    "test = SelectKBest(score_func=f_classif, k=4)\n",
    "fit = test.fit(X, y)\n",
    "# summarize scores\n",
    "set_printoptions(precision=3)\n",
    "print(fit.scores_)\n",
    "features = fit.transform(X)"
   ]
  },
  {
   "cell_type": "code",
   "execution_count": 59,
   "metadata": {},
   "outputs": [
    {
     "name": "stdout",
     "output_type": "stream",
     "text": [
      "d_alpha 5131.298113354098\n",
      "d_rank 2936.5236294215206\n",
      "B_alpha 2176.4763007313327\n",
      "A_alpha 1988.6608864969492\n",
      "B_form 1420.2947821651303\n",
      "A_form 1342.7726595482482\n",
      "A_rank 1324.1614187082703\n",
      "B_rank 1302.7096861521184\n",
      "A_hist_form 974.0774295845296\n",
      "B_surface_form 15.29448023267822\n",
      "B_court_form 12.413580571809135\n",
      "ranking_p 2.492521640788826\n",
      "A_surface_form 1.7355006544696352\n",
      "A_court_form 1.5297140237047466\n",
      "alpha_p 0.7731801639501608\n"
     ]
    }
   ],
   "source": [
    "sorted_features = sorted(zip(fit.scores_,range(len(fit.scores_))), key = lambda t: -t[0])\n",
    "for score,i in sorted_features:\n",
    "    print(X.columns[i],score)"
   ]
  },
  {
   "cell_type": "code",
   "execution_count": 61,
   "metadata": {},
   "outputs": [
    {
     "name": "stdout",
     "output_type": "stream",
     "text": [
      "[0.088 0.086 0.039 0.077 0.018 0.031 0.079 0.017 0.031 0.089 0.092 0.088\n",
      " 0.081 0.093 0.09 ]\n"
     ]
    }
   ],
   "source": [
    "from sklearn.ensemble import ExtraTreesClassifier\n",
    "model = ExtraTreesClassifier(n_estimators=10)\n",
    "model.fit(X, y)\n",
    "print(model.feature_importances_)"
   ]
  },
  {
   "cell_type": "code",
   "execution_count": 62,
   "metadata": {},
   "outputs": [
    {
     "name": "stdout",
     "output_type": "stream",
     "text": [
      "d_alpha 0.09299527697682991\n",
      "B_alpha 0.09245062158031882\n",
      "d_rank 0.08974357458727464\n",
      "A_alpha 0.08943135799202709\n",
      "ranking_p 0.08821803119825614\n",
      "A_rank 0.08795684256292742\n",
      "B_rank 0.0859923520571512\n",
      "alpha_p 0.08069728348367257\n",
      "B_form 0.07927647838113626\n",
      "A_form 0.07747163758984363\n",
      "A_hist_form 0.03899810684954945\n",
      "A_surface_form 0.031240122159098233\n",
      "B_surface_form 0.03114419219304069\n",
      "A_court_form 0.017652315470560023\n",
      "B_court_form 0.01673180691831396\n"
     ]
    }
   ],
   "source": [
    "sorted_features = sorted(zip(model.feature_importances_,range(len(model.feature_importances_))), key = lambda t: -t[0])\n",
    "for score,i in sorted_features:\n",
    "    print(X.columns[i],score)"
   ]
  },
  {
   "cell_type": "code",
   "execution_count": 63,
   "metadata": {},
   "outputs": [],
   "source": [
    "corr = X.corrwith(y,axis=0).sort_values(ascending=False)"
   ]
  },
  {
   "cell_type": "code",
   "execution_count": 64,
   "metadata": {},
   "outputs": [
    {
     "data": {
      "text/plain": [
       "d_alpha           0.315996\n",
       "A_alpha           0.203026\n",
       "A_form            0.167957\n",
       "B_rank            0.165502\n",
       "A_hist_form       0.143609\n",
       "ranking_p         0.007340\n",
       "A_surface_form    0.006125\n",
       "A_court_form      0.005751\n",
       "alpha_p          -0.004088\n",
       "B_court_form     -0.016380\n",
       "B_surface_form   -0.018181\n",
       "A_rank           -0.166822\n",
       "B_form           -0.172597\n",
       "B_alpha          -0.211985\n",
       "d_rank           -0.244322\n",
       "dtype: float64"
      ]
     },
     "execution_count": 64,
     "metadata": {},
     "output_type": "execute_result"
    }
   ],
   "source": [
    "corr"
   ]
  },
  {
   "cell_type": "markdown",
   "metadata": {},
   "source": [
    "## 4 - Exporting Data <a class=\"anchor\" id=4></a>"
   ]
  },
  {
   "cell_type": "code",
   "execution_count": 25,
   "metadata": {},
   "outputs": [],
   "source": [
    "categorical_cols = ['Tournament', 'Court', 'Surface', 'Round', 'A', 'B']"
   ]
  },
  {
   "cell_type": "code",
   "execution_count": 26,
   "metadata": {},
   "outputs": [],
   "source": [
    "dummy_mens_df = pd.get_dummies(formatted_mens_df,columns=categorical_cols)"
   ]
  },
  {
   "cell_type": "code",
   "execution_count": 29,
   "metadata": {},
   "outputs": [],
   "source": [
    "X = dummy_mens_df.iloc[:, dummy_mens_df.columns != 'y']\n",
    "y = dummy_mens_df['y']"
   ]
  },
  {
   "cell_type": "code",
   "execution_count": 30,
   "metadata": {},
   "outputs": [],
   "source": [
    "X_train, X_test, y_train, y_test = train_test_split(X, y, test_size=0.25, random_state=42)"
   ]
  },
  {
   "cell_type": "code",
   "execution_count": 31,
   "metadata": {},
   "outputs": [],
   "source": [
    "import pickle\n",
    "\n",
    "# Saving the objects:\n",
    "with open('train_test_split.pkl', 'wb') as f:\n",
    "    pickle.dump([X_train, X_test, y_train, y_test], f)"
   ]
  }
 ],
 "metadata": {
  "kernelspec": {
   "display_name": "Python 3",
   "language": "python",
   "name": "python3"
  },
  "language_info": {
   "codemirror_mode": {
    "name": "ipython",
    "version": 3
   },
   "file_extension": ".py",
   "mimetype": "text/x-python",
   "name": "python",
   "nbconvert_exporter": "python",
   "pygments_lexer": "ipython3",
   "version": "3.7.6"
  }
 },
 "nbformat": 4,
 "nbformat_minor": 4
}

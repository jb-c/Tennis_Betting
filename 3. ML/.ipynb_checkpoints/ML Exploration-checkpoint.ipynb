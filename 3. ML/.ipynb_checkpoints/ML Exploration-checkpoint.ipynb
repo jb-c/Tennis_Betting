{
 "cells": [
  {
   "cell_type": "markdown",
   "metadata": {},
   "source": [
    "# Machine Learning On Tennis Data\n",
    "## Contents\n",
    ">* [Setup](#0)\n",
    ">* [Adding Features](#1)\n",
    ">* [Pre-Processing](#2)\n",
    ">* [Feature Selection](#3)\n",
    ">* [Exporting Data](#4)"
   ]
  },
  {
   "cell_type": "markdown",
   "metadata": {},
   "source": [
    "## 0 - Setup <a class=\"anchor\" id=\"0\"></a>"
   ]
  },
  {
   "cell_type": "code",
   "execution_count": 1,
   "metadata": {},
   "outputs": [],
   "source": [
    "import pandas as pd\n",
    "import numpy as np\n",
    "from collections import defaultdict\n",
    "from sklearn.model_selection import train_test_split"
   ]
  },
  {
   "cell_type": "code",
   "execution_count": 2,
   "metadata": {},
   "outputs": [
    {
     "name": "stderr",
     "output_type": "stream",
     "text": [
      "K:\\Programs\\Anaconda\\lib\\site-packages\\IPython\\core\\interactiveshell.py:3063: DtypeWarning: Columns (11,12,15,16,17,18,38) have mixed types.Specify dtype option on import or set low_memory=False.\n",
      "  interactivity=interactivity, compiler=compiler, result=result)\n",
      "K:\\Programs\\Anaconda\\lib\\site-packages\\IPython\\core\\interactiveshell.py:3063: DtypeWarning: Columns (25,28,34) have mixed types.Specify dtype option on import or set low_memory=False.\n",
      "  interactivity=interactivity, compiler=compiler, result=result)\n"
     ]
    }
   ],
   "source": [
    "mens_df = pd.read_csv('../data/mens.csv',header=0,parse_dates=[\"Date\"])\n",
    "womens_df = pd.read_csv('../data/womens.csv',header=0,parse_dates=[\"Date\"])\n",
    "\n",
    "# Remove walkovers\n",
    "mens_df = mens_df[mens_df['Comment']!='Walkover']\n",
    "womens_df = womens_df[womens_df['Comment']!='Walkover']"
   ]
  },
  {
   "cell_type": "code",
   "execution_count": 3,
   "metadata": {},
   "outputs": [],
   "source": [
    "cols = ['WRank', 'LRank']\n",
    "mens_df[cols] = mens_df[cols].apply(pd.to_numeric, errors='coerce', axis=1)"
   ]
  },
  {
   "cell_type": "code",
   "execution_count": 4,
   "metadata": {},
   "outputs": [
    {
     "data": {
      "text/plain": [
       "(53203, 54)"
      ]
     },
     "execution_count": 4,
     "metadata": {},
     "output_type": "execute_result"
    }
   ],
   "source": [
    "mens_df.shape"
   ]
  },
  {
   "cell_type": "code",
   "execution_count": 5,
   "metadata": {},
   "outputs": [],
   "source": [
    "mens_df = mens_df[~mens_df['WRank'].isnull() & ~mens_df['LRank'].isnull()]"
   ]
  },
  {
   "cell_type": "code",
   "execution_count": 6,
   "metadata": {},
   "outputs": [
    {
     "data": {
      "text/plain": [
       "(53069, 54)"
      ]
     },
     "execution_count": 6,
     "metadata": {},
     "output_type": "execute_result"
    }
   ],
   "source": [
    "mens_df.shape"
   ]
  },
  {
   "cell_type": "markdown",
   "metadata": {},
   "source": [
    "## 1 - Adding Features <a class=\"anchor\" id=\"1\"></a>"
   ]
  },
  {
   "cell_type": "markdown",
   "metadata": {},
   "source": [
    "When we train this model, the data will be shuffled so we'll lose any notion of time. We can add a few easily computable features to capture some of this information. For the moment we can add\n",
    "* Streak - length of current winning streak\n",
    "* Prefered suface - boolen true if current surface has most wins (players play ~ 80 games/year so maybe look at last 30 games)\n",
    "* Prefered court - same as prefered surface for court\n",
    "* Historical winner - If the players have played before, who won?"
   ]
  },
  {
   "cell_type": "markdown",
   "metadata": {},
   "source": [
    "### Data Structures to do this\n",
    "We'll need some additional data structures to do this\n",
    "* A dict for tracking player wins\n",
    "> player -> dict = {'player_name':boolean,...}\n",
    "* A dict for tracking player preferences over time\n",
    "Hardcourt/carpet weighting/Greenset, Clay and Grass\n",
    "> player -> dict = {'winning streak':int,'losing streak':int,'court wins':int[],'surface wins':string[],'surface losses':string[]}"
   ]
  },
  {
   "cell_type": "code",
   "execution_count": 7,
   "metadata": {},
   "outputs": [],
   "source": [
    "complete_player_list = set(list(mens_df['Winner'].values)+list(mens_df['Loser'].values)) # a list of all unique players"
   ]
  },
  {
   "cell_type": "code",
   "execution_count": 8,
   "metadata": {},
   "outputs": [],
   "source": [
    "p_observables = {}\n",
    "historical_wins = {}\n",
    "\n",
    "for p in complete_player_list:\n",
    "    p_observables[p] = {'form':[],'court_wins':[],'surface_wins':[],'surface_losses':[]}\n",
    "    historical_wins[p] = defaultdict(lambda: 0.5,{}) # If have no data assume players evenly matched (hence the 0.5 default)"
   ]
  },
  {
   "cell_type": "code",
   "execution_count": 9,
   "metadata": {},
   "outputs": [],
   "source": [
    "n_wins_in_feature_lists = 20 #number of previous wins/losses to consider\n",
    "n_games_for_form_calc = 15 #number of games to consider for recent form"
   ]
  },
  {
   "cell_type": "code",
   "execution_count": 10,
   "metadata": {},
   "outputs": [],
   "source": [
    "def match_to_new_features(x):\n",
    "    data_to_return = []\n",
    "    \n",
    "    for i,p in enumerate([x.Winner,x.Loser]):\n",
    "        ## Historical results\n",
    "        hist_form = np.mean(historical_wins[p][[x.Winner,x.Loser][i-1]])\n",
    "        \n",
    "        ## Recent form\n",
    "        form = np.mean(p_observables[p]['form']) if (len(p_observables[p]['form'])>0) else 0.5 # Assume 0.5 if have no data\n",
    "        if (len(p_observables[p]['form'])>=n_games_for_form_calc): p_observables[p]['form'].pop()\n",
    "        \n",
    "        ## Court form\n",
    "        desired_court = 'Outdoor' if sum(p_observables[p]['court_wins']) > 0 else 'Indoor' # The court type with most recent wins\n",
    "        prefered_court = 1 if (x.Court == desired_court) else 0\n",
    "        \n",
    "        ## Surface form\n",
    "        try:\n",
    "            desired_surface = max(set(p_observables[p]['surface_wins']), key=p_observables[p]['surface_wins'].count)\n",
    "        except:\n",
    "            desired_surface = 'None'\n",
    "        try:\n",
    "            undesired_surface = max(set(p_observables[p]['surface_losses']), key=p_observables[p]['surface_losses'].count)\n",
    "        except:\n",
    "            undesired_surface = 'None'\n",
    "            \n",
    "        preferred_surface = 1 if x.Surface == desired_surface else (-1 if x.Surface == undesired_surface else 0)\n",
    "        \n",
    "        ## Updating the historical info for use next time\n",
    "        if i == 0: # On 1st loop so p is the winner\n",
    "            historical_wins[p][x.Loser] = [1] if historical_wins[p][x.Loser] == 0.5 else historical_wins[p][x.Loser]+[1] # Add a 1 to the list, if the list exsists else make a new list\n",
    "            \n",
    "            p_observables[p]['form'].insert(0,1)\n",
    "            \n",
    "            if (len(p_observables[p]['surface_wins']) > n_wins_in_feature_lists): p_observables[p]['surface_wins'].pop() # remove last item from list\n",
    "            p_observables[p]['surface_wins'].insert(0,x.Surface)\n",
    "            \n",
    "            if (len(p_observables[p]['court_wins']) > n_wins_in_feature_lists): p_observables[p]['court_wins'].pop() # if too long remove last one\n",
    "            p_observables[p]['court_wins'].insert(0,1 if x.Court=='Outdoor' else -1)\n",
    "        else:\n",
    "            historical_wins[p][x.Winner] = [0] if historical_wins[p][x.Winner] == 0.5 else historical_wins[p][x.Winner]+[0] # Add a 0 entry if list already exsists, else make a new list\n",
    "            \n",
    "            p_observables[p]['form'].insert(0,-1)\n",
    "            \n",
    "            if (len(p_observables[p]['surface_losses']) > n_wins_in_feature_lists): p_observables[p]['surface_losses'].pop() # remove last item from list\n",
    "            p_observables[p]['surface_losses'].insert(0,x.Surface)\n",
    "\n",
    "        data_to_return += [hist_form,form,prefered_court,preferred_surface]\n",
    "        \n",
    "    return data_to_return"
   ]
  },
  {
   "cell_type": "code",
   "execution_count": 11,
   "metadata": {},
   "outputs": [
    {
     "name": "stdout",
     "output_type": "stream",
     "text": [
      "Wall time: 29.7 s\n"
     ]
    }
   ],
   "source": [
    "%%time\n",
    "mens_df[['w_hist_form','w_form','w_court_form','w_surface_form','l_hist_form','l_form','l_court_form','l_surface_form']] = mens_df.apply(match_to_new_features,axis=1, result_type=\"expand\")"
   ]
  },
  {
   "cell_type": "markdown",
   "metadata": {},
   "source": [
    "### Adding alpha data"
   ]
  },
  {
   "cell_type": "code",
   "execution_count": 12,
   "metadata": {},
   "outputs": [
    {
     "data": {
      "text/html": [
       "<div>\n",
       "<style scoped>\n",
       "    .dataframe tbody tr th:only-of-type {\n",
       "        vertical-align: middle;\n",
       "    }\n",
       "\n",
       "    .dataframe tbody tr th {\n",
       "        vertical-align: top;\n",
       "    }\n",
       "\n",
       "    .dataframe thead th {\n",
       "        text-align: right;\n",
       "    }\n",
       "</style>\n",
       "<table border=\"1\" class=\"dataframe\">\n",
       "  <thead>\n",
       "    <tr style=\"text-align: right;\">\n",
       "      <th></th>\n",
       "      <th></th>\n",
       "      <th>p_dict</th>\n",
       "      <th>x</th>\n",
       "    </tr>\n",
       "    <tr>\n",
       "      <th>start</th>\n",
       "      <th>end</th>\n",
       "      <th></th>\n",
       "      <th></th>\n",
       "    </tr>\n",
       "  </thead>\n",
       "  <tbody>\n",
       "    <tr>\n",
       "      <th>2017-01-02</th>\n",
       "      <th>2017-04-01</th>\n",
       "      <td>{'Choinski J.': 0, 'Broady L.': 1, 'Delbonis F...</td>\n",
       "      <td>[0.7239695125774777, 1.069924249476819, 1.0938...</td>\n",
       "    </tr>\n",
       "    <tr>\n",
       "      <th>2002-05-27</th>\n",
       "      <th>2002-05-27</th>\n",
       "      <td>{'Pretzsch A.': 0, 'Larsson M.': 1, 'Pavel A.'...</td>\n",
       "      <td>[0.800685292740611, 0.964876756885678, 1.52120...</td>\n",
       "    </tr>\n",
       "    <tr>\n",
       "      <th>2012-05-22</th>\n",
       "      <th>2012-05-26</th>\n",
       "      <td>{'Del Bonis F.': 0, 'Blake J.': 1, 'Delbonis F...</td>\n",
       "      <td>[1.6033600263722116, 0.9296558179990959, 1.334...</td>\n",
       "    </tr>\n",
       "    <tr>\n",
       "      <th>2000-07-10</th>\n",
       "      <th>2000-07-10</th>\n",
       "      <td>{'Pretzsch A.': 0, 'Larsson M.': 1, 'Pavel A.'...</td>\n",
       "      <td>[1.0469830051536664, 1.7652306826038533, 1.447...</td>\n",
       "    </tr>\n",
       "    <tr>\n",
       "      <th>2013-09-16</th>\n",
       "      <th>2013-09-22</th>\n",
       "      <td>{'Del Bonis F.': 0, 'Broady L.': 1, 'Blake J.'...</td>\n",
       "      <td>[1.3234143857328917, 0.7012684908314621, 1.191...</td>\n",
       "    </tr>\n",
       "  </tbody>\n",
       "</table>\n",
       "</div>"
      ],
      "text/plain": [
       "                                                                  p_dict  \\\n",
       "start      end                                                             \n",
       "2017-01-02 2017-04-01  {'Choinski J.': 0, 'Broady L.': 1, 'Delbonis F...   \n",
       "2002-05-27 2002-05-27  {'Pretzsch A.': 0, 'Larsson M.': 1, 'Pavel A.'...   \n",
       "2012-05-22 2012-05-26  {'Del Bonis F.': 0, 'Blake J.': 1, 'Delbonis F...   \n",
       "2000-07-10 2000-07-10  {'Pretzsch A.': 0, 'Larsson M.': 1, 'Pavel A.'...   \n",
       "2013-09-16 2013-09-22  {'Del Bonis F.': 0, 'Broady L.': 1, 'Blake J.'...   \n",
       "\n",
       "                                                                       x  \n",
       "start      end                                                            \n",
       "2017-01-02 2017-04-01  [0.7239695125774777, 1.069924249476819, 1.0938...  \n",
       "2002-05-27 2002-05-27  [0.800685292740611, 0.964876756885678, 1.52120...  \n",
       "2012-05-22 2012-05-26  [1.6033600263722116, 0.9296558179990959, 1.334...  \n",
       "2000-07-10 2000-07-10  [1.0469830051536664, 1.7652306826038533, 1.447...  \n",
       "2013-09-16 2013-09-22  [1.3234143857328917, 0.7012684908314621, 1.191...  "
      ]
     },
     "execution_count": 12,
     "metadata": {},
     "output_type": "execute_result"
    }
   ],
   "source": [
    "alpha_df = pd.read_pickle(r\"K:\\Code\\Tennis_Betting\\2. Model exploration\\alphas\\mens_alphas.pickle\")\n",
    "alpha_df.dropna(inplace=True)\n",
    "alpha_df.head()"
   ]
  },
  {
   "cell_type": "code",
   "execution_count": 13,
   "metadata": {},
   "outputs": [],
   "source": [
    "dates_list = []\n",
    "for i,df in mens_df.groupby([mens_df.Date.dt.year,'ATP']):\n",
    "    dates_list.append((min(df['Date']),max(df['Date'])))\n",
    "dates_list=list(set(dates_list))"
   ]
  },
  {
   "cell_type": "code",
   "execution_count": 14,
   "metadata": {},
   "outputs": [],
   "source": [
    "for i,x in alpha_df.iterrows():\n",
    "    start=i[0];end=i[1];p_dict=x.p_dict; alpha = x.x; alpha[-1]=1.1 # avg alpha value\n",
    "    df_slice = mens_df.loc[(mens_df['Date']<=end) & (mens_df['Date']>=start),:]\n",
    "    mens_df.loc[(mens_df['Date']<=end) & (mens_df['Date']>=start),'w_alpha'] = alpha[df_slice['Winner'].map(p_dict).fillna(-1).astype('int')]\n",
    "    mens_df.loc[(mens_df['Date']<=end) & (mens_df['Date']>=start),'l_alpha'] = alpha[df_slice['Loser'].map(p_dict).fillna(-1).astype('int')]"
   ]
  },
  {
   "cell_type": "code",
   "execution_count": 15,
   "metadata": {},
   "outputs": [],
   "source": [
    "mens_df = mens_df[mens_df['w_alpha'].notna() & mens_df['l_alpha'].notna()]"
   ]
  },
  {
   "cell_type": "code",
   "execution_count": 16,
   "metadata": {},
   "outputs": [],
   "source": [
    "mens_df['ranking_p'] = -2*(mens_df[['WRank','LRank']].max(axis=1) / (mens_df['WRank'] + mens_df['LRank'])-0.5)\n",
    "mens_df['alpha_p'] = mens_df[['w_alpha','l_alpha']].max(axis=1) / (mens_df['w_alpha'] + mens_df['l_alpha'])"
   ]
  },
  {
   "cell_type": "code",
   "execution_count": 17,
   "metadata": {},
   "outputs": [
    {
     "data": {
      "text/plain": [
       "(50587, 66)"
      ]
     },
     "execution_count": 17,
     "metadata": {},
     "output_type": "execute_result"
    }
   ],
   "source": [
    "mens_df.shape"
   ]
  },
  {
   "cell_type": "markdown",
   "metadata": {},
   "source": [
    "## 2 - Pre-Processing <a class=\"anchor\" id=2></a>"
   ]
  },
  {
   "cell_type": "markdown",
   "metadata": {},
   "source": [
    "First remove data that we think isn't important\n",
    "> It's really important we remove the results for the match <br>"
   ]
  },
  {
   "cell_type": "code",
   "execution_count": 18,
   "metadata": {},
   "outputs": [],
   "source": [
    "cols_to_drop = ['ATP','Series','Location','Best of','W1', 'L1','W2', 'L2', 'W3', 'L3', 'W4', 'L4', 'W5', 'L5', 'Wsets', 'Lsets','Comment','CBW','GBW','IWW','SBW','B365W','B&WW','EXW','PSW','UBW','LBW','SJW','CBL','GBL','IWL','SBL','B365L','B&WL','EXL','PSL','UBL','LBL','SJL']\n",
    "\n",
    "filtered_mens_df = mens_df.drop(cols_to_drop,axis=1)"
   ]
  },
  {
   "cell_type": "code",
   "execution_count": 19,
   "metadata": {},
   "outputs": [],
   "source": [
    "## Replace tournament names which appear infrequently with other\n",
    "tournament_names_and_counts = filtered_mens_df['Tournament'].value_counts(normalize=True)\n",
    "infrequent_tournaments = list(tournament_names_and_counts[tournament_names_and_counts<0.01].index)\n",
    "\n",
    "filtered_mens_df.loc[filtered_mens_df['Tournament'].isin(infrequent_tournaments),'Tournament'] = 'Other'"
   ]
  },
  {
   "cell_type": "code",
   "execution_count": 20,
   "metadata": {},
   "outputs": [
    {
     "data": {
      "text/plain": [
       "array(['Hard', 'Clay', 'Grass'], dtype=object)"
      ]
     },
     "execution_count": 20,
     "metadata": {},
     "output_type": "execute_result"
    }
   ],
   "source": [
    "## Bundle surfaces into three categores\n",
    "surface_dict = {'Clay':'Clay','Grass':'Grass','Hard':'Hard','Carpet':'Hard','Greenset':'Hard'}\n",
    "mens_df.replace({\"Surface\": surface_dict},inplace=True)\n",
    "mens_df.Surface.unique()"
   ]
  },
  {
   "cell_type": "markdown",
   "metadata": {},
   "source": [
    "Now we need to swap the winner & loser about a bit so that the ML model doesn't always just pick the player in col 5"
   ]
  },
  {
   "cell_type": "code",
   "execution_count": 21,
   "metadata": {},
   "outputs": [],
   "source": [
    "winner_cols = [c for c in filtered_mens_df.columns if c[0].lower() == 'w'] + ['MaxW','AvgW']\n",
    "loser_cols = [c for c in filtered_mens_df.columns if (c[0].lower() == 'l' and c[0:2]!='LB')]  + ['MaxL','AvgL']\n",
    "other_cols = [c for c in filtered_mens_df.columns if not (c in winner_cols or c in loser_cols)]"
   ]
  },
  {
   "cell_type": "code",
   "execution_count": 22,
   "metadata": {},
   "outputs": [],
   "source": [
    "def random_transpose_of_data(x):\n",
    "    if np.random.choice([True,False]):\n",
    "        temp = x[winner_cols]\n",
    "        x[winner_cols] = x[loser_cols]\n",
    "        x[loser_cols] = temp\n",
    "        x['y'] = 0\n",
    "    else:\n",
    "        x['y'] = 1\n",
    "    return x"
   ]
  },
  {
   "cell_type": "code",
   "execution_count": 23,
   "metadata": {},
   "outputs": [],
   "source": [
    "col_rename_dict = {'Winner':'A','Loser':'B','WRank':'A_rank','LRank':'B_rank'}\n",
    "for col in winner_cols:\n",
    "    if col not in  ['Winner','WRank'] + ['MaxW','AvgW']:\n",
    "        col_rename_dict[col]=\"A\"+col[1:]\n",
    "    elif col not in ['Winner','WRank']:\n",
    "        col_rename_dict[col] = \"A_\" + col[:-1] \n",
    "for col in loser_cols:\n",
    "    if col not in  ['Loser','LRank'] + ['MaxL','AvgL']:\n",
    "        col_rename_dict[col]=\"B\"+col[1:]\n",
    "    elif col not in ['Loser','LRank']:\n",
    "        col_rename_dict[col] = \"B_\" + col[:-1] \n",
    "for col in other_cols:\n",
    "    col_rename_dict[col] = col"
   ]
  },
  {
   "cell_type": "code",
   "execution_count": 24,
   "metadata": {},
   "outputs": [
    {
     "name": "stdout",
     "output_type": "stream",
     "text": [
      "Wall time: 1min 30s\n"
     ]
    }
   ],
   "source": [
    "%%time\n",
    "formatted_mens_df = filtered_mens_df.apply(random_transpose_of_data,axis=1).rename(columns=col_rename_dict)"
   ]
  },
  {
   "cell_type": "markdown",
   "metadata": {},
   "source": [
    "## 3 - Feature Selection <a class=\"anchor\" id=3></a>"
   ]
  },
  {
   "cell_type": "markdown",
   "metadata": {},
   "source": [
    "Adding a few more quick features"
   ]
  },
  {
   "cell_type": "code",
   "execution_count": 25,
   "metadata": {},
   "outputs": [
    {
     "data": {
      "text/html": [
       "<div>\n",
       "<style scoped>\n",
       "    .dataframe tbody tr th:only-of-type {\n",
       "        vertical-align: middle;\n",
       "    }\n",
       "\n",
       "    .dataframe tbody tr th {\n",
       "        vertical-align: top;\n",
       "    }\n",
       "\n",
       "    .dataframe thead th {\n",
       "        text-align: right;\n",
       "    }\n",
       "</style>\n",
       "<table border=\"1\" class=\"dataframe\">\n",
       "  <thead>\n",
       "    <tr style=\"text-align: right;\">\n",
       "      <th></th>\n",
       "      <th>Tournament</th>\n",
       "      <th>Date</th>\n",
       "      <th>Court</th>\n",
       "      <th>Surface</th>\n",
       "      <th>Round</th>\n",
       "      <th>A</th>\n",
       "      <th>B</th>\n",
       "      <th>A_rank</th>\n",
       "      <th>B_rank</th>\n",
       "      <th>APts</th>\n",
       "      <th>...</th>\n",
       "      <th>B_form</th>\n",
       "      <th>B_court_form</th>\n",
       "      <th>B_surface_form</th>\n",
       "      <th>A_alpha</th>\n",
       "      <th>B_alpha</th>\n",
       "      <th>ranking_p</th>\n",
       "      <th>alpha_p</th>\n",
       "      <th>y</th>\n",
       "      <th>d_alpha</th>\n",
       "      <th>d_rank</th>\n",
       "    </tr>\n",
       "  </thead>\n",
       "  <tbody>\n",
       "    <tr>\n",
       "      <th>93</th>\n",
       "      <td>Other</td>\n",
       "      <td>2000-01-10</td>\n",
       "      <td>Outdoor</td>\n",
       "      <td>Hard</td>\n",
       "      <td>1st Round</td>\n",
       "      <td>Balcells J.</td>\n",
       "      <td>Squillari F.</td>\n",
       "      <td>211.0</td>\n",
       "      <td>49.0</td>\n",
       "      <td>NaN</td>\n",
       "      <td>...</td>\n",
       "      <td>0.000000</td>\n",
       "      <td>1.0</td>\n",
       "      <td>1.0</td>\n",
       "      <td>1.286733</td>\n",
       "      <td>0.993303</td>\n",
       "      <td>-0.623077</td>\n",
       "      <td>0.564348</td>\n",
       "      <td>1</td>\n",
       "      <td>0.293430</td>\n",
       "      <td>162.0</td>\n",
       "    </tr>\n",
       "    <tr>\n",
       "      <th>94</th>\n",
       "      <td>Other</td>\n",
       "      <td>2000-01-10</td>\n",
       "      <td>Outdoor</td>\n",
       "      <td>Hard</td>\n",
       "      <td>1st Round</td>\n",
       "      <td>Hantschk M.</td>\n",
       "      <td>Behrend T.</td>\n",
       "      <td>95.0</td>\n",
       "      <td>115.0</td>\n",
       "      <td>NaN</td>\n",
       "      <td>...</td>\n",
       "      <td>0.000000</td>\n",
       "      <td>1.0</td>\n",
       "      <td>1.0</td>\n",
       "      <td>1.192691</td>\n",
       "      <td>0.502757</td>\n",
       "      <td>-0.095238</td>\n",
       "      <td>0.703467</td>\n",
       "      <td>0</td>\n",
       "      <td>0.689934</td>\n",
       "      <td>-20.0</td>\n",
       "    </tr>\n",
       "    <tr>\n",
       "      <th>95</th>\n",
       "      <td>Other</td>\n",
       "      <td>2000-01-10</td>\n",
       "      <td>Outdoor</td>\n",
       "      <td>Hard</td>\n",
       "      <td>1st Round</td>\n",
       "      <td>Black B.</td>\n",
       "      <td>Chang M.</td>\n",
       "      <td>70.0</td>\n",
       "      <td>50.0</td>\n",
       "      <td>NaN</td>\n",
       "      <td>...</td>\n",
       "      <td>0.500000</td>\n",
       "      <td>0.0</td>\n",
       "      <td>0.0</td>\n",
       "      <td>0.100000</td>\n",
       "      <td>1.100000</td>\n",
       "      <td>-0.166667</td>\n",
       "      <td>0.916667</td>\n",
       "      <td>0</td>\n",
       "      <td>-1.000000</td>\n",
       "      <td>20.0</td>\n",
       "    </tr>\n",
       "    <tr>\n",
       "      <th>96</th>\n",
       "      <td>Other</td>\n",
       "      <td>2000-01-10</td>\n",
       "      <td>Outdoor</td>\n",
       "      <td>Hard</td>\n",
       "      <td>1st Round</td>\n",
       "      <td>Ferrero J.C.</td>\n",
       "      <td>Federer R.</td>\n",
       "      <td>45.0</td>\n",
       "      <td>61.0</td>\n",
       "      <td>NaN</td>\n",
       "      <td>...</td>\n",
       "      <td>0.000000</td>\n",
       "      <td>1.0</td>\n",
       "      <td>1.0</td>\n",
       "      <td>1.100000</td>\n",
       "      <td>1.857534</td>\n",
       "      <td>-0.150943</td>\n",
       "      <td>0.628068</td>\n",
       "      <td>1</td>\n",
       "      <td>-0.757534</td>\n",
       "      <td>-16.0</td>\n",
       "    </tr>\n",
       "    <tr>\n",
       "      <th>97</th>\n",
       "      <td>Other</td>\n",
       "      <td>2000-01-10</td>\n",
       "      <td>Outdoor</td>\n",
       "      <td>Hard</td>\n",
       "      <td>1st Round</td>\n",
       "      <td>Fromberg R.</td>\n",
       "      <td>Gambill J.M.</td>\n",
       "      <td>80.0</td>\n",
       "      <td>57.0</td>\n",
       "      <td>NaN</td>\n",
       "      <td>...</td>\n",
       "      <td>0.000000</td>\n",
       "      <td>1.0</td>\n",
       "      <td>1.0</td>\n",
       "      <td>2.163354</td>\n",
       "      <td>2.084119</td>\n",
       "      <td>-0.167883</td>\n",
       "      <td>0.509327</td>\n",
       "      <td>0</td>\n",
       "      <td>0.079235</td>\n",
       "      <td>23.0</td>\n",
       "    </tr>\n",
       "    <tr>\n",
       "      <th>...</th>\n",
       "      <td>...</td>\n",
       "      <td>...</td>\n",
       "      <td>...</td>\n",
       "      <td>...</td>\n",
       "      <td>...</td>\n",
       "      <td>...</td>\n",
       "      <td>...</td>\n",
       "      <td>...</td>\n",
       "      <td>...</td>\n",
       "      <td>...</td>\n",
       "      <td>...</td>\n",
       "      <td>...</td>\n",
       "      <td>...</td>\n",
       "      <td>...</td>\n",
       "      <td>...</td>\n",
       "      <td>...</td>\n",
       "      <td>...</td>\n",
       "      <td>...</td>\n",
       "      <td>...</td>\n",
       "      <td>...</td>\n",
       "      <td>...</td>\n",
       "    </tr>\n",
       "    <tr>\n",
       "      <th>53463</th>\n",
       "      <td>Other</td>\n",
       "      <td>2020-11-20</td>\n",
       "      <td>Indoor</td>\n",
       "      <td>Hard</td>\n",
       "      <td>Round Robin</td>\n",
       "      <td>Zverev A.</td>\n",
       "      <td>Djokovic N.</td>\n",
       "      <td>7.0</td>\n",
       "      <td>1.0</td>\n",
       "      <td>5525.0</td>\n",
       "      <td>...</td>\n",
       "      <td>0.600000</td>\n",
       "      <td>0.0</td>\n",
       "      <td>-1.0</td>\n",
       "      <td>1.605476</td>\n",
       "      <td>1.637105</td>\n",
       "      <td>-0.750000</td>\n",
       "      <td>0.504877</td>\n",
       "      <td>0</td>\n",
       "      <td>-0.031629</td>\n",
       "      <td>6.0</td>\n",
       "    </tr>\n",
       "    <tr>\n",
       "      <th>53464</th>\n",
       "      <td>Other</td>\n",
       "      <td>2020-11-20</td>\n",
       "      <td>Indoor</td>\n",
       "      <td>Hard</td>\n",
       "      <td>Round Robin</td>\n",
       "      <td>Medvedev D.</td>\n",
       "      <td>Schwartzman D.</td>\n",
       "      <td>4.0</td>\n",
       "      <td>9.0</td>\n",
       "      <td>6970.0</td>\n",
       "      <td>...</td>\n",
       "      <td>0.333333</td>\n",
       "      <td>0.0</td>\n",
       "      <td>-1.0</td>\n",
       "      <td>1.506192</td>\n",
       "      <td>1.321431</td>\n",
       "      <td>-0.384615</td>\n",
       "      <td>0.532671</td>\n",
       "      <td>1</td>\n",
       "      <td>0.184762</td>\n",
       "      <td>-5.0</td>\n",
       "    </tr>\n",
       "    <tr>\n",
       "      <th>53465</th>\n",
       "      <td>Other</td>\n",
       "      <td>2020-11-21</td>\n",
       "      <td>Indoor</td>\n",
       "      <td>Hard</td>\n",
       "      <td>Semifinals</td>\n",
       "      <td>Djokovic N.</td>\n",
       "      <td>Thiem D.</td>\n",
       "      <td>1.0</td>\n",
       "      <td>3.0</td>\n",
       "      <td>11830.0</td>\n",
       "      <td>...</td>\n",
       "      <td>0.600000</td>\n",
       "      <td>0.0</td>\n",
       "      <td>1.0</td>\n",
       "      <td>1.637105</td>\n",
       "      <td>1.530198</td>\n",
       "      <td>-0.500000</td>\n",
       "      <td>0.516877</td>\n",
       "      <td>0</td>\n",
       "      <td>0.106907</td>\n",
       "      <td>-2.0</td>\n",
       "    </tr>\n",
       "    <tr>\n",
       "      <th>53466</th>\n",
       "      <td>Other</td>\n",
       "      <td>2020-11-21</td>\n",
       "      <td>Indoor</td>\n",
       "      <td>Hard</td>\n",
       "      <td>Semifinals</td>\n",
       "      <td>Medvedev D.</td>\n",
       "      <td>Nadal R.</td>\n",
       "      <td>4.0</td>\n",
       "      <td>2.0</td>\n",
       "      <td>6970.0</td>\n",
       "      <td>...</td>\n",
       "      <td>0.600000</td>\n",
       "      <td>0.0</td>\n",
       "      <td>1.0</td>\n",
       "      <td>1.506192</td>\n",
       "      <td>1.662794</td>\n",
       "      <td>-0.333333</td>\n",
       "      <td>0.524708</td>\n",
       "      <td>1</td>\n",
       "      <td>-0.156602</td>\n",
       "      <td>2.0</td>\n",
       "    </tr>\n",
       "    <tr>\n",
       "      <th>53467</th>\n",
       "      <td>Other</td>\n",
       "      <td>2020-11-22</td>\n",
       "      <td>Indoor</td>\n",
       "      <td>Hard</td>\n",
       "      <td>The Final</td>\n",
       "      <td>Thiem D.</td>\n",
       "      <td>Medvedev D.</td>\n",
       "      <td>3.0</td>\n",
       "      <td>4.0</td>\n",
       "      <td>9125.0</td>\n",
       "      <td>...</td>\n",
       "      <td>0.600000</td>\n",
       "      <td>1.0</td>\n",
       "      <td>1.0</td>\n",
       "      <td>1.530198</td>\n",
       "      <td>1.506192</td>\n",
       "      <td>-0.142857</td>\n",
       "      <td>0.503953</td>\n",
       "      <td>0</td>\n",
       "      <td>0.024006</td>\n",
       "      <td>-1.0</td>\n",
       "    </tr>\n",
       "  </tbody>\n",
       "</table>\n",
       "<p>50587 rows × 29 columns</p>\n",
       "</div>"
      ],
      "text/plain": [
       "      Tournament       Date    Court Surface        Round             A  \\\n",
       "93         Other 2000-01-10  Outdoor    Hard    1st Round   Balcells J.   \n",
       "94         Other 2000-01-10  Outdoor    Hard    1st Round   Hantschk M.   \n",
       "95         Other 2000-01-10  Outdoor    Hard    1st Round      Black B.   \n",
       "96         Other 2000-01-10  Outdoor    Hard    1st Round  Ferrero J.C.   \n",
       "97         Other 2000-01-10  Outdoor    Hard    1st Round   Fromberg R.   \n",
       "...          ...        ...      ...     ...          ...           ...   \n",
       "53463      Other 2020-11-20   Indoor    Hard  Round Robin     Zverev A.   \n",
       "53464      Other 2020-11-20   Indoor    Hard  Round Robin   Medvedev D.   \n",
       "53465      Other 2020-11-21   Indoor    Hard   Semifinals   Djokovic N.   \n",
       "53466      Other 2020-11-21   Indoor    Hard   Semifinals   Medvedev D.   \n",
       "53467      Other 2020-11-22   Indoor    Hard    The Final      Thiem D.   \n",
       "\n",
       "                    B  A_rank  B_rank     APts  ...    B_form  B_court_form  \\\n",
       "93       Squillari F.   211.0    49.0      NaN  ...  0.000000           1.0   \n",
       "94         Behrend T.    95.0   115.0      NaN  ...  0.000000           1.0   \n",
       "95           Chang M.    70.0    50.0      NaN  ...  0.500000           0.0   \n",
       "96         Federer R.    45.0    61.0      NaN  ...  0.000000           1.0   \n",
       "97       Gambill J.M.    80.0    57.0      NaN  ...  0.000000           1.0   \n",
       "...               ...     ...     ...      ...  ...       ...           ...   \n",
       "53463     Djokovic N.     7.0     1.0   5525.0  ...  0.600000           0.0   \n",
       "53464  Schwartzman D.     4.0     9.0   6970.0  ...  0.333333           0.0   \n",
       "53465        Thiem D.     1.0     3.0  11830.0  ...  0.600000           0.0   \n",
       "53466        Nadal R.     4.0     2.0   6970.0  ...  0.600000           0.0   \n",
       "53467     Medvedev D.     3.0     4.0   9125.0  ...  0.600000           1.0   \n",
       "\n",
       "       B_surface_form   A_alpha   B_alpha  ranking_p   alpha_p  y   d_alpha  \\\n",
       "93                1.0  1.286733  0.993303  -0.623077  0.564348  1  0.293430   \n",
       "94                1.0  1.192691  0.502757  -0.095238  0.703467  0  0.689934   \n",
       "95                0.0  0.100000  1.100000  -0.166667  0.916667  0 -1.000000   \n",
       "96                1.0  1.100000  1.857534  -0.150943  0.628068  1 -0.757534   \n",
       "97                1.0  2.163354  2.084119  -0.167883  0.509327  0  0.079235   \n",
       "...               ...       ...       ...        ...       ... ..       ...   \n",
       "53463            -1.0  1.605476  1.637105  -0.750000  0.504877  0 -0.031629   \n",
       "53464            -1.0  1.506192  1.321431  -0.384615  0.532671  1  0.184762   \n",
       "53465             1.0  1.637105  1.530198  -0.500000  0.516877  0  0.106907   \n",
       "53466             1.0  1.506192  1.662794  -0.333333  0.524708  1 -0.156602   \n",
       "53467             1.0  1.530198  1.506192  -0.142857  0.503953  0  0.024006   \n",
       "\n",
       "       d_rank  \n",
       "93      162.0  \n",
       "94      -20.0  \n",
       "95       20.0  \n",
       "96      -16.0  \n",
       "97       23.0  \n",
       "...       ...  \n",
       "53463     6.0  \n",
       "53464    -5.0  \n",
       "53465    -2.0  \n",
       "53466     2.0  \n",
       "53467    -1.0  \n",
       "\n",
       "[50587 rows x 29 columns]"
      ]
     },
     "execution_count": 25,
     "metadata": {},
     "output_type": "execute_result"
    }
   ],
   "source": [
    "# quickly add more features, easier to do this after relabelling A/B\n",
    "formatted_mens_df['d_alpha'] = formatted_mens_df['A_alpha']-formatted_mens_df['B_alpha']\n",
    "formatted_mens_df['d_rank'] = formatted_mens_df['A_rank']-formatted_mens_df['B_rank']\n",
    "formatted_mens_df.drop(['B_hist_form'],axis=1,inplace=True) # Drop B_hist_form as it's 1-A_hist_form\n",
    "formatted_mens_df"
   ]
  },
  {
   "cell_type": "code",
   "execution_count": 26,
   "metadata": {},
   "outputs": [],
   "source": [
    "formatted_mens_df.to_csv('../data/formatted_mens.csv',index=False)"
   ]
  },
  {
   "cell_type": "code",
   "execution_count": 27,
   "metadata": {},
   "outputs": [],
   "source": [
    "cols_to_ignore = ['Date','Tournament', 'Court', 'Surface', 'Round', 'A', 'B','y']\n",
    "\n",
    "X = formatted_mens_df.loc[:, [ x for x in formatted_mens_df.columns if x not in cols_to_ignore]]\n",
    "y = formatted_mens_df['y']"
   ]
  },
  {
   "cell_type": "raw",
   "metadata": {},
   "source": [
    "from numpy import set_printoptions\n",
    "from sklearn.feature_selection import SelectKBest\n",
    "from sklearn.feature_selection import f_classif\n",
    "\n",
    "# feature extraction\n",
    "test = SelectKBest(score_func=f_classif, k=4)\n",
    "fit = test.fit(X, y)\n",
    "# summarize scores\n",
    "set_printoptions(precision=3)\n",
    "print(fit.scores_)\n",
    "features = fit.transform(X)"
   ]
  },
  {
   "cell_type": "raw",
   "metadata": {},
   "source": [
    "sorted_features = sorted(zip(fit.scores_,range(len(fit.scores_))), key = lambda t: -t[0])\n",
    "for score,i in sorted_features:\n",
    "    print(X.columns[i],score)"
   ]
  },
  {
   "cell_type": "raw",
   "metadata": {},
   "source": [
    "from sklearn.ensemble import ExtraTreesClassifier\n",
    "model = ExtraTreesClassifier(n_estimators=10)\n",
    "model.fit(X, y)\n",
    "print(model.feature_importances_)"
   ]
  },
  {
   "cell_type": "raw",
   "metadata": {},
   "source": [
    "sorted_features = sorted(zip(model.feature_importances_,range(len(model.feature_importances_))), key = lambda t: -t[0])\n",
    "for score,i in sorted_features:\n",
    "    print(X.columns[i],score)"
   ]
  },
  {
   "cell_type": "code",
   "execution_count": 28,
   "metadata": {},
   "outputs": [],
   "source": [
    "corr = X.corrwith(y,axis=0).sort_values(ascending=False)"
   ]
  },
  {
   "cell_type": "code",
   "execution_count": 29,
   "metadata": {},
   "outputs": [
    {
     "data": {
      "text/plain": [
       "B_Avg             0.336002\n",
       "d_alpha           0.317410\n",
       "APts              0.209286\n",
       "A_alpha           0.206445\n",
       "A_form            0.165922\n",
       "B_rank            0.163554\n",
       "A_hist_form       0.141114\n",
       "A_court_form      0.018690\n",
       "A_surface_form    0.012151\n",
       "B_Max             0.010879\n",
       "ranking_p         0.005108\n",
       "alpha_p          -0.001236\n",
       "B_surface_form   -0.005700\n",
       "B_court_form     -0.006174\n",
       "A_Max            -0.011053\n",
       "A_rank           -0.169949\n",
       "B_form           -0.172668\n",
       "B_alpha          -0.210136\n",
       "BPts             -0.210340\n",
       "d_rank           -0.245055\n",
       "A_Avg            -0.332216\n",
       "dtype: float64"
      ]
     },
     "execution_count": 29,
     "metadata": {},
     "output_type": "execute_result"
    }
   ],
   "source": [
    "corr"
   ]
  },
  {
   "cell_type": "markdown",
   "metadata": {},
   "source": [
    "## 4 - Exporting Data <a class=\"anchor\" id=4></a>"
   ]
  },
  {
   "cell_type": "code",
   "execution_count": 30,
   "metadata": {},
   "outputs": [],
   "source": [
    "formatted_mens_df.sort_values(by='Date',inplace=True)\n",
    "formatted_mens_df = formatted_mens_df.dropna()"
   ]
  },
  {
   "cell_type": "code",
   "execution_count": 31,
   "metadata": {},
   "outputs": [
    {
     "data": {
      "text/html": [
       "<div>\n",
       "<style scoped>\n",
       "    .dataframe tbody tr th:only-of-type {\n",
       "        vertical-align: middle;\n",
       "    }\n",
       "\n",
       "    .dataframe tbody tr th {\n",
       "        vertical-align: top;\n",
       "    }\n",
       "\n",
       "    .dataframe thead th {\n",
       "        text-align: right;\n",
       "    }\n",
       "</style>\n",
       "<table border=\"1\" class=\"dataframe\">\n",
       "  <thead>\n",
       "    <tr style=\"text-align: right;\">\n",
       "      <th></th>\n",
       "      <th>Tournament</th>\n",
       "      <th>Date</th>\n",
       "      <th>Court</th>\n",
       "      <th>Surface</th>\n",
       "      <th>Round</th>\n",
       "      <th>A</th>\n",
       "      <th>B</th>\n",
       "      <th>A_rank</th>\n",
       "      <th>B_rank</th>\n",
       "      <th>APts</th>\n",
       "      <th>...</th>\n",
       "      <th>B_form</th>\n",
       "      <th>B_court_form</th>\n",
       "      <th>B_surface_form</th>\n",
       "      <th>A_alpha</th>\n",
       "      <th>B_alpha</th>\n",
       "      <th>ranking_p</th>\n",
       "      <th>alpha_p</th>\n",
       "      <th>y</th>\n",
       "      <th>d_alpha</th>\n",
       "      <th>d_rank</th>\n",
       "    </tr>\n",
       "  </thead>\n",
       "  <tbody>\n",
       "    <tr>\n",
       "      <th>26824</th>\n",
       "      <td>Other</td>\n",
       "      <td>2010-04-19</td>\n",
       "      <td>Outdoor</td>\n",
       "      <td>Clay</td>\n",
       "      <td>1st Round</td>\n",
       "      <td>Riba P.</td>\n",
       "      <td>Greul S.</td>\n",
       "      <td>98.0</td>\n",
       "      <td>60.0</td>\n",
       "      <td>549.0</td>\n",
       "      <td>...</td>\n",
       "      <td>-0.466667</td>\n",
       "      <td>1.0</td>\n",
       "      <td>-1.0</td>\n",
       "      <td>0.878284</td>\n",
       "      <td>0.885783</td>\n",
       "      <td>-0.240506</td>\n",
       "      <td>0.502125</td>\n",
       "      <td>0</td>\n",
       "      <td>-0.007499</td>\n",
       "      <td>38.0</td>\n",
       "    </tr>\n",
       "    <tr>\n",
       "      <th>26823</th>\n",
       "      <td>Other</td>\n",
       "      <td>2010-04-19</td>\n",
       "      <td>Outdoor</td>\n",
       "      <td>Clay</td>\n",
       "      <td>1st Round</td>\n",
       "      <td>Kubot L.</td>\n",
       "      <td>Granollers M.</td>\n",
       "      <td>41.0</td>\n",
       "      <td>93.0</td>\n",
       "      <td>977.0</td>\n",
       "      <td>...</td>\n",
       "      <td>-0.066667</td>\n",
       "      <td>1.0</td>\n",
       "      <td>1.0</td>\n",
       "      <td>1.065031</td>\n",
       "      <td>1.057037</td>\n",
       "      <td>-0.388060</td>\n",
       "      <td>0.501884</td>\n",
       "      <td>0</td>\n",
       "      <td>0.007994</td>\n",
       "      <td>-52.0</td>\n",
       "    </tr>\n",
       "    <tr>\n",
       "      <th>26822</th>\n",
       "      <td>Other</td>\n",
       "      <td>2010-04-19</td>\n",
       "      <td>Outdoor</td>\n",
       "      <td>Clay</td>\n",
       "      <td>1st Round</td>\n",
       "      <td>Zeballos H.</td>\n",
       "      <td>Cuevas P.</td>\n",
       "      <td>50.0</td>\n",
       "      <td>54.0</td>\n",
       "      <td>883.0</td>\n",
       "      <td>...</td>\n",
       "      <td>-0.200000</td>\n",
       "      <td>1.0</td>\n",
       "      <td>1.0</td>\n",
       "      <td>1.130595</td>\n",
       "      <td>1.092356</td>\n",
       "      <td>-0.038462</td>\n",
       "      <td>0.508601</td>\n",
       "      <td>0</td>\n",
       "      <td>0.038239</td>\n",
       "      <td>-4.0</td>\n",
       "    </tr>\n",
       "    <tr>\n",
       "      <th>26821</th>\n",
       "      <td>Other</td>\n",
       "      <td>2010-04-19</td>\n",
       "      <td>Outdoor</td>\n",
       "      <td>Clay</td>\n",
       "      <td>1st Round</td>\n",
       "      <td>Almagro N.</td>\n",
       "      <td>Ventura S.</td>\n",
       "      <td>34.0</td>\n",
       "      <td>129.0</td>\n",
       "      <td>1255.0</td>\n",
       "      <td>...</td>\n",
       "      <td>-0.333333</td>\n",
       "      <td>1.0</td>\n",
       "      <td>1.0</td>\n",
       "      <td>0.951979</td>\n",
       "      <td>1.110223</td>\n",
       "      <td>-0.582822</td>\n",
       "      <td>0.538368</td>\n",
       "      <td>1</td>\n",
       "      <td>-0.158244</td>\n",
       "      <td>-95.0</td>\n",
       "    </tr>\n",
       "    <tr>\n",
       "      <th>26825</th>\n",
       "      <td>Other</td>\n",
       "      <td>2010-04-19</td>\n",
       "      <td>Outdoor</td>\n",
       "      <td>Clay</td>\n",
       "      <td>1st Round</td>\n",
       "      <td>Andreev I.</td>\n",
       "      <td>Gasquet R.</td>\n",
       "      <td>48.0</td>\n",
       "      <td>78.0</td>\n",
       "      <td>885.0</td>\n",
       "      <td>...</td>\n",
       "      <td>-0.066667</td>\n",
       "      <td>1.0</td>\n",
       "      <td>0.0</td>\n",
       "      <td>1.246820</td>\n",
       "      <td>1.261685</td>\n",
       "      <td>-0.238095</td>\n",
       "      <td>0.502963</td>\n",
       "      <td>0</td>\n",
       "      <td>-0.014865</td>\n",
       "      <td>-30.0</td>\n",
       "    </tr>\n",
       "    <tr>\n",
       "      <th>...</th>\n",
       "      <td>...</td>\n",
       "      <td>...</td>\n",
       "      <td>...</td>\n",
       "      <td>...</td>\n",
       "      <td>...</td>\n",
       "      <td>...</td>\n",
       "      <td>...</td>\n",
       "      <td>...</td>\n",
       "      <td>...</td>\n",
       "      <td>...</td>\n",
       "      <td>...</td>\n",
       "      <td>...</td>\n",
       "      <td>...</td>\n",
       "      <td>...</td>\n",
       "      <td>...</td>\n",
       "      <td>...</td>\n",
       "      <td>...</td>\n",
       "      <td>...</td>\n",
       "      <td>...</td>\n",
       "      <td>...</td>\n",
       "      <td>...</td>\n",
       "    </tr>\n",
       "    <tr>\n",
       "      <th>53463</th>\n",
       "      <td>Other</td>\n",
       "      <td>2020-11-20</td>\n",
       "      <td>Indoor</td>\n",
       "      <td>Hard</td>\n",
       "      <td>Round Robin</td>\n",
       "      <td>Zverev A.</td>\n",
       "      <td>Djokovic N.</td>\n",
       "      <td>7.0</td>\n",
       "      <td>1.0</td>\n",
       "      <td>5525.0</td>\n",
       "      <td>...</td>\n",
       "      <td>0.600000</td>\n",
       "      <td>0.0</td>\n",
       "      <td>-1.0</td>\n",
       "      <td>1.605476</td>\n",
       "      <td>1.637105</td>\n",
       "      <td>-0.750000</td>\n",
       "      <td>0.504877</td>\n",
       "      <td>0</td>\n",
       "      <td>-0.031629</td>\n",
       "      <td>6.0</td>\n",
       "    </tr>\n",
       "    <tr>\n",
       "      <th>53464</th>\n",
       "      <td>Other</td>\n",
       "      <td>2020-11-20</td>\n",
       "      <td>Indoor</td>\n",
       "      <td>Hard</td>\n",
       "      <td>Round Robin</td>\n",
       "      <td>Medvedev D.</td>\n",
       "      <td>Schwartzman D.</td>\n",
       "      <td>4.0</td>\n",
       "      <td>9.0</td>\n",
       "      <td>6970.0</td>\n",
       "      <td>...</td>\n",
       "      <td>0.333333</td>\n",
       "      <td>0.0</td>\n",
       "      <td>-1.0</td>\n",
       "      <td>1.506192</td>\n",
       "      <td>1.321431</td>\n",
       "      <td>-0.384615</td>\n",
       "      <td>0.532671</td>\n",
       "      <td>1</td>\n",
       "      <td>0.184762</td>\n",
       "      <td>-5.0</td>\n",
       "    </tr>\n",
       "    <tr>\n",
       "      <th>53465</th>\n",
       "      <td>Other</td>\n",
       "      <td>2020-11-21</td>\n",
       "      <td>Indoor</td>\n",
       "      <td>Hard</td>\n",
       "      <td>Semifinals</td>\n",
       "      <td>Djokovic N.</td>\n",
       "      <td>Thiem D.</td>\n",
       "      <td>1.0</td>\n",
       "      <td>3.0</td>\n",
       "      <td>11830.0</td>\n",
       "      <td>...</td>\n",
       "      <td>0.600000</td>\n",
       "      <td>0.0</td>\n",
       "      <td>1.0</td>\n",
       "      <td>1.637105</td>\n",
       "      <td>1.530198</td>\n",
       "      <td>-0.500000</td>\n",
       "      <td>0.516877</td>\n",
       "      <td>0</td>\n",
       "      <td>0.106907</td>\n",
       "      <td>-2.0</td>\n",
       "    </tr>\n",
       "    <tr>\n",
       "      <th>53466</th>\n",
       "      <td>Other</td>\n",
       "      <td>2020-11-21</td>\n",
       "      <td>Indoor</td>\n",
       "      <td>Hard</td>\n",
       "      <td>Semifinals</td>\n",
       "      <td>Medvedev D.</td>\n",
       "      <td>Nadal R.</td>\n",
       "      <td>4.0</td>\n",
       "      <td>2.0</td>\n",
       "      <td>6970.0</td>\n",
       "      <td>...</td>\n",
       "      <td>0.600000</td>\n",
       "      <td>0.0</td>\n",
       "      <td>1.0</td>\n",
       "      <td>1.506192</td>\n",
       "      <td>1.662794</td>\n",
       "      <td>-0.333333</td>\n",
       "      <td>0.524708</td>\n",
       "      <td>1</td>\n",
       "      <td>-0.156602</td>\n",
       "      <td>2.0</td>\n",
       "    </tr>\n",
       "    <tr>\n",
       "      <th>53467</th>\n",
       "      <td>Other</td>\n",
       "      <td>2020-11-22</td>\n",
       "      <td>Indoor</td>\n",
       "      <td>Hard</td>\n",
       "      <td>The Final</td>\n",
       "      <td>Thiem D.</td>\n",
       "      <td>Medvedev D.</td>\n",
       "      <td>3.0</td>\n",
       "      <td>4.0</td>\n",
       "      <td>9125.0</td>\n",
       "      <td>...</td>\n",
       "      <td>0.600000</td>\n",
       "      <td>1.0</td>\n",
       "      <td>1.0</td>\n",
       "      <td>1.530198</td>\n",
       "      <td>1.506192</td>\n",
       "      <td>-0.142857</td>\n",
       "      <td>0.503953</td>\n",
       "      <td>0</td>\n",
       "      <td>0.024006</td>\n",
       "      <td>-1.0</td>\n",
       "    </tr>\n",
       "  </tbody>\n",
       "</table>\n",
       "<p>25323 rows × 29 columns</p>\n",
       "</div>"
      ],
      "text/plain": [
       "      Tournament       Date    Court Surface        Round            A  \\\n",
       "26824      Other 2010-04-19  Outdoor    Clay    1st Round      Riba P.   \n",
       "26823      Other 2010-04-19  Outdoor    Clay    1st Round     Kubot L.   \n",
       "26822      Other 2010-04-19  Outdoor    Clay    1st Round  Zeballos H.   \n",
       "26821      Other 2010-04-19  Outdoor    Clay    1st Round   Almagro N.   \n",
       "26825      Other 2010-04-19  Outdoor    Clay    1st Round   Andreev I.   \n",
       "...          ...        ...      ...     ...          ...          ...   \n",
       "53463      Other 2020-11-20   Indoor    Hard  Round Robin    Zverev A.   \n",
       "53464      Other 2020-11-20   Indoor    Hard  Round Robin  Medvedev D.   \n",
       "53465      Other 2020-11-21   Indoor    Hard   Semifinals  Djokovic N.   \n",
       "53466      Other 2020-11-21   Indoor    Hard   Semifinals  Medvedev D.   \n",
       "53467      Other 2020-11-22   Indoor    Hard    The Final     Thiem D.   \n",
       "\n",
       "                    B  A_rank  B_rank     APts  ...    B_form  B_court_form  \\\n",
       "26824        Greul S.    98.0    60.0    549.0  ... -0.466667           1.0   \n",
       "26823   Granollers M.    41.0    93.0    977.0  ... -0.066667           1.0   \n",
       "26822       Cuevas P.    50.0    54.0    883.0  ... -0.200000           1.0   \n",
       "26821      Ventura S.    34.0   129.0   1255.0  ... -0.333333           1.0   \n",
       "26825      Gasquet R.    48.0    78.0    885.0  ... -0.066667           1.0   \n",
       "...               ...     ...     ...      ...  ...       ...           ...   \n",
       "53463     Djokovic N.     7.0     1.0   5525.0  ...  0.600000           0.0   \n",
       "53464  Schwartzman D.     4.0     9.0   6970.0  ...  0.333333           0.0   \n",
       "53465        Thiem D.     1.0     3.0  11830.0  ...  0.600000           0.0   \n",
       "53466        Nadal R.     4.0     2.0   6970.0  ...  0.600000           0.0   \n",
       "53467     Medvedev D.     3.0     4.0   9125.0  ...  0.600000           1.0   \n",
       "\n",
       "       B_surface_form   A_alpha   B_alpha  ranking_p   alpha_p  y   d_alpha  \\\n",
       "26824            -1.0  0.878284  0.885783  -0.240506  0.502125  0 -0.007499   \n",
       "26823             1.0  1.065031  1.057037  -0.388060  0.501884  0  0.007994   \n",
       "26822             1.0  1.130595  1.092356  -0.038462  0.508601  0  0.038239   \n",
       "26821             1.0  0.951979  1.110223  -0.582822  0.538368  1 -0.158244   \n",
       "26825             0.0  1.246820  1.261685  -0.238095  0.502963  0 -0.014865   \n",
       "...               ...       ...       ...        ...       ... ..       ...   \n",
       "53463            -1.0  1.605476  1.637105  -0.750000  0.504877  0 -0.031629   \n",
       "53464            -1.0  1.506192  1.321431  -0.384615  0.532671  1  0.184762   \n",
       "53465             1.0  1.637105  1.530198  -0.500000  0.516877  0  0.106907   \n",
       "53466             1.0  1.506192  1.662794  -0.333333  0.524708  1 -0.156602   \n",
       "53467             1.0  1.530198  1.506192  -0.142857  0.503953  0  0.024006   \n",
       "\n",
       "       d_rank  \n",
       "26824    38.0  \n",
       "26823   -52.0  \n",
       "26822    -4.0  \n",
       "26821   -95.0  \n",
       "26825   -30.0  \n",
       "...       ...  \n",
       "53463     6.0  \n",
       "53464    -5.0  \n",
       "53465    -2.0  \n",
       "53466     2.0  \n",
       "53467    -1.0  \n",
       "\n",
       "[25323 rows x 29 columns]"
      ]
     },
     "execution_count": 31,
     "metadata": {},
     "output_type": "execute_result"
    }
   ],
   "source": [
    "formatted_mens_df"
   ]
  },
  {
   "cell_type": "code",
   "execution_count": 32,
   "metadata": {},
   "outputs": [],
   "source": [
    "categorical_cols = ['Tournament', 'Court', 'Surface', 'Round', 'A', 'B']"
   ]
  },
  {
   "cell_type": "code",
   "execution_count": 33,
   "metadata": {},
   "outputs": [],
   "source": [
    "dummy_mens_df = pd.get_dummies(formatted_mens_df,columns=categorical_cols,drop_first=True)"
   ]
  },
  {
   "cell_type": "code",
   "execution_count": 34,
   "metadata": {},
   "outputs": [],
   "source": [
    "X = dummy_mens_df.iloc[:, dummy_mens_df.columns != 'y']\n",
    "y = dummy_mens_df[['Date','y']]"
   ]
  },
  {
   "cell_type": "code",
   "execution_count": 35,
   "metadata": {},
   "outputs": [],
   "source": [
    "split_time = pd.to_datetime('2018-01-01')"
   ]
  },
  {
   "cell_type": "code",
   "execution_count": 36,
   "metadata": {},
   "outputs": [],
   "source": [
    "X_train = X.loc[X.Date<split_time,[col for col in X.columns if col != 'Date']]\n",
    "X_test = X.loc[X.Date>=split_time,[col for col in X.columns if col != 'Date']]\n",
    "y_train = y.loc[y.Date<split_time,'y']\n",
    "y_test = y.loc[y.Date>=split_time,'y']            "
   ]
  },
  {
   "cell_type": "code",
   "execution_count": 37,
   "metadata": {},
   "outputs": [
    {
     "name": "stdout",
     "output_type": "stream",
     "text": [
      "(19401, 1411)\n",
      "(5922, 1411)\n",
      "(19401,)\n",
      "(5922,)\n"
     ]
    }
   ],
   "source": [
    "for df in [X_train, X_test, y_train, y_test]:\n",
    "    print(df.shape)"
   ]
  },
  {
   "cell_type": "code",
   "execution_count": 38,
   "metadata": {},
   "outputs": [],
   "source": [
    "import pickle\n",
    "\n",
    "# Saving the objects:\n",
    "with open('train_test_split.pkl', 'wb') as f:\n",
    "    pickle.dump([X_train, X_test, y_train, y_test], f)"
   ]
  }
 ],
 "metadata": {
  "kernelspec": {
   "display_name": "Python 3",
   "language": "python",
   "name": "python3"
  },
  "language_info": {
   "codemirror_mode": {
    "name": "ipython",
    "version": 3
   },
   "file_extension": ".py",
   "mimetype": "text/x-python",
   "name": "python",
   "nbconvert_exporter": "python",
   "pygments_lexer": "ipython3",
   "version": "3.7.6"
  }
 },
 "nbformat": 4,
 "nbformat_minor": 4
}

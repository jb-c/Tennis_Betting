{
 "cells": [
  {
   "cell_type": "markdown",
   "metadata": {},
   "source": [
    "# Model Testing\n",
    "## Setup"
   ]
  },
  {
   "cell_type": "code",
   "execution_count": 1,
   "metadata": {},
   "outputs": [],
   "source": [
    "import pandas as pd\n",
    "import numpy as np\n",
    "import pickle\n",
    "import matplotlib.pyplot as plt"
   ]
  },
  {
   "cell_type": "markdown",
   "metadata": {},
   "source": [
    "## Reading in Alphas & Mapping To DF"
   ]
  },
  {
   "cell_type": "code",
   "execution_count": 2,
   "metadata": {
    "scrolled": true
   },
   "outputs": [
    {
     "data": {
      "text/html": [
       "<div>\n",
       "<style scoped>\n",
       "    .dataframe tbody tr th:only-of-type {\n",
       "        vertical-align: middle;\n",
       "    }\n",
       "\n",
       "    .dataframe tbody tr th {\n",
       "        vertical-align: top;\n",
       "    }\n",
       "\n",
       "    .dataframe thead th {\n",
       "        text-align: right;\n",
       "    }\n",
       "</style>\n",
       "<table border=\"1\" class=\"dataframe\">\n",
       "  <thead>\n",
       "    <tr style=\"text-align: right;\">\n",
       "      <th></th>\n",
       "      <th></th>\n",
       "      <th>p_dict</th>\n",
       "      <th>x</th>\n",
       "    </tr>\n",
       "    <tr>\n",
       "      <th>start</th>\n",
       "      <th>end</th>\n",
       "      <th></th>\n",
       "      <th></th>\n",
       "    </tr>\n",
       "  </thead>\n",
       "  <tbody>\n",
       "    <tr>\n",
       "      <th>2017-01-02</th>\n",
       "      <th>2017-04-01</th>\n",
       "      <td>{'Choinski J.': 0, 'Broady L.': 1, 'Delbonis F...</td>\n",
       "      <td>[0.7239695125774777, 1.069924249476819, 1.0938...</td>\n",
       "    </tr>\n",
       "    <tr>\n",
       "      <th>2002-05-27</th>\n",
       "      <th>2002-05-27</th>\n",
       "      <td>{'Pretzsch A.': 0, 'Larsson M.': 1, 'Pavel A.'...</td>\n",
       "      <td>[0.800685292740611, 0.964876756885678, 1.52120...</td>\n",
       "    </tr>\n",
       "    <tr>\n",
       "      <th>2012-05-22</th>\n",
       "      <th>2012-05-26</th>\n",
       "      <td>{'Del Bonis F.': 0, 'Blake J.': 1, 'Delbonis F...</td>\n",
       "      <td>[1.6033600263722116, 0.9296558179990959, 1.334...</td>\n",
       "    </tr>\n",
       "    <tr>\n",
       "      <th>2000-07-10</th>\n",
       "      <th>2000-07-10</th>\n",
       "      <td>{'Pretzsch A.': 0, 'Larsson M.': 1, 'Pavel A.'...</td>\n",
       "      <td>[1.0469830051536664, 1.7652306826038533, 1.447...</td>\n",
       "    </tr>\n",
       "    <tr>\n",
       "      <th>2013-09-16</th>\n",
       "      <th>2013-09-22</th>\n",
       "      <td>{'Del Bonis F.': 0, 'Broady L.': 1, 'Blake J.'...</td>\n",
       "      <td>[1.3234143857328917, 0.7012684908314621, 1.191...</td>\n",
       "    </tr>\n",
       "  </tbody>\n",
       "</table>\n",
       "</div>"
      ],
      "text/plain": [
       "                                                                  p_dict  \\\n",
       "start      end                                                             \n",
       "2017-01-02 2017-04-01  {'Choinski J.': 0, 'Broady L.': 1, 'Delbonis F...   \n",
       "2002-05-27 2002-05-27  {'Pretzsch A.': 0, 'Larsson M.': 1, 'Pavel A.'...   \n",
       "2012-05-22 2012-05-26  {'Del Bonis F.': 0, 'Blake J.': 1, 'Delbonis F...   \n",
       "2000-07-10 2000-07-10  {'Pretzsch A.': 0, 'Larsson M.': 1, 'Pavel A.'...   \n",
       "2013-09-16 2013-09-22  {'Del Bonis F.': 0, 'Broady L.': 1, 'Blake J.'...   \n",
       "\n",
       "                                                                       x  \n",
       "start      end                                                            \n",
       "2017-01-02 2017-04-01  [0.7239695125774777, 1.069924249476819, 1.0938...  \n",
       "2002-05-27 2002-05-27  [0.800685292740611, 0.964876756885678, 1.52120...  \n",
       "2012-05-22 2012-05-26  [1.6033600263722116, 0.9296558179990959, 1.334...  \n",
       "2000-07-10 2000-07-10  [1.0469830051536664, 1.7652306826038533, 1.447...  \n",
       "2013-09-16 2013-09-22  [1.3234143857328917, 0.7012684908314621, 1.191...  "
      ]
     },
     "execution_count": 2,
     "metadata": {},
     "output_type": "execute_result"
    }
   ],
   "source": [
    "alpha_df = pd.read_pickle(r\"K:\\Code\\Tennis_Betting\\2. Model exploration\\alphas\\mens_alphas.pickle\")\n",
    "alpha_df.dropna(inplace=True)\n",
    "alpha_df.head()"
   ]
  },
  {
   "cell_type": "code",
   "execution_count": 3,
   "metadata": {},
   "outputs": [
    {
     "data": {
      "text/html": [
       "<div>\n",
       "<style scoped>\n",
       "    .dataframe tbody tr th:only-of-type {\n",
       "        vertical-align: middle;\n",
       "    }\n",
       "\n",
       "    .dataframe tbody tr th {\n",
       "        vertical-align: top;\n",
       "    }\n",
       "\n",
       "    .dataframe thead th {\n",
       "        text-align: right;\n",
       "    }\n",
       "</style>\n",
       "<table border=\"1\" class=\"dataframe\">\n",
       "  <thead>\n",
       "    <tr style=\"text-align: right;\">\n",
       "      <th></th>\n",
       "      <th></th>\n",
       "      <th>p_dict</th>\n",
       "      <th>x</th>\n",
       "    </tr>\n",
       "    <tr>\n",
       "      <th>start</th>\n",
       "      <th>end</th>\n",
       "      <th></th>\n",
       "      <th></th>\n",
       "    </tr>\n",
       "  </thead>\n",
       "  <tbody>\n",
       "    <tr>\n",
       "      <th>2017-01-02</th>\n",
       "      <th>2017-04-01</th>\n",
       "      <td>{'Choinski J.': 0, 'Broady L.': 1, 'Delbonis F...</td>\n",
       "      <td>[0.7239695125774777, 1.069924249476819, 1.0938...</td>\n",
       "    </tr>\n",
       "    <tr>\n",
       "      <th>2002-05-27</th>\n",
       "      <th>2002-05-27</th>\n",
       "      <td>{'Pretzsch A.': 0, 'Larsson M.': 1, 'Pavel A.'...</td>\n",
       "      <td>[0.800685292740611, 0.964876756885678, 1.52120...</td>\n",
       "    </tr>\n",
       "    <tr>\n",
       "      <th>2012-05-22</th>\n",
       "      <th>2012-05-26</th>\n",
       "      <td>{'Del Bonis F.': 0, 'Blake J.': 1, 'Delbonis F...</td>\n",
       "      <td>[1.6033600263722116, 0.9296558179990959, 1.334...</td>\n",
       "    </tr>\n",
       "    <tr>\n",
       "      <th>2000-07-10</th>\n",
       "      <th>2000-07-10</th>\n",
       "      <td>{'Pretzsch A.': 0, 'Larsson M.': 1, 'Pavel A.'...</td>\n",
       "      <td>[1.0469830051536664, 1.7652306826038533, 1.447...</td>\n",
       "    </tr>\n",
       "    <tr>\n",
       "      <th>2013-09-16</th>\n",
       "      <th>2013-09-22</th>\n",
       "      <td>{'Del Bonis F.': 0, 'Broady L.': 1, 'Blake J.'...</td>\n",
       "      <td>[1.3234143857328917, 0.7012684908314621, 1.191...</td>\n",
       "    </tr>\n",
       "    <tr>\n",
       "      <th>...</th>\n",
       "      <th>...</th>\n",
       "      <td>...</td>\n",
       "      <td>...</td>\n",
       "    </tr>\n",
       "    <tr>\n",
       "      <th>2012-02-13</th>\n",
       "      <th>2012-02-19</th>\n",
       "      <td>{'Del Bonis F.': 0, 'Blake J.': 1, 'Pospisil J...</td>\n",
       "      <td>[1.2588770018146183, 1.0964543389583847, 0.783...</td>\n",
       "    </tr>\n",
       "    <tr>\n",
       "      <th>2005-04-04</th>\n",
       "      <th>2005-04-10</th>\n",
       "      <td>{'Pavel A.': 0, 'Healey N.': 1, 'Blake J.': 2,...</td>\n",
       "      <td>[1.337580038466781, 1.1393564862444177, 1.0461...</td>\n",
       "    </tr>\n",
       "    <tr>\n",
       "      <th>2011-04-18</th>\n",
       "      <th>2011-04-24</th>\n",
       "      <td>{'Del Bonis F.': 0, 'Pavel A.': 1, 'Blake J.':...</td>\n",
       "      <td>[0.7196013424409046, 0.7213967229564195, 0.974...</td>\n",
       "    </tr>\n",
       "    <tr>\n",
       "      <th>2009-11-02</th>\n",
       "      <th>2009-11-08</th>\n",
       "      <td>{'Del Bonis F.': 0, 'Djokovic N.': 1, 'De Chau...</td>\n",
       "      <td>[0.9019133682188569, 1.7466500231957, 1.111505...</td>\n",
       "    </tr>\n",
       "    <tr>\n",
       "      <th>2003-01-27</th>\n",
       "      <th>2003-02-02</th>\n",
       "      <td>{'Pretzsch A.': 0, 'Larsson M.': 1, 'Pavel A.'...</td>\n",
       "      <td>[0.7098023605141751, 1.0449374037136043, 1.332...</td>\n",
       "    </tr>\n",
       "  </tbody>\n",
       "</table>\n",
       "<p>671 rows × 2 columns</p>\n",
       "</div>"
      ],
      "text/plain": [
       "                                                                  p_dict  \\\n",
       "start      end                                                             \n",
       "2017-01-02 2017-04-01  {'Choinski J.': 0, 'Broady L.': 1, 'Delbonis F...   \n",
       "2002-05-27 2002-05-27  {'Pretzsch A.': 0, 'Larsson M.': 1, 'Pavel A.'...   \n",
       "2012-05-22 2012-05-26  {'Del Bonis F.': 0, 'Blake J.': 1, 'Delbonis F...   \n",
       "2000-07-10 2000-07-10  {'Pretzsch A.': 0, 'Larsson M.': 1, 'Pavel A.'...   \n",
       "2013-09-16 2013-09-22  {'Del Bonis F.': 0, 'Broady L.': 1, 'Blake J.'...   \n",
       "...                                                                  ...   \n",
       "2012-02-13 2012-02-19  {'Del Bonis F.': 0, 'Blake J.': 1, 'Pospisil J...   \n",
       "2005-04-04 2005-04-10  {'Pavel A.': 0, 'Healey N.': 1, 'Blake J.': 2,...   \n",
       "2011-04-18 2011-04-24  {'Del Bonis F.': 0, 'Pavel A.': 1, 'Blake J.':...   \n",
       "2009-11-02 2009-11-08  {'Del Bonis F.': 0, 'Djokovic N.': 1, 'De Chau...   \n",
       "2003-01-27 2003-02-02  {'Pretzsch A.': 0, 'Larsson M.': 1, 'Pavel A.'...   \n",
       "\n",
       "                                                                       x  \n",
       "start      end                                                            \n",
       "2017-01-02 2017-04-01  [0.7239695125774777, 1.069924249476819, 1.0938...  \n",
       "2002-05-27 2002-05-27  [0.800685292740611, 0.964876756885678, 1.52120...  \n",
       "2012-05-22 2012-05-26  [1.6033600263722116, 0.9296558179990959, 1.334...  \n",
       "2000-07-10 2000-07-10  [1.0469830051536664, 1.7652306826038533, 1.447...  \n",
       "2013-09-16 2013-09-22  [1.3234143857328917, 0.7012684908314621, 1.191...  \n",
       "...                                                                  ...  \n",
       "2012-02-13 2012-02-19  [1.2588770018146183, 1.0964543389583847, 0.783...  \n",
       "2005-04-04 2005-04-10  [1.337580038466781, 1.1393564862444177, 1.0461...  \n",
       "2011-04-18 2011-04-24  [0.7196013424409046, 0.7213967229564195, 0.974...  \n",
       "2009-11-02 2009-11-08  [0.9019133682188569, 1.7466500231957, 1.111505...  \n",
       "2003-01-27 2003-02-02  [0.7098023605141751, 1.0449374037136043, 1.332...  \n",
       "\n",
       "[671 rows x 2 columns]"
      ]
     },
     "execution_count": 3,
     "metadata": {},
     "output_type": "execute_result"
    }
   ],
   "source": [
    "alpha_df"
   ]
  },
  {
   "cell_type": "code",
   "execution_count": 4,
   "metadata": {},
   "outputs": [
    {
     "name": "stderr",
     "output_type": "stream",
     "text": [
      "K:\\Programs\\Anaconda\\lib\\site-packages\\IPython\\core\\interactiveshell.py:3063: DtypeWarning: Columns (11,12,15,16,17,18,38) have mixed types.Specify dtype option on import or set low_memory=False.\n",
      "  interactivity=interactivity, compiler=compiler, result=result)\n"
     ]
    }
   ],
   "source": [
    "mens_df = pd.read_csv('../data/mens.csv',header=0,parse_dates=[\"Date\"])\n",
    "mens_df = mens_df[mens_df['Comment']!='Walkover']\n",
    "\n",
    "cols_to_drop = ['Location','Tournament','Series','Court', 'Surface','Round', 'Best of', 'WRank', 'LRank', 'W1', 'L1','W2', 'L2', 'W3', 'L3', 'W4', 'L4', 'W5', 'L5', 'Wsets', 'Lsets','Comment', 'CBW', 'CBL', 'GBW', 'GBL', 'IWW', 'IWL', 'SBW', 'SBL','B365W', 'B365L', 'B&WW', 'B&WL', 'EXW', 'EXL', 'PSW', 'PSL', 'WPts','LPts', 'UBW', 'UBL', 'LBW', 'LBL', 'SJW', 'SJL', 'MaxW', 'MaxL','AvgW', 'AvgL']\n",
    "mens_df.drop(columns=cols_to_drop,inplace=True)"
   ]
  },
  {
   "cell_type": "code",
   "execution_count": 5,
   "metadata": {},
   "outputs": [],
   "source": [
    "dates_list = []\n",
    "for i,df in mens_df.groupby([mens_df.Date.dt.year,'ATP']):\n",
    "    dates_list.append((min(df['Date']),max(df['Date'])))\n",
    "dates_list=list(set(dates_list))"
   ]
  },
  {
   "cell_type": "code",
   "execution_count": 6,
   "metadata": {},
   "outputs": [
    {
     "data": {
      "text/plain": [
       "834"
      ]
     },
     "execution_count": 6,
     "metadata": {},
     "output_type": "execute_result"
    }
   ],
   "source": [
    "len(dates_list)"
   ]
  },
  {
   "cell_type": "code",
   "execution_count": 7,
   "metadata": {},
   "outputs": [],
   "source": [
    "for i,x in alpha_df.iterrows():\n",
    "    start=i[0];end=i[1];p_dict=x.p_dict; alpha = x.x; alpha[-1]=0.5\n",
    "    df_slice = mens_df.loc[(mens_df['Date']<=end) & (mens_df['Date']>=start),:]\n",
    "    mens_df.loc[(mens_df['Date']<=end) & (mens_df['Date']>=start),'w_alpha'] = alpha[df_slice['Winner'].map(p_dict).fillna(-1).astype('int')]\n",
    "    mens_df.loc[(mens_df['Date']<=end) & (mens_df['Date']>=start),'l_alpha'] = alpha[df_slice['Loser'].map(p_dict).fillna(-1).astype('int')]"
   ]
  },
  {
   "cell_type": "code",
   "execution_count": 14,
   "metadata": {},
   "outputs": [
    {
     "data": {
      "text/plain": [
       "0.12826344379076368"
      ]
     },
     "execution_count": 14,
     "metadata": {},
     "output_type": "execute_result"
    }
   ],
   "source": [
    "## % of data we don't have\n",
    "mens_df[mens_df['w_alpha'].isna() | mens_df['l_alpha'].isna()].shape[0]/mens_df.shape[0]"
   ]
  },
  {
   "cell_type": "code",
   "execution_count": 18,
   "metadata": {},
   "outputs": [],
   "source": [
    "mens_df = mens_df.loc[~mens_df['w_alpha'].isna() & ~mens_df['l_alpha'].isna(),:]"
   ]
  },
  {
   "cell_type": "markdown",
   "metadata": {},
   "source": [
    "## Testing Model Accuracy"
   ]
  },
  {
   "cell_type": "code",
   "execution_count": 19,
   "metadata": {},
   "outputs": [
    {
     "data": {
      "text/plain": [
       "0.6447961361823239"
      ]
     },
     "execution_count": 19,
     "metadata": {},
     "output_type": "execute_result"
    }
   ],
   "source": [
    "mens_df['Correct'] = mens_df['w_alpha'] > mens_df['l_alpha']\n",
    "mens_df['Correct'].mean()"
   ]
  },
  {
   "cell_type": "code",
   "execution_count": 20,
   "metadata": {},
   "outputs": [],
   "source": [
    "mens_df['p'] = mens_df[['w_alpha','l_alpha']].max(axis=1)/(mens_df['w_alpha']+mens_df['l_alpha'])"
   ]
  },
  {
   "cell_type": "code",
   "execution_count": 21,
   "metadata": {},
   "outputs": [],
   "source": [
    "x = np.linspace(0.5,0.95,100)\n",
    "y = []\n",
    "for p_threshold in x:\n",
    "    accuracy = round(mens_df[mens_df['p']>p_threshold]['Correct'].mean(),2)\n",
    "    y.append(accuracy)\n",
    "    #print(\"Betting on games which we are over \",p_threshold,\"confident in gives\",accuracy,\"% accuracy\")"
   ]
  },
  {
   "cell_type": "code",
   "execution_count": 22,
   "metadata": {},
   "outputs": [
    {
     "data": {
      "text/plain": [
       "[<matplotlib.lines.Line2D at 0x2f1c6da8948>]"
      ]
     },
     "execution_count": 22,
     "metadata": {},
     "output_type": "execute_result"
    },
    {
     "data": {
      "image/png": "[encoded data removed]",
      "text/plain": [
       "<Figure size 432x288 with 1 Axes>"
      ]
     },
     "metadata": {
      "needs_background": "light"
     },
     "output_type": "display_data"
    }
   ],
   "source": [
    "plt.plot(x,y)"
   ]
  },
  {
   "cell_type": "code",
   "execution_count": null,
   "metadata": {},
   "outputs": [],
   "source": []
  }
 ],
 "metadata": {
  "kernelspec": {
   "display_name": "Python 3",
   "language": "python",
   "name": "python3"
  },
  "language_info": {
   "codemirror_mode": {
    "name": "ipython",
    "version": 3
   },
   "file_extension": ".py",
   "mimetype": "text/x-python",
   "name": "python",
   "nbconvert_exporter": "python",
   "pygments_lexer": "ipython3",
   "version": "3.7.6"
  }
 },
 "nbformat": 4,
 "nbformat_minor": 4
}
